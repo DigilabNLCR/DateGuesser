{
 "cells": [
  {
   "cell_type": "markdown",
   "metadata": {},
   "source": [
    "# DateAuthorGuesser Development Notebook"
   ]
  },
  {
   "cell_type": "code",
   "execution_count": 1,
   "metadata": {},
   "outputs": [],
   "source": [
    "import os\n",
    "import json\n",
    "import re\n",
    "from collections import defaultdict\n",
    "import pandas as pd\n",
    "import time\n",
    "\n",
    "from sklearn.feature_extraction.text import CountVectorizer\n",
    "\n",
    "from joblib import load, dump"
   ]
  },
  {
   "cell_type": "code",
   "execution_count": 50,
   "metadata": {},
   "outputs": [],
   "source": [
    "\"\"\" PATHS \"\"\"\n",
    "\n",
    "ROOT_PATH = os.getcwd()\n",
    "JSON_PATH_HEYDUK = os.path.join(ROOT_PATH, 'Dataset', 'heyduk.json')\n",
    "\n",
    "DATA_PATH_HEYDUK = os.path.join(ROOT_PATH, 'Dataset', 'heyduk_data')\n",
    "\n",
    "MODELS_PATH = os.path.join(ROOT_PATH, 'models')\n",
    "\n",
    "GUESSES_PATH = os.path.join(ROOT_PATH, 'guesses')\n",
    "\n",
    "ANALYSIS_PATH = os.path.join(ROOT_PATH, 'analysis')"
   ]
  },
  {
   "cell_type": "code",
   "execution_count": null,
   "metadata": {},
   "outputs": [],
   "source": [
    "# TODO: When transforming this to .py files change \"window_size\" parameter to year_window_size, so as it is not confusing with the window_size parameter in the segmentation functions!!"
   ]
  },
  {
   "cell_type": "markdown",
   "metadata": {},
   "source": [
    "## PART ONE: trsnaforming heyduk.json to xml files"
   ]
  },
  {
   "cell_type": "code",
   "execution_count": 10,
   "metadata": {},
   "outputs": [],
   "source": [
    "heyduk_json = json.load(open(JSON_PATH_HEYDUK, 'r', encoding='utf-8'))"
   ]
  },
  {
   "cell_type": "code",
   "execution_count": 14,
   "metadata": {},
   "outputs": [],
   "source": [
    "def extract_composition_features_tokens(composition_data:dict, composition_name:str) -> dict:\n",
    "    \"\"\"\n",
    "    Extracts the tokens from the composition data.\n",
    "    \n",
    "    :param composition_data: The composition data.\n",
    "    :param composition_name: The name of the composition.\n",
    "    \"\"\"\n",
    "\n",
    "    out_data = {'composition': composition_name, 'year': 0, 'full_data': '', 'types': []}\n",
    "    \n",
    "    out_data['year'] = int(composition_data['source']['year_published'])\n",
    "\n",
    "    for element in composition_data['body']:\n",
    "        stanza_type = element['meter'][0]['type']\n",
    "        out_data['types'].append(stanza_type)\n",
    "\n",
    "        out_data['full_data'] += f'<stanza pattern=\"{element[\"rhythm_pattern\"]}\">\\n'\n",
    "        words_data = element['words']\n",
    "        for word in words_data:\n",
    "            out_data['full_data'] += f'\\t<token>form=\"{word['form']}\" lemma=\"{word['lemma']}\" upos=\"{word['upos']}\" xpos=\"{word['xpos']}\" feats=\"{word['feats']}\"</token>\\n'\n",
    "        out_data['full_data'] += '</stanza>\\n'\n",
    "\n",
    "    composition_types = list(set(out_data['types']))\n",
    "    # print(composition_types)\n",
    "    out_data['types'] = composition_types\n",
    "\n",
    "    out_data['full_data'] += f'<composition_info name=\"{composition_name}\" year=\"{out_data[\"year\"]}\" types=\"{out_data[\"types\"]}\"></composition_info>'\n",
    "\n",
    "    return out_data\n",
    "    "
   ]
  },
  {
   "cell_type": "code",
   "execution_count": 15,
   "metadata": {},
   "outputs": [],
   "source": [
    "\"\"\" Extracting the tokens from the Heyduk dataset \"\"\"\n",
    "\n",
    "years = []\n",
    "types = []\n",
    "\n",
    "for key in heyduk_json:\n",
    "    # print('processing', key)\n",
    "    composition_test = extract_composition_features_tokens(heyduk_json[key][0], key)\n",
    "\n",
    "    years.append(composition_test['year'])\n",
    "    types.append(composition_test['types'])\n",
    "\n",
    "    with open(os.path.join(DATA_PATH_HEYDUK, f'{key}.xml'), 'w', encoding='utf-8') as file_:\n",
    "        file_.write(composition_test['full_data'])"
   ]
  },
  {
   "cell_type": "markdown",
   "metadata": {},
   "source": [
    "## PART TWO: Working with XML files\n",
    "\n",
    "### Analysing dataset"
   ]
  },
  {
   "cell_type": "code",
   "execution_count": 35,
   "metadata": {},
   "outputs": [],
   "source": [
    "def extract_value(text, parameter):\n",
    "    \"\"\"\n",
    "    Extracts the value for a given parameter from the text.\n",
    "    \n",
    "    :param text: The text to extract from.\n",
    "    :param parameter: The parameter to search for.\n",
    "    :return: The extracted value.\n",
    "    \"\"\"\n",
    "    pattern = rf'{parameter}=\"([^\"]*)\"'\n",
    "    match = re.search(pattern, text)\n",
    "    return eval(match.group(1)) if match else None"
   ]
  },
  {
   "cell_type": "code",
   "execution_count": 36,
   "metadata": {},
   "outputs": [],
   "source": [
    "def get_year_et_types_from_composition(composition_name:str) -> tuple:\n",
    "    \"\"\"\n",
    "    Gets the year and types from the composition name.\n",
    "    \n",
    "    :param composition_name: The name of the composition.\n",
    "    \"\"\"\n",
    "\n",
    "    with open(os.path.join(DATA_PATH_HEYDUK, composition_name), 'r', encoding='utf-8') as file_:\n",
    "        data = file_.read()\n",
    "        lines = data.split('\\n')\n",
    "        comp_info = lines[-1]\n",
    "\n",
    "        year = extract_value(comp_info, 'year')\n",
    "        types = extract_value(comp_info, 'types')\n",
    "\n",
    "    return year, types"
   ]
  },
  {
   "cell_type": "code",
   "execution_count": 37,
   "metadata": {},
   "outputs": [
    {
     "name": "stdout",
     "output_type": "stream",
     "text": [
      "Years: [1858, 1859, 1864, 1865, 1873, 1873, 1874, 1876, 1878, 1879, 1881, 1882, 1883, 1883, 1883, 1884, 1884, 1885, 1885, 1886, 1886, 1888, 1888, 1888, 1890, 1894, 1894, 1897, 1897, 1897, 1898, 1898, 1898, 1899, 1899, 1899, 1899, 1899, 1899, 1900, 1900, 1900, 1900, 1900, 1901, 1901, 1901, 1901, 1902, 1902, 1902, 1903, 1904, 1905, 1906, 1908, 1908, 1908, 1908, 1909, 1910, 1910, 1910, 1913, 1913, 1919, 1920, 1920, 1920, 1921, 1921, 1921, 1923]\n",
      "Types: [['iamb', 'dactyl', 'trochee'], ['iamb'], ['trochee'], ['iamb'], ['trochee'], ['trochee'], ['trochee'], ['trochee'], ['trochee'], ['iamb', 'dactyl'], ['trochee'], ['iamb'], ['trochee'], ['iamb'], ['trochee'], ['trochee'], ['trochee'], ['trochee'], ['trochee'], ['trochee'], ['logaedic'], ['iamb'], ['trochee'], ['trochee'], ['iamb'], ['trochee'], ['trochee'], ['trochee'], ['iamb'], ['iamb'], ['iamb'], ['iamb'], ['trochee'], ['iamb'], ['trochee'], ['iamb'], ['trochee'], ['trochee'], ['iamb'], ['iamb'], ['iamb'], ['iamb'], ['iamb'], ['dactyl', 'trochee'], ['trochee'], ['iamb'], ['iamb'], ['trochee'], ['iamb'], ['iamb'], ['iamb'], ['trochee'], ['iamb'], ['iamb'], ['iamb'], ['iamb'], ['iamb'], ['iamb'], ['logaedic', 'dactyl', 'trochee'], ['iamb'], ['iamb'], ['iamb'], ['trochee'], ['trochee'], ['iamb'], ['iamb'], ['iamb'], ['iamb'], ['iamb'], ['trochee'], ['iamb'], ['logaedic'], ['trochee']]\n"
     ]
    }
   ],
   "source": [
    "years = []\n",
    "types = []\n",
    "\n",
    "for composition in os.listdir(DATA_PATH_HEYDUK):\n",
    "    year, type_ = get_year_et_types_from_composition(composition)\n",
    "    years.append(int(year))\n",
    "    types.append(type_)\n",
    "\n",
    "print('Years:', years)\n",
    "print('Types:', types)"
   ]
  },
  {
   "cell_type": "code",
   "execution_count": 38,
   "metadata": {},
   "outputs": [],
   "source": [
    "def group_years_into_windows(years, window_size=5):\n",
    "    \"\"\"\n",
    "    Group years into window-size-year windows and count occurrences.\n",
    "    \"\"\"\n",
    "    # Initialize empty dictionary for results\n",
    "    grouped_years = {}\n",
    "    \n",
    "    for year in years:\n",
    "        # Calculate the start year of the window (round down to nearest 5-year interval)\n",
    "        window_start = year - (year % window_size)\n",
    "        # Create the window label\n",
    "        window_label = f'{window_start}-{window_start + (window_size - 1)}'\n",
    "        # Increment the count for this window\n",
    "        grouped_years[window_label] = grouped_years.get(window_label, 0) + 1\n",
    "    \n",
    "    # Sort the dictionary by window start year\n",
    "    return dict(sorted(grouped_years.items()))\n",
    "\n",
    "def group_types(types):\n",
    "    \"\"\"\n",
    "    Group types into windows and count occurrences.\n",
    "    \"\"\"\n",
    "    grouped_types = {}\n",
    "    \n",
    "    for type_list in types:\n",
    "        type_tuple = tuple(sorted(type_list))  # Convert list to sorted tuple to handle order\n",
    "        grouped_types[type_tuple] = grouped_types.get(type_tuple, 0) + 1\n",
    "    \n",
    "    return grouped_types"
   ]
  },
  {
   "cell_type": "code",
   "execution_count": 39,
   "metadata": {},
   "outputs": [
    {
     "data": {
      "text/plain": [
       "{'1850-1859': 2,\n",
       " '1860-1869': 2,\n",
       " '1870-1879': 6,\n",
       " '1880-1889': 14,\n",
       " '1890-1899': 15,\n",
       " '1900-1909': 21,\n",
       " '1910-1919': 6,\n",
       " '1920-1929': 7}"
      ]
     },
     "execution_count": 39,
     "metadata": {},
     "output_type": "execute_result"
    }
   ],
   "source": [
    "group_years_into_windows(years, 10)\n",
    "\n",
    "# NOTE: window of 10 years will be used, because the data is sparse and for some years in 5-year windows there is only one composition."
   ]
  },
  {
   "cell_type": "code",
   "execution_count": 40,
   "metadata": {},
   "outputs": [
    {
     "data": {
      "text/plain": [
       "{('dactyl', 'iamb', 'trochee'): 1,\n",
       " ('iamb',): 37,\n",
       " ('trochee',): 30,\n",
       " ('dactyl', 'iamb'): 1,\n",
       " ('logaedic',): 2,\n",
       " ('dactyl', 'trochee'): 1,\n",
       " ('dactyl', 'logaedic', 'trochee'): 1}"
      ]
     },
     "execution_count": 40,
     "metadata": {},
     "output_type": "execute_result"
    }
   ],
   "source": [
    "group_types(types)\n",
    "\n",
    "# NOTE: do the types change the results?"
   ]
  },
  {
   "cell_type": "code",
   "execution_count": 12,
   "metadata": {},
   "outputs": [
    {
     "name": "stdout",
     "output_type": "stream",
     "text": [
      "\t<stanza pattern=\"01010001010\">\n",
      "\t\t<token>form=\"Vždy\" lemma=\"vždy\" upos=\"ADV\" xpos=\"Db-------------\" feats=\"PronType=Tot\"</token>\n",
      "\t\t<token>form=\"pevným\" lemma=\"pevný\" upos=\"ADJ\" xpos=\"AAMS7----1A----\" feats=\"Animacy=Anim|Case=Ins|Degree=Pos|Gender=Masc|Number=Sing|Polarity=Pos\"</token>\n",
      "\t\t<token>form=\"v\" lemma=\"v\" upos=\"ADP\" xpos=\"RR--6----------\" feats=\"AdpType=Prep|Case=Loc\"</token>\n",
      "\t\t<token>form=\"právu\" lemma=\"právo\" upos=\"NOUN\" xpos=\"NNNS6-----A----\" feats=\"Case=Loc|Gender=Neut|Number=Sing|Polarity=Pos\"</token>\n",
      "\t\t<token>form=\"buď\" lemma=\"buď\" upos=\"CCONJ\" xpos=\"J^-------------\" feats=\"_\"</token>\n",
      "\t\t<token>form=\"jak\" lemma=\"jak\" upos=\"SCONJ\" xpos=\"J,-------------\" feats=\"_\"</token>\n",
      "\t\t<token>form=\"živá\" lemma=\"živý\" upos=\"ADJ\" xpos=\"AAFS1----1A----\" feats=\"Case=Nom|Degree=Pos|Gender=Fem|Number=Sing|Polarity=Pos\"</token>\n",
      "\t\t<token>form=\"skála\" lemma=\"skála\" upos=\"NOUN\" xpos=\"NNFS1-----A----\" feats=\"Case=Nom|Gender=Fem|Number=Sing|Polarity=Pos\"</token>\n",
      "\t\t<token>form=\",\" lemma=\",\" upos=\"PUNCT\" xpos=\"Z:-------------\" feats=\"_\"</token>\n",
      "\t</stanza>\n",
      "\t<stanza pattern=\"0101010001\">\n",
      "\t\t<token>form=\"jež\" lemma=\"jenž\" upos=\"PRON\" xpos=\"PJFS1----------\" feats=\"Case=Nom|Gender=Fem|Number=Sing|PrepCase=Npr|PronType=Rel\"</token>\n",
      "\t\t<token>form=\",\" lemma=\",\" upos=\"PUNCT\" xpos=\"Z:-------------\" feats=\"_\"</token>\n",
      "\t\t<token>form=\"nechť\" lemma=\"nechť\" upos=\"PART\" xpos=\"TT-------------\" feats=\"_\"</token>\n",
      "\t\t<token>form=\"ji\" lemma=\"on\" upos=\"PRON\" xpos=\"PPFS4--3-------\" feats=\"Case=Acc|Gender=Fem|Number=Sing|Person=3|PrepCase=Npr|PronType=Prs\"</token>\n",
      "\t\t<token>form=\"krunýř\" lemma=\"krunýř\" upos=\"NOUN\" xpos=\"NNIS1-----A----\" feats=\"Animacy=Inan|Case=Nom|Gender=Masc|Number=Sing|Polarity=Pos\"</token>\n",
      "\t\t<token>form=\"nekryje\" lemma=\"krýt\" upos=\"VERB\" xpos=\"VB-S---3P-NA---\" feats=\"Mood=Ind|Number=Sing|Person=3|Polarity=Neg|Tense=Pres|VerbForm=Fin|Voice=Act\"</token>\n",
      "\t\t<token>form=\"ni\" lemma=\"ni\" upos=\"PRON\" xpos=\"P5FS4--3-------\" feats=\"Case=Acc|Gender=Fem|Number=Sing|Person=3|PrepCase=Pre|PronType=Prs\"</token>\n",
      "\t\t<token>form=\"plát\" lemma=\"plát\" upos=\"VERB\" xpos=\"Vf--------A----\" feats=\"Polarity=Pos|VerbForm=Inf\"</token>\n",
      "\t</stanza>\n",
      "\t<stanza pattern=\"01010001010\">\n",
      "\t\t<token>form=\"a\" lemma=\"a\" upos=\"CCONJ\" xpos=\"J^-------------\" feats=\"_\"</token>\n",
      "\t\t<token>form=\"bouře\" lemma=\"bouře\" upos=\"NOUN\" xpos=\"NNFS1-----A----\" feats=\"Case=Nom|Gender=Fem|Number=Sing|Polarity=Pos\"</token>\n",
      "\t\t<token>form=\"buší\" lemma=\"bušit\" upos=\"VERB\" xpos=\"VB-S---3P-AA---\" feats=\"Aspect=Imp|Mood=Ind|Number=Sing|Person=3|Polarity=Pos|Tense=Pres|VerbForm=Fin|Voice=Act\"</token>\n",
      "\t\t<token>form=\"v\" lemma=\"v\" upos=\"ADP\" xpos=\"RR--4----------\" feats=\"AdpType=Prep|Case=Acc\"</token>\n",
      "\t\t<token>form=\"ni\" lemma=\"on\" upos=\"PRON\" xpos=\"P5FS4--3-------\" feats=\"Case=Acc|Gender=Fem|Number=Sing|Person=3|PrepCase=Pre|PronType=Prs\"</token>\n",
      "\t\t<token>form=\"a\" lemma=\"a\" upos=\"CCONJ\" xpos=\"J^-------------\" feats=\"_\"</token>\n",
      "\t\t<token>form=\"slunce\" lemma=\"slunce\" upos=\"NOUN\" xpos=\"NNNS1-----A----\" feats=\"Case=Nom|Gender=Neut|Number=Sing|Polarity=Pos\"</token>\n",
      "\t\t<token>form=\"pálá\" lemma=\"pálat\" upos=\"VERB\" xpos=\"VB-S---3P-AA---\" feats=\"Aspect=Imp|Mood=Ind|Number=Sing|Person=3|Polarity=Pos|Tense=Pres|VerbForm=Fin|Voice=Act\"</token>\n",
      "\t\t<token>form=\",\" lemma=\",\" upos=\"PUNCT\" xpos=\"Z:-------------\" feats=\"_\"</token>\n",
      "\t</stanza>\n",
      "\t<stanza pattern=\"0101001001\">\n",
      "\t\t<token>form=\"vždy\" lemma=\"vždy\" upos=\"ADV\" xpos=\"Db-------------\" feats=\"PronType=Tot\"</token>\n",
      "\t\t<token>form=\"věrna\" lemma=\"věrný\" upos=\"ADJ\" xpos=\"ACQW------A----\" feats=\"Gender=Fem,Neut|Number=Plur,Sing|Polarity=Pos|Variant=Short\"</token>\n",
      "\t\t<token>form=\"půdě\" lemma=\"půda\" upos=\"NOUN\" xpos=\"NNFS3-----A----\" feats=\"Case=Dat|Gender=Fem|Number=Sing|Polarity=Pos\"</token>\n",
      "\t\t<token>form=\"své\" lemma=\"svůj\" upos=\"DET\" xpos=\"P8FS3---------1\" feats=\"Case=Dat|Gender=Fem|Number=Sing|Poss=Yes|PronType=Prs|Reflex=Yes\"</token>\n",
      "\t\t<token>form=\"zůstává\" lemma=\"zůstávat\" upos=\"VERB\" xpos=\"VB-S---3P-AA---\" feats=\"Aspect=Imp|Mood=Ind|Number=Sing|Person=3|Polarity=Pos|Tense=Pres|VerbForm=Fin|Voice=Act\"</token>\n",
      "\t\t<token>form=\"stát\" lemma=\"stát\" upos=\"VERB\" xpos=\"Vf--------A----\" feats=\"Polarity=Pos|VerbForm=Inf\"</token>\n",
      "\t\t<token>form=\".\" lemma=\".\" upos=\"PUNCT\" xpos=\"Z:-------------\" feats=\"_\"</token>\n",
      "\t</stanza>\n",
      "\t<stanza pattern=\"01010001010\">\n",
      "\t\t<token>form=\"Vždy\" lemma=\"vždy\" upos=\"ADV\" xpos=\"Db-------------\" feats=\"PronType=Tot\"</token>\n",
      "\t\t<token>form=\"jako\" lemma=\"jako\" upos=\"SCONJ\" xpos=\"J,-------------\" feats=\"_\"</token>\n",
      "\t\t<token>form=\"skála\" lemma=\"skála\" upos=\"NOUN\" xpos=\"NNFS1-----A----\" feats=\"Case=Nom|Gender=Fem|Number=Sing|Polarity=Pos\"</token>\n",
      "\t\t<token>form=\"buď\" lemma=\"být\" upos=\"AUX\" xpos=\"Vi-S---2--A----\" feats=\"Mood=Imp|Number=Sing|Person=2|Polarity=Pos|VerbForm=Fin\"</token>\n",
      "\t\t<token>form=\":\" lemma=\":\" upos=\"PUNCT\" xpos=\"Z:-------------\" feats=\"_\"</token>\n",
      "\t\t<token>form=\"když\" lemma=\"když\" upos=\"SCONJ\" xpos=\"J,-------------\" feats=\"_\"</token>\n",
      "\t\t<token>form=\"hrom\" lemma=\"hrom\" upos=\"NOUN\" xpos=\"NNIS1-----A----\" feats=\"Animacy=Inan|Case=Nom|Gender=Masc|Number=Sing|Polarity=Pos\"</token>\n",
      "\t\t<token>form=\"ji\" lemma=\"on\" upos=\"PRON\" xpos=\"PPFS4--3-------\" feats=\"Case=Acc|Gender=Fem|Number=Sing|Person=3|PrepCase=Npr|PronType=Prs\"</token>\n",
      "\t\t<token>form=\"tříští\" lemma=\"tříštit\" upos=\"VERB\" xpos=\"VB-S---3P-AA---\" feats=\"Aspect=Imp|Mood=Ind|Number=Sing|Person=3|Polarity=Pos|Tense=Pres|VerbForm=Fin|Voice=Act\"</token>\n",
      "\t</stanza>\n",
      "\t<stanza pattern=\"0101010101\">\n",
      "\t\t<token>form=\"a\" lemma=\"a\" upos=\"CCONJ\" xpos=\"J^-------------\" feats=\"_\"</token>\n",
      "\t\t<token>form=\"blesku\" lemma=\"blesk\" upos=\"NOUN\" xpos=\"NNIS2-----A----\" feats=\"Animacy=Inan|Case=Gen|Gender=Masc|Number=Sing|Polarity=Pos\"</token>\n",
      "\t\t<token>form=\"mečem\" lemma=\"meč\" upos=\"NOUN\" xpos=\"NNIS7-----A----\" feats=\"Animacy=Inan|Case=Ins|Gender=Masc|Number=Sing|Polarity=Pos\"</token>\n",
      "\t\t<token>form=\"hrdý\" lemma=\"hrdý\" upos=\"ADJ\" xpos=\"AAIS1----1A----\" feats=\"Animacy=Inan|Case=Nom|Degree=Pos|Gender=Masc|Number=Sing|Polarity=Pos\"</token>\n",
      "\t\t<token>form=\"prs\" lemma=\"prs\" upos=\"NOUN\" xpos=\"NNIS1-----A----\" feats=\"Animacy=Inan|Case=Nom|Gender=Masc|Number=Sing|Polarity=Pos\"</token>\n",
      "\t\t<token>form=\"je\" lemma=\"být\" upos=\"AUX\" xpos=\"VB-S---3P-AA---\" feats=\"Mood=Ind|Number=Sing|Person=3|Polarity=Pos|Tense=Pres|VerbForm=Fin|Voice=Act\"</token>\n",
      "\t\t<token>form=\"zryt\" lemma=\"zrytý\" upos=\"ADJ\" xpos=\"VsYS---XX-AP---\" feats=\"Gender=Masc|Number=Sing|Polarity=Pos|Variant=Short|VerbForm=Part|Voice=Pass\"</token>\n",
      "\t\t<token>form=\",\" lemma=\",\" upos=\"PUNCT\" xpos=\"Z:-------------\" feats=\"_\"</token>\n",
      "\t</stanza>\n",
      "\t<stanza pattern=\"01010001010\">\n",
      "\t\t<token>form=\"jen\" lemma=\"jen\" upos=\"PART\" xpos=\"TT-------------\" feats=\"_\"</token>\n",
      "\t\t<token>form=\"pramen\" lemma=\"pramen\" upos=\"NOUN\" xpos=\"NNIS1-----A----\" feats=\"Animacy=Inan|Case=Nom|Gender=Masc|Number=Sing|Polarity=Pos\"</token>\n",
      "\t\t<token>form=\"křišťálný\" lemma=\"křišťálný\" upos=\"ADJ\" xpos=\"AAIS1----1A----\" feats=\"Animacy=Inan|Case=Nom|Degree=Pos|Gender=Masc|Number=Sing|Polarity=Pos\"</token>\n",
      "\t\t<token>form=\"jí\" lemma=\"on\" upos=\"PRON\" xpos=\"PPFS3--3-------\" feats=\"Case=Dat|Gender=Fem|Number=Sing|Person=3|PrepCase=Npr|PronType=Prs\"</token>\n",
      "\t\t<token>form=\"z\" lemma=\"z\" upos=\"ADP\" xpos=\"RR--2----------\" feats=\"AdpType=Prep|Case=Gen\"</token>\n",
      "\t\t<token>form=\"ran\" lemma=\"rana\" upos=\"NOUN\" xpos=\"NNFP2-----A----\" feats=\"Case=Gen|Gender=Fem|Number=Plur|Polarity=Pos\"</token>\n",
      "\t\t<token>form=\"se\" lemma=\"se\" upos=\"PRON\" xpos=\"P7-X4----------\" feats=\"Case=Acc|PronType=Prs|Reflex=Yes|Variant=Short\"</token>\n",
      "\t\t<token>form=\"prýští\" lemma=\"prýštit\" upos=\"VERB\" xpos=\"VB-S---3P-AA---\" feats=\"Aspect=Imp|Mood=Ind|Number=Sing|Person=3|Polarity=Pos|Tense=Pres|VerbForm=Fin|Voice=Act\"</token>\n",
      "\t</stanza>\n",
      "\t<stanza pattern=\"0101000101\">\n",
      "\t\t<token>form=\"a\" lemma=\"a\" upos=\"CCONJ\" xpos=\"J^-------------\" feats=\"_\"</token>\n",
      "\t\t<token>form=\"zemi\" lemma=\"země\" upos=\"NOUN\" xpos=\"NNFS4-----A----\" feats=\"Case=Acc|Gender=Fem|Number=Sing|Polarity=Pos\"</token>\n",
      "\t\t<token>form=\"zmlazuje\" lemma=\"zmlazovat\" upos=\"VERB\" xpos=\"VB-S---3P-AA---\" feats=\"Aspect=Imp|Mood=Ind|Number=Sing|Person=3|Polarity=Pos|Tense=Pres|VerbForm=Fin|Voice=Act\"</token>\n",
      "\t\t<token>form=\"a\" lemma=\"a\" upos=\"CCONJ\" xpos=\"J^-------------\" feats=\"_\"</token>\n",
      "\t\t<token>form=\"jaří\" lemma=\"jařit\" upos=\"VERB\" xpos=\"VB-S---3P-AA---\" feats=\"Aspect=Imp|Mood=Ind|Number=Sing|Person=3|Polarity=Pos|Tense=Pres|VerbForm=Fin|Voice=Act\"</token>\n",
      "\t\t<token>form=\"lid\" lemma=\"lid\" upos=\"NOUN\" xpos=\"NNIS4-----A----\" feats=\"Animacy=Inan|Case=Acc|Gender=Masc|Number=Sing|Polarity=Pos\"</token>\n",
      "\t\t<token>form=\".\" lemma=\".\" upos=\"PUNCT\" xpos=\"Z:-------------\" feats=\"_\"</token>\n",
      "\t\t<token>form=\"–\" lemma=\"–\" upos=\"ADP\" xpos=\"NNNXX-----A----\" feats=\"_\"</token>\n",
      "\t</stanza>\n",
      "\n"
     ]
    }
   ],
   "source": [
    "print(composition_test['full_data'])"
   ]
  },
  {
   "cell_type": "markdown",
   "metadata": {},
   "source": [
    "### Extracting features"
   ]
  },
  {
   "cell_type": "code",
   "execution_count": 41,
   "metadata": {},
   "outputs": [],
   "source": [
    "def extract_token_attributes(line):\n",
    "    \"\"\"\n",
    "    Extracts attributes from a token line.\n",
    "    :param line: The token line.\n",
    "    :return: A dictionary with the extracted attributes.\n",
    "    \"\"\"\n",
    "    pattern = r'(\\w+)=\"([^\"]*)\"'\n",
    "    attributes = dict(re.findall(pattern, line))\n",
    "    return attributes\n",
    "\n",
    "def transform_xml_to_token_data(xml_data, feature_type: str = 'form', autosem_delexicalise: bool = False, ignore_interpunkt: bool = True):\n",
    "    \"\"\"\n",
    "    Transforms tokens in XML data to a given type.\n",
    "    :param xml_data: The XML data.\n",
    "    :param feature_type: The feature type to extract (form, lemma, upos, xpos, feats).\n",
    "    :param delexicalize: Whether to delexicalize the extracted features (autosemantic UPOS tokens are recorded as UPOS in all cases).\n",
    "    :param ignore_interpunkt: Whether to ignore interpunkt tokens.\n",
    "    \"\"\"\n",
    "    output = ''\n",
    "\n",
    "    lines = xml_data.split('\\n')\n",
    "\n",
    "    for line in lines:\n",
    "        if '<token' in line:\n",
    "            token_attributes = extract_token_attributes(line)\n",
    "            token_value = token_attributes.get(feature_type, '')\n",
    "            if autosem_delexicalise and token_attributes['upos'] in ['NOUN', 'PROPN', 'VERB', 'ADJ', 'ADV', 'NUM']:\n",
    "                token_value = f'UPOS_{token_attributes['upos']}'\n",
    "            elif ignore_interpunkt and token_attributes['upos'] == 'PUNCT':\n",
    "                continue\n",
    "            elif ignore_interpunkt and token_attributes['upos'] == 'SYM':\n",
    "                continue\n",
    "            elif ignore_interpunkt and token_attributes['lemma'] in ['.', ',', ';', ':', '!', '?', '(', ')', '[', ']', '{', '}', '\"', \"'\", '„', '“', '”', '–', '—', '…']:\n",
    "                # NOTE: this has been added because some interpunkt tokens are not marked as PUNCT or SYM (e.g., - or — has been marked as ADP for some reason).\n",
    "                continue\n",
    "            output += f'\\t\\t<token>{token_value}</token>\\n'\n",
    "        else:\n",
    "            output += line + '\\n'\n",
    "\n",
    "    return output"
   ]
  },
  {
   "cell_type": "code",
   "execution_count": 42,
   "metadata": {},
   "outputs": [
    {
     "name": "stdout",
     "output_type": "stream",
     "text": [
      "1898_Cesti_spisovatele_ceskym_delnikum_narodnim_k_1._maji_1898\n",
      "<stanza pattern=\"01010001010\">\n",
      "\t\t<token>UPOS_ADV</token>\n",
      "\t\t<token>UPOS_ADJ</token>\n",
      "\t\t<token>ADP</token>\n",
      "\t\t<token>UPOS_NOUN</token>\n",
      "\t\t<token>CCONJ</token>\n",
      "\t\t<token>SCONJ</token>\n",
      "\t\t<token>UPOS_ADJ</token>\n",
      "\t\t<token>UPOS_NOUN</token>\n",
      "</stanza>\n",
      "<stanza pattern=\"0101010001\">\n",
      "\t\t<token>PRON</token>\n",
      "\t\t<token>PART</token>\n",
      "\t\t<token>PRON</token>\n",
      "\t\t<token>UPOS_NOUN</token>\n",
      "\t\t<token>UPOS_VERB</token>\n",
      "\t\t<token>PRON</token>\n",
      "\t\t<token>UPOS_VERB</token>\n",
      "</stanza>\n",
      "<stanza pattern=\"01010001010\">\n",
      "\t\t<token>CCONJ</token>\n",
      "\t\t<token>UPOS_NOUN</token>\n",
      "\t\t<token>UPOS_VERB</token>\n",
      "\t\t<token>ADP</token>\n",
      "\t\t<token>PRON</token>\n",
      "\t\t<token>CCONJ</token>\n",
      "\t\t<token>UPOS_NOUN</token>\n",
      "\t\t<token>UPOS_VERB</token>\n",
      "</stanza>\n",
      "<stanza pattern=\"0101001001\">\n",
      "\t\t<token>UPOS_ADV</token>\n",
      "\t\t<token>UPOS_ADJ</token>\n",
      "\t\t<token>UPOS_NOUN</token>\n",
      "\t\t<token>DET</token>\n",
      "\t\t<token>UPOS_VERB</token>\n",
      "\t\t<token>UPOS_VERB</token>\n",
      "</stanza>\n",
      "<stanza pattern=\"01010001010\">\n",
      "\t\t<token>UPOS_ADV</token>\n",
      "\t\t<token>SCONJ</token>\n",
      "\t\t<token>UPOS_NOUN</token>\n",
      "\t\t<token>AUX</token>\n",
      "\t\t<token>SCONJ</token>\n",
      "\t\t<token>UPOS_NOUN</token>\n",
      "\t\t<token>PRON</token>\n",
      "\t\t<token>UPOS_VERB</token>\n",
      "</stanza>\n",
      "<stanza pattern=\"0101010101\">\n",
      "\t\t<token>CCONJ</token>\n",
      "\t\t<token>UPOS_NOUN</token>\n",
      "\t\t<token>UPOS_NOUN</token>\n",
      "\t\t<token>UPOS_ADJ</token>\n",
      "\t\t<token>UPOS_NOUN</token>\n",
      "\t\t<token>AUX</token>\n",
      "\t\t<token>UPOS_ADJ</token>\n",
      "</stanza>\n",
      "<stanza pattern=\"01010001010\">\n",
      "\t\t<token>PART</token>\n",
      "\t\t<token>UPOS_NOUN</token>\n",
      "\t\t<token>UPOS_ADJ</token>\n",
      "\t\t<token>PRON</token>\n",
      "\t\t<token>ADP</token>\n",
      "\t\t<token>UPOS_NOUN</token>\n",
      "\t\t<token>PRON</token>\n",
      "\t\t<token>UPOS_VERB</token>\n",
      "</stanza>\n",
      "<stanza pattern=\"0101000101\">\n",
      "\t\t<token>CCONJ</token>\n",
      "\t\t<token>UPOS_NOUN</token>\n",
      "\t\t<token>UPOS_VERB</token>\n",
      "\t\t<token>CCONJ</token>\n",
      "\t\t<token>UPOS_VERB</token>\n",
      "\t\t<token>UPOS_NOUN</token>\n",
      "</stanza>\n",
      "<composition_info name=\"1898_Cesti_spisovatele_ceskym_delnikum_narodnim_k_1._maji_1898\" year=\"1898\" types=\"['iamb']\"></composition_info>\n",
      "\n"
     ]
    }
   ],
   "source": [
    "print(composition_test['composition'])\n",
    "print(transform_xml_to_token_data(composition_test['full_data'], 'upos', autosem_delexicalise=True))"
   ]
  },
  {
   "cell_type": "code",
   "execution_count": 64,
   "metadata": {},
   "outputs": [],
   "source": [
    "def assigns_year(year: int, window_size: int = 5):\n",
    "    \"\"\"\n",
    "    Assigns a year to a window.\n",
    "    :param year: The year to assign.\n",
    "    :param window_size: The size of the window.\n",
    "    :return: The window label.\n",
    "    \"\"\"\n",
    "    window_start = year - (year % window_size)\n",
    "    return f'{window_start}-{window_start + (window_size - 1)}'\n",
    "\n",
    "def count_token(file_path:str):\n",
    "    \"\"\"\n",
    "    Count the tokens in the given file.\n",
    "    :param file_path: The path to the file.\n",
    "    \"\"\"\n",
    "    # TODO: add ignore interpunkt tokens??\n",
    "\n",
    "    with open(file_path, 'r', encoding='utf-8') as file_:\n",
    "        data = file_.read()\n",
    "        token_count = data.count('<token>')\n",
    "    \n",
    "    return token_count\n",
    "\n",
    "def count_stanza(file_path:str):\n",
    "    \"\"\"\n",
    "    Count the stanzas in the given file.\n",
    "    :param file_path: The path to the file.\n",
    "    \"\"\"\n",
    "    with open(file_path, 'r', encoding='utf-8') as file_:\n",
    "        data = file_.read()\n",
    "        stanza_count = data.count('</stanza>')\n",
    "    \n",
    "    return stanza_count\n",
    "\n",
    "def count_stanza_lens(file_path:str):\n",
    "    \"\"\"\n",
    "    Count the stanzas in the given file.\n",
    "    :param file_path: The path to the file.\n",
    "    \"\"\"\n",
    "\n",
    "    # TODO: add ignore interpunkt tokens??\n",
    "\n",
    "    stanza_lens = []\n",
    "\n",
    "    with open(file_path, 'r', encoding='utf-8') as file_:\n",
    "        data = file_.read()\n",
    "\n",
    "        stanzas = data.split('</stanza>')\n",
    "        for stanza in stanzas:\n",
    "            token_count = stanza.count('<token>')\n",
    "\n",
    "            stanza_lens.append(token_count)\n",
    "    \n",
    "    return stanza_lens\n",
    "\n",
    "def join_one_years_period(year:str):\n",
    "    years_range = year.split('-')\n",
    "    if years_range[0] == years_range[1]:\n",
    "        return years_range[0]\n",
    "    else:\n",
    "        return year\n",
    "\n",
    "def count_years_et_tokens(path:str, window_size:int = 10):\n",
    "    \"\"\"\n",
    "    Count the years and tokens in the given path.\n",
    "    :param path: The path to the folder, where XML files are stored.\n",
    "    \"\"\"\n",
    "    years = defaultdict(int)\n",
    "\n",
    "    for file_name in os.listdir(path):\n",
    "        if file_name.endswith('.xml'):\n",
    "            path_to_file = os.path.join(path, file_name)\n",
    "            year = int(file_name.split('_')[0])\n",
    "            period = assigns_year(year, window_size=window_size)\n",
    "            period = join_one_years_period(period)\n",
    "            token_count = count_token(path_to_file)\n",
    "            years[period] += token_count\n",
    "    \n",
    "    return years\n",
    "\n",
    "def count_years_et_stanzas(path:str, window_size:int = 10):\n",
    "    \"\"\"\n",
    "    Count the years and tokens in the given path.\n",
    "    :param path: The path to the folder, where XML files are stored.\n",
    "    \"\"\"\n",
    "    years = defaultdict(int)\n",
    "\n",
    "    for file_name in os.listdir(path):\n",
    "        if file_name.endswith('.xml'):\n",
    "            path_to_file = os.path.join(path, file_name)\n",
    "            year = int(file_name.split('_')[0])\n",
    "            period = assigns_year(year, window_size=window_size)\n",
    "            period = join_one_years_period(period)\n",
    "            stanza_count = count_stanza(path_to_file)\n",
    "            years[period] += stanza_count\n",
    "    \n",
    "    return years"
   ]
  },
  {
   "cell_type": "code",
   "execution_count": 61,
   "metadata": {},
   "outputs": [
    {
     "name": "stdout",
     "output_type": "stream",
     "text": [
      "Total token count: 43586 total stanza count: 6572\n",
      "Average token count: 597.068493150685 average stanza count: 90.02739726027397\n",
      "Median token count: 185 median stanza count: 32\n",
      "Max token count: 8634 max stanza count: 1255\n",
      "Min token count: 13 min stanza count: 2\n",
      "Average stanza length: 6.559217456734387\n",
      "Median stanza length: 6\n",
      "Max stanza length: 20 Min stanza length: 0\n"
     ]
    }
   ],
   "source": [
    "token_counts = []\n",
    "stanza_counts = []\n",
    "stanza_lens = []\n",
    "\n",
    "for file_name in os.listdir(DATA_PATH_HEYDUK):\n",
    "    if file_name.endswith('.xml'):\n",
    "        path_to_file = os.path.join(DATA_PATH_HEYDUK, file_name)\n",
    "        token_count = count_token(path_to_file)\n",
    "        stanza_count = count_stanza(path_to_file)\n",
    "        stanzas_lens = count_stanza_lens(path_to_file)\n",
    "        \n",
    "        stanza_lens.extend(stanzas_lens)\n",
    "        token_counts.append(token_count)\n",
    "        stanza_counts.append(stanza_count)\n",
    "\n",
    "print('Total token count:', sum(token_counts), 'total stanza count:', sum(stanza_counts))\n",
    "print('Average token count:', sum(token_counts) / len(token_counts), 'average stanza count:', sum(stanza_counts) / len(stanza_counts))\n",
    "print('Median token count:', sorted(token_counts)[len(token_counts) // 2], 'median stanza count:', sorted(stanza_counts)[len(stanza_counts) // 2])\n",
    "print('Max token count:', max(token_counts), 'max stanza count:', max(stanza_counts))\n",
    "print('Min token count:', min(token_counts), 'min stanza count:', min(stanza_counts))\n",
    "print('Average stanza length:', sum(stanza_lens) / len(stanza_lens))\n",
    "print('Median stanza length:', sorted(stanza_lens)[len(stanza_lens) // 2])\n",
    "print('Max stanza length:', max(stanza_lens), 'Min stanza length:', min(stanza_lens))"
   ]
  },
  {
   "cell_type": "code",
   "execution_count": 105,
   "metadata": {},
   "outputs": [],
   "source": [
    "def join_tokens_stanzas_data(token_data:dict, stanza_data:dict):\n",
    "    \"\"\"\n",
    "    Joins token and stanza data.\n",
    "    :param token_data: The token data.\n",
    "    :param stanza_data: The stanza data.\n",
    "    \"\"\"\n",
    "    joined_data = {}\n",
    "    for key in token_data:\n",
    "        joined_data[key] = {'tokens': token_data[key], 'stanzas': stanza_data[key]}\n",
    "        \n",
    "    return joined_data\n",
    "\n",
    "def make_csv_for_flourish(data:dict, file_name:str, fill_empties=False, joined=False, destination:str=ANALYSIS_PATH):\n",
    "    \"\"\"\n",
    "    Makes a CSV file for Flourish.\n",
    "\n",
    "    :param data: The data to store.\n",
    "    :param file_name: The name of the file.\n",
    "    :param fill_empties: Whether to fill the empty values - works only for one-year windows.\n",
    "    :param destination: The destination folder.\n",
    "    \"\"\"\n",
    "\n",
    "    if fill_empties:\n",
    "        new_dict = {}\n",
    "        start_year = int(list(data.keys())[0])\n",
    "        end_year = int(list(data.keys())[-1])\n",
    "        for key in range(start_year, end_year+1):\n",
    "            key = str(key)\n",
    "            if key not in data:\n",
    "                new_dict[key] = {'tokens': 0, 'stanzas': 0}\n",
    "            else:\n",
    "                new_dict[key] = data[key]\n",
    "        data = new_dict\n",
    "\n",
    "    if joined:\n",
    "        df = pd.DataFrame.from_dict(data, orient='index', columns=['tokens', 'stanzas'])\n",
    "    else:\n",
    "        df = pd.DataFrame.from_dict(data, orient='index', columns=['value'])\n",
    "\n",
    "    df.to_csv(os.path.join(destination, f'{file_name}.csv'), header=True)"
   ]
  },
  {
   "cell_type": "code",
   "execution_count": 98,
   "metadata": {},
   "outputs": [],
   "source": [
    "tokens_years_data = count_years_et_tokens(DATA_PATH_HEYDUK, window_size=1)\n",
    "make_csv_for_flourish(tokens_years_data, 'tokens_years_data', fill_empties=True)"
   ]
  },
  {
   "cell_type": "code",
   "execution_count": 99,
   "metadata": {},
   "outputs": [],
   "source": [
    "stanzas_years_data = count_years_et_stanzas(DATA_PATH_HEYDUK, window_size=1)\n",
    "make_csv_for_flourish(stanzas_years_data, 'stanzas_years_data', fill_empties=True)"
   ]
  },
  {
   "cell_type": "code",
   "execution_count": 107,
   "metadata": {},
   "outputs": [],
   "source": [
    "joined_tokens_years_data = join_tokens_stanzas_data(tokens_years_data, stanzas_years_data)\n",
    "make_csv_for_flourish(joined_tokens_years_data, 'joined_tokens_stanzas_years_data', fill_empties=True, joined=True)"
   ]
  },
  {
   "cell_type": "code",
   "execution_count": 112,
   "metadata": {},
   "outputs": [],
   "source": [
    "tokens_years_data_10 = count_years_et_tokens(DATA_PATH_HEYDUK, window_size=10)\n",
    "make_csv_for_flourish(tokens_years_data, 'tokens_years_data_10_years')"
   ]
  },
  {
   "cell_type": "code",
   "execution_count": 113,
   "metadata": {},
   "outputs": [],
   "source": [
    "stanzas_years_data_10 = count_years_et_stanzas(DATA_PATH_HEYDUK, window_size=10)\n",
    "make_csv_for_flourish(stanzas_years_data, 'stanzas_years_data_10_years')"
   ]
  },
  {
   "cell_type": "code",
   "execution_count": 114,
   "metadata": {},
   "outputs": [],
   "source": [
    "joined_tokens_years_data:10 = join_tokens_stanzas_data(tokens_years_data_10, stanzas_years_data_10)\n",
    "make_csv_for_flourish(joined_tokens_years_data, 'joined_tokens_stanzas_years_data_10_years', joined=True)"
   ]
  },
  {
   "cell_type": "markdown",
   "metadata": {},
   "source": [
    "# Training Models\n",
    "\n",
    "## Experiment Design\n",
    "\n",
    "- Because of the sparse data, we will use periods as targets; we will start with a window of 10 years.\n",
    "- Because of the sparse data, including the very limited length of each composition, we will first try to do the leave-one-out experiment for each decade --> in sum, there will be eight itterations.\n",
    "- we will do segmentation by stanzas. First, we will try what a one-length segments will do. If this does not work, we may try to do larger segments, which may result in deleting some compositions (the shortest has just 2 stanza) We may itterate through stanzas to densen the data... if this does not work, we may try to do attribution by the same avg. token length\n",
    "- In the next step, we may try do itterations of the leave-one-out design, so that each of the works at our disposal is used as a test document.\n",
    "\n",
    "## Delexicalization types (r)\n",
    "Delexicalization types follow the designation created for NKP AuthorGuesser\n",
    "- r-04: No delexicalisation (baseline) — original word forms are used ('forms')\n",
    "- r-05: Lemmatisation — lemmas used instead of word forms ('lemma')\n",
    "- r-06: Part-of-speech tags for all words ('upos')\n",
    "- r-07: Morphological tags for all words ('xpos')\n",
    "- r-08: Part-of-speech tags for autosemantic words, others lemmatised ('lemma' + autosem_delexicalise=True)\n",
    "- r-09: Morphological tags for autosemantic words, others lemmatised --> not used here"
   ]
  },
  {
   "cell_type": "code",
   "execution_count": 186,
   "metadata": {},
   "outputs": [],
   "source": [
    "def split_data_to_statza(xml_data:str):\n",
    "    \"\"\"\n",
    "    Split the XML data into stanzas.\n",
    "    :param xml_data: The XML data.\n",
    "    \"\"\"\n",
    "    return xml_data.split('</stanza>')[:-1]\n",
    "\n",
    "def get_tokens_from_stanza(stanza:str):\n",
    "    \"\"\"\n",
    "    Get the tokens from a stanza.\n",
    "    :param stanza: The stanza.\n",
    "    \"\"\"\n",
    "    tokens = re.findall(r'<token>(.*?)</token>', stanza)\n",
    "    return tokens\n",
    "\n",
    "def iterate_over_stanzas(stanzas:list, window_size:int = 2, shift_size:int = 1):\n",
    "    \"\"\"\n",
    "    Iterate over stanzas in a given window size.\n",
    "    :param stanzas: The stanzas.\n",
    "    :param window_size: The window size.\n",
    "    \"\"\"\n",
    "    if shift_size > window_size:\n",
    "        raise ValueError('Shift size must be less than or equal to window size.')\n",
    "    for i in range(0, len(stanzas) - window_size + 1, shift_size):\n",
    "        window = stanzas[i:i + window_size]\n",
    "        yield window\n",
    "\n",
    "def segment_file(file_path:str, segment_window:int = 1, shift_size:int = 1, feature_type: str = 'form', autosem_delexicalise: bool = False, ignore_interpunkt: bool = True):\n",
    "    \"\"\"\n",
    "    Segment the file into segments of a given size.\n",
    "    :param file_path: The path to the file.\n",
    "    :param segment_size: The size of the segments.\n",
    "    :param feature_type: The feature type to extract (form, lemma, upos, xpos, feats).\n",
    "    :param autosem_delexicalise: Whether to delexicalize the extracted features (autosemantic UPOS tokens are recorded as UPOS in all cases).\n",
    "    \"\"\"\n",
    "    with open(file_path, 'r', encoding='utf-8') as file_:\n",
    "        data = file_.read()\n",
    "        \n",
    "        transfromed_data = transform_xml_to_token_data(data, feature_type=feature_type, autosem_delexicalise=autosem_delexicalise, ignore_interpunkt=ignore_interpunkt)\n",
    "\n",
    "        single_stanzas = split_data_to_statza(transfromed_data)\n",
    "        stanzas_tokens = [get_tokens_from_stanza(stanza) for stanza in single_stanzas]\n",
    "\n",
    "        segments = iterate_over_stanzas(stanzas_tokens, window_size=segment_window, shift_size=shift_size)\n",
    "\n",
    "        joined_segments = []\n",
    "        for segment in segments:\n",
    "            joined_segment = []\n",
    "            for stanza in segment:\n",
    "                joined_segment.extend(stanza)\n",
    "            joined_segments.append(joined_segment)\n",
    "    \n",
    "    return joined_segments"
   ]
  },
  {
   "cell_type": "code",
   "execution_count": 193,
   "metadata": {},
   "outputs": [],
   "source": [
    "def segment_file_to_data_et_targets(file_path:str, year_window_size=10, segment_window=2, shift_size=1, feature_type='lemma', autosem_delexicalise=True, ignore_interpunkt=True):\n",
    "    \"\"\"\n",
    "    This function creates segments from the given file.\n",
    "    \"\"\"\n",
    "    targets = []\n",
    "    data = []\n",
    "\n",
    "    composition_year = get_year_et_types_from_composition(file_path)[0]\n",
    "    composition_period = assigns_year(composition_year, window_size=year_window_size)\n",
    "\n",
    "    # NOTE: if the segment_window is greater than number of stanzas in the composition, the window will be set to the number of stanzas.\n",
    "    # TODO: Evaluate if this is the best approach.\n",
    "    stanza_count = count_stanza(file_path)\n",
    "    if segment_window > stanza_count:\n",
    "        segment_window = stanza_count\n",
    "        if shift_size > segment_window:\n",
    "            shift_size = segment_window\n",
    "\n",
    "    segments = segment_file(file_path=file_path, segment_window=segment_window, shift_size=shift_size, feature_type=feature_type, autosem_delexicalise=autosem_delexicalise, ignore_interpunkt=ignore_interpunkt)\n",
    "\n",
    "    for seg in segments:\n",
    "        targets.append(composition_period)\n",
    "\n",
    "        seg = ' '.join(seg)\n",
    "        data.append(seg)\n",
    "\n",
    "    # print('Number of segments:', len(data))\n",
    "    # print('Number of targets:', len(targets))\n",
    "\n",
    "    return data, targets"
   ]
  },
  {
   "cell_type": "code",
   "execution_count": 136,
   "metadata": {},
   "outputs": [],
   "source": [
    "class NKPdateship:\n",
    "    def __init__(self, data, targets):\n",
    "        self.data = data\n",
    "        self.targets = targets\n",
    "\n",
    "        self.target_names = sorted(set(targets))\n",
    "\n",
    "    def __len__(self):\n",
    "        return len(self.data)\n",
    "\n",
    "    def check_valid(self):\n",
    "        return len(self.data) == len(self.targets)"
   ]
  },
  {
   "cell_type": "code",
   "execution_count": 129,
   "metadata": {},
   "outputs": [],
   "source": [
    "def select_model(model_name:str):\n",
    "    \"\"\" This function selects relevant model based on input. \"\"\"\n",
    "    if model_name == 'MultinomialNB':\n",
    "        from sklearn.naive_bayes import MultinomialNB\n",
    "        return MultinomialNB\n",
    "    elif model_name == 'SVC':\n",
    "        from sklearn.svm import SVC\n",
    "        return SVC\n",
    "    elif model_name == 'LinearSVC':\n",
    "        from sklearn.svm import LinearSVC\n",
    "        return LinearSVC\n",
    "    elif model_name == 'KNeighborsClassifier':\n",
    "        from sklearn.neighbors import KNeighborsClassifier\n",
    "        return KNeighborsClassifier\n",
    "    elif model_name == 'SGDClassifier':\n",
    "        from sklearn.linear_model import SGDClassifier\n",
    "        return SGDClassifier\n",
    "    elif model_name == 'DecisionTreeClassifier':\n",
    "        from sklearn.tree import DecisionTreeClassifier\n",
    "        return DecisionTreeClassifier\n",
    "    else:\n",
    "        print('Selected model is not available in this version')\n",
    "        return"
   ]
  },
  {
   "cell_type": "code",
   "execution_count": 163,
   "metadata": {},
   "outputs": [],
   "source": [
    "def train_model(train_dataset:NKPdateship, model_prefix:str, model_name='LinearSVC', n_min=1, n_max=2, models_path=MODELS_PATH):\n",
    "    \"\"\" \n",
    "    This function trains the model on the given dataset.\n",
    "\n",
    "    :param train_dataset: The dataset to train on.\n",
    "    :param model_name: The name of the model to use (choose from MultinomialNB, SVC, LinearSVC, KNeighborsClassifier, SGDClassifier, and DecisionTreeClassifier).\n",
    "    :param n_min: The minimum n-gram range.\n",
    "    :param n_max: The maximum n-gram range.\n",
    "    :param models_path: The path where the models should be saved.\n",
    "    \"\"\"\n",
    "    # TODO: implement model parameters configuration?\n",
    "\n",
    "    model_training_start = time.time()\n",
    "    print('\\tTraining started')\n",
    "    vectorizer = CountVectorizer(ngram_range=(n_min, n_max))\n",
    "\n",
    "    X_train_counts = vectorizer.fit_transform(train_dataset.data)\n",
    "\n",
    "    dump(vectorizer, os.path.join(models_path, f'{model_prefix}_vectorizer_n-{n_min},{n_max}.joblib'))\n",
    "\n",
    "    model = select_model(model_name)\n",
    "\n",
    "    clf = model()\n",
    "\n",
    "    clf.fit(X_train_counts, train_dataset.targets)\n",
    "\n",
    "    dump(clf, os.path.join(models_path, f'{model_prefix}_model_n-{n_min},{n_max}.m-{model_name}.joblib'))\n",
    "    model_training_end = time.time()\n",
    "    print('\\tmodel trained in', model_training_end-model_training_start, 'seconds')"
   ]
  },
  {
   "cell_type": "code",
   "execution_count": 194,
   "metadata": {},
   "outputs": [
    {
     "name": "stdout",
     "output_type": "stream",
     "text": [
      "number of files --> nuber of models: 73\n",
      "Training model with leave-one-out design for 1858_Maj.xml\n",
      "\tTraining started\n"
     ]
    },
    {
     "name": "stderr",
     "output_type": "stream",
     "text": [
      "c:\\Users\\valek\\AppData\\Local\\Programs\\Python\\Python313\\Lib\\site-packages\\sklearn\\svm\\_base.py:1235: ConvergenceWarning: Liblinear failed to converge, increase the number of iterations.\n",
      "  warnings.warn(\n"
     ]
    },
    {
     "name": "stdout",
     "output_type": "stream",
     "text": [
      "\tmodel trained in 1.3060550689697266 seconds\n",
      "Training model with leave-one-out design for 1859_Basne.xml\n",
      "\tTraining started\n"
     ]
    },
    {
     "name": "stderr",
     "output_type": "stream",
     "text": [
      "c:\\Users\\valek\\AppData\\Local\\Programs\\Python\\Python313\\Lib\\site-packages\\sklearn\\svm\\_base.py:1235: ConvergenceWarning: Liblinear failed to converge, increase the number of iterations.\n",
      "  warnings.warn(\n"
     ]
    },
    {
     "name": "stdout",
     "output_type": "stream",
     "text": [
      "\tmodel trained in 1.343045711517334 seconds\n",
      "Training model with leave-one-out design for 1864_Basne_2,_1.xml\n",
      "\tTraining started\n"
     ]
    },
    {
     "name": "stderr",
     "output_type": "stream",
     "text": [
      "c:\\Users\\valek\\AppData\\Local\\Programs\\Python\\Python313\\Lib\\site-packages\\sklearn\\svm\\_base.py:1235: ConvergenceWarning: Liblinear failed to converge, increase the number of iterations.\n",
      "  warnings.warn(\n"
     ]
    },
    {
     "name": "stdout",
     "output_type": "stream",
     "text": [
      "\tmodel trained in 1.2143003940582275 seconds\n",
      "Training model with leave-one-out design for 1865_Basne_2,_2.xml\n",
      "\tTraining started\n"
     ]
    },
    {
     "name": "stderr",
     "output_type": "stream",
     "text": [
      "c:\\Users\\valek\\AppData\\Local\\Programs\\Python\\Python313\\Lib\\site-packages\\sklearn\\svm\\_base.py:1235: ConvergenceWarning: Liblinear failed to converge, increase the number of iterations.\n",
      "  warnings.warn(\n"
     ]
    },
    {
     "name": "stdout",
     "output_type": "stream",
     "text": [
      "\tmodel trained in 1.14583158493042 seconds\n",
      "Training model with leave-one-out design for 1873_Lesni_kviti.xml\n",
      "\tTraining started\n"
     ]
    },
    {
     "name": "stderr",
     "output_type": "stream",
     "text": [
      "c:\\Users\\valek\\AppData\\Local\\Programs\\Python\\Python313\\Lib\\site-packages\\sklearn\\svm\\_base.py:1235: ConvergenceWarning: Liblinear failed to converge, increase the number of iterations.\n",
      "  warnings.warn(\n"
     ]
    },
    {
     "name": "stdout",
     "output_type": "stream",
     "text": [
      "\tmodel trained in 1.2727625370025635 seconds\n",
      "Training model with leave-one-out design for 1873_Ruch_3.xml\n",
      "\tTraining started\n"
     ]
    },
    {
     "name": "stderr",
     "output_type": "stream",
     "text": [
      "c:\\Users\\valek\\AppData\\Local\\Programs\\Python\\Python313\\Lib\\site-packages\\sklearn\\svm\\_base.py:1235: ConvergenceWarning: Liblinear failed to converge, increase the number of iterations.\n",
      "  warnings.warn(\n"
     ]
    },
    {
     "name": "stdout",
     "output_type": "stream",
     "text": [
      "\tmodel trained in 1.2459914684295654 seconds\n",
      "Training model with leave-one-out design for 1874_Almanach_na_oslavu_25leteho_trvani_Akademicko-ctenarskeho_spolku_prazskeho.xml\n",
      "\tTraining started\n"
     ]
    },
    {
     "name": "stderr",
     "output_type": "stream",
     "text": [
      "c:\\Users\\valek\\AppData\\Local\\Programs\\Python\\Python313\\Lib\\site-packages\\sklearn\\svm\\_base.py:1235: ConvergenceWarning: Liblinear failed to converge, increase the number of iterations.\n",
      "  warnings.warn(\n"
     ]
    },
    {
     "name": "stdout",
     "output_type": "stream",
     "text": [
      "\tmodel trained in 1.2860918045043945 seconds\n",
      "Training model with leave-one-out design for 1876_Cimbal_a_husle.xml\n",
      "\tTraining started\n"
     ]
    },
    {
     "name": "stderr",
     "output_type": "stream",
     "text": [
      "c:\\Users\\valek\\AppData\\Local\\Programs\\Python\\Python313\\Lib\\site-packages\\sklearn\\svm\\_base.py:1235: ConvergenceWarning: Liblinear failed to converge, increase the number of iterations.\n",
      "  warnings.warn(\n"
     ]
    },
    {
     "name": "stdout",
     "output_type": "stream",
     "text": [
      "\tmodel trained in 1.2941851615905762 seconds\n",
      "Training model with leave-one-out design for 1878_Mohamed_II..xml\n",
      "\tTraining started\n"
     ]
    },
    {
     "name": "stderr",
     "output_type": "stream",
     "text": [
      "c:\\Users\\valek\\AppData\\Local\\Programs\\Python\\Python313\\Lib\\site-packages\\sklearn\\svm\\_base.py:1235: ConvergenceWarning: Liblinear failed to converge, increase the number of iterations.\n",
      "  warnings.warn(\n"
     ]
    },
    {
     "name": "stdout",
     "output_type": "stream",
     "text": [
      "\tmodel trained in 1.0818302631378174 seconds\n",
      "Training model with leave-one-out design for 1879_Deduv_odkaz.xml\n",
      "\tTraining started\n"
     ]
    },
    {
     "name": "stderr",
     "output_type": "stream",
     "text": [
      "c:\\Users\\valek\\AppData\\Local\\Programs\\Python\\Python313\\Lib\\site-packages\\sklearn\\svm\\_base.py:1235: ConvergenceWarning: Liblinear failed to converge, increase the number of iterations.\n",
      "  warnings.warn(\n"
     ]
    },
    {
     "name": "stdout",
     "output_type": "stream",
     "text": [
      "\tmodel trained in 0.9338333606719971 seconds\n",
      "Training model with leave-one-out design for 1881_Dudak.xml\n",
      "\tTraining started\n"
     ]
    },
    {
     "name": "stderr",
     "output_type": "stream",
     "text": [
      "c:\\Users\\valek\\AppData\\Local\\Programs\\Python\\Python313\\Lib\\site-packages\\sklearn\\svm\\_base.py:1235: ConvergenceWarning: Liblinear failed to converge, increase the number of iterations.\n",
      "  warnings.warn(\n"
     ]
    },
    {
     "name": "stdout",
     "output_type": "stream",
     "text": [
      "\tmodel trained in 1.0526113510131836 seconds\n",
      "Training model with leave-one-out design for 1882_Drevorubec.xml\n",
      "\tTraining started\n"
     ]
    },
    {
     "name": "stderr",
     "output_type": "stream",
     "text": [
      "c:\\Users\\valek\\AppData\\Local\\Programs\\Python\\Python313\\Lib\\site-packages\\sklearn\\svm\\_base.py:1235: ConvergenceWarning: Liblinear failed to converge, increase the number of iterations.\n",
      "  warnings.warn(\n"
     ]
    },
    {
     "name": "stdout",
     "output_type": "stream",
     "text": [
      "\tmodel trained in 1.2001049518585205 seconds\n",
      "Training model with leave-one-out design for 1883_Oldrich_a_Bozena.xml\n",
      "\tTraining started\n"
     ]
    },
    {
     "name": "stderr",
     "output_type": "stream",
     "text": [
      "c:\\Users\\valek\\AppData\\Local\\Programs\\Python\\Python313\\Lib\\site-packages\\sklearn\\svm\\_base.py:1235: ConvergenceWarning: Liblinear failed to converge, increase the number of iterations.\n",
      "  warnings.warn(\n"
     ]
    },
    {
     "name": "stdout",
     "output_type": "stream",
     "text": [
      "\tmodel trained in 1.2417490482330322 seconds\n",
      "Training model with leave-one-out design for 1883_V_zatisi.xml\n",
      "\tTraining started\n"
     ]
    },
    {
     "name": "stderr",
     "output_type": "stream",
     "text": [
      "c:\\Users\\valek\\AppData\\Local\\Programs\\Python\\Python313\\Lib\\site-packages\\sklearn\\svm\\_base.py:1235: ConvergenceWarning: Liblinear failed to converge, increase the number of iterations.\n",
      "  warnings.warn(\n"
     ]
    },
    {
     "name": "stdout",
     "output_type": "stream",
     "text": [
      "\tmodel trained in 0.9712679386138916 seconds\n",
      "Training model with leave-one-out design for 1883_Za_volnost_a_viru.xml\n",
      "\tTraining started\n"
     ]
    },
    {
     "name": "stderr",
     "output_type": "stream",
     "text": [
      "c:\\Users\\valek\\AppData\\Local\\Programs\\Python\\Python313\\Lib\\site-packages\\sklearn\\svm\\_base.py:1235: ConvergenceWarning: Liblinear failed to converge, increase the number of iterations.\n",
      "  warnings.warn(\n"
     ]
    },
    {
     "name": "stdout",
     "output_type": "stream",
     "text": [
      "\tmodel trained in 0.9490435123443604 seconds\n",
      "Training model with leave-one-out design for 1884_Horec_a_srdecnik.xml\n",
      "\tTraining started\n"
     ]
    },
    {
     "name": "stderr",
     "output_type": "stream",
     "text": [
      "c:\\Users\\valek\\AppData\\Local\\Programs\\Python\\Python313\\Lib\\site-packages\\sklearn\\svm\\_base.py:1235: ConvergenceWarning: Liblinear failed to converge, increase the number of iterations.\n",
      "  warnings.warn(\n"
     ]
    },
    {
     "name": "stdout",
     "output_type": "stream",
     "text": [
      "\tmodel trained in 1.4860563278198242 seconds\n",
      "Training model with leave-one-out design for 1884_Na_prastkach.xml\n",
      "\tTraining started\n"
     ]
    },
    {
     "name": "stderr",
     "output_type": "stream",
     "text": [
      "c:\\Users\\valek\\AppData\\Local\\Programs\\Python\\Python313\\Lib\\site-packages\\sklearn\\svm\\_base.py:1235: ConvergenceWarning: Liblinear failed to converge, increase the number of iterations.\n",
      "  warnings.warn(\n"
     ]
    },
    {
     "name": "stdout",
     "output_type": "stream",
     "text": [
      "\tmodel trained in 1.1990540027618408 seconds\n",
      "Training model with leave-one-out design for 1885_Pisne.xml\n",
      "\tTraining started\n"
     ]
    },
    {
     "name": "stderr",
     "output_type": "stream",
     "text": [
      "c:\\Users\\valek\\AppData\\Local\\Programs\\Python\\Python313\\Lib\\site-packages\\sklearn\\svm\\_base.py:1235: ConvergenceWarning: Liblinear failed to converge, increase the number of iterations.\n",
      "  warnings.warn(\n"
     ]
    },
    {
     "name": "stdout",
     "output_type": "stream",
     "text": [
      "\tmodel trained in 1.158383846282959 seconds\n",
      "Training model with leave-one-out design for 1885_Pod_Vitkovym_kamenem.xml\n",
      "\tTraining started\n"
     ]
    },
    {
     "name": "stderr",
     "output_type": "stream",
     "text": [
      "c:\\Users\\valek\\AppData\\Local\\Programs\\Python\\Python313\\Lib\\site-packages\\sklearn\\svm\\_base.py:1235: ConvergenceWarning: Liblinear failed to converge, increase the number of iterations.\n",
      "  warnings.warn(\n"
     ]
    },
    {
     "name": "stdout",
     "output_type": "stream",
     "text": [
      "\tmodel trained in 1.139397144317627 seconds\n",
      "Training model with leave-one-out design for 1886_Bela.xml\n",
      "\tTraining started\n"
     ]
    },
    {
     "name": "stderr",
     "output_type": "stream",
     "text": [
      "c:\\Users\\valek\\AppData\\Local\\Programs\\Python\\Python313\\Lib\\site-packages\\sklearn\\svm\\_base.py:1235: ConvergenceWarning: Liblinear failed to converge, increase the number of iterations.\n",
      "  warnings.warn(\n"
     ]
    },
    {
     "name": "stdout",
     "output_type": "stream",
     "text": [
      "\tmodel trained in 1.0613799095153809 seconds\n",
      "Training model with leave-one-out design for 1886_Zavate_listy.xml\n",
      "\tTraining started\n"
     ]
    },
    {
     "name": "stderr",
     "output_type": "stream",
     "text": [
      "c:\\Users\\valek\\AppData\\Local\\Programs\\Python\\Python313\\Lib\\site-packages\\sklearn\\svm\\_base.py:1235: ConvergenceWarning: Liblinear failed to converge, increase the number of iterations.\n",
      "  warnings.warn(\n"
     ]
    },
    {
     "name": "stdout",
     "output_type": "stream",
     "text": [
      "\tmodel trained in 1.218550682067871 seconds\n",
      "Training model with leave-one-out design for 1888_Obrazky.xml\n",
      "\tTraining started\n"
     ]
    },
    {
     "name": "stderr",
     "output_type": "stream",
     "text": [
      "c:\\Users\\valek\\AppData\\Local\\Programs\\Python\\Python313\\Lib\\site-packages\\sklearn\\svm\\_base.py:1235: ConvergenceWarning: Liblinear failed to converge, increase the number of iterations.\n",
      "  warnings.warn(\n"
     ]
    },
    {
     "name": "stdout",
     "output_type": "stream",
     "text": [
      "\tmodel trained in 1.4658854007720947 seconds\n",
      "Training model with leave-one-out design for 1888_Pisen_o_bitve_u_Kressenbrunnu.xml\n",
      "\tTraining started\n"
     ]
    },
    {
     "name": "stderr",
     "output_type": "stream",
     "text": [
      "c:\\Users\\valek\\AppData\\Local\\Programs\\Python\\Python313\\Lib\\site-packages\\sklearn\\svm\\_base.py:1235: ConvergenceWarning: Liblinear failed to converge, increase the number of iterations.\n",
      "  warnings.warn(\n"
     ]
    },
    {
     "name": "stdout",
     "output_type": "stream",
     "text": [
      "\tmodel trained in 1.454420566558838 seconds\n",
      "Training model with leave-one-out design for 1888_Sipy_a_paprsky.xml\n",
      "\tTraining started\n"
     ]
    },
    {
     "name": "stderr",
     "output_type": "stream",
     "text": [
      "c:\\Users\\valek\\AppData\\Local\\Programs\\Python\\Python313\\Lib\\site-packages\\sklearn\\svm\\_base.py:1235: ConvergenceWarning: Liblinear failed to converge, increase the number of iterations.\n",
      "  warnings.warn(\n"
     ]
    },
    {
     "name": "stdout",
     "output_type": "stream",
     "text": [
      "\tmodel trained in 1.2577331066131592 seconds\n",
      "Training model with leave-one-out design for 1890_Na_vlnach.xml\n",
      "\tTraining started\n"
     ]
    },
    {
     "name": "stderr",
     "output_type": "stream",
     "text": [
      "c:\\Users\\valek\\AppData\\Local\\Programs\\Python\\Python313\\Lib\\site-packages\\sklearn\\svm\\_base.py:1235: ConvergenceWarning: Liblinear failed to converge, increase the number of iterations.\n",
      "  warnings.warn(\n"
     ]
    },
    {
     "name": "stdout",
     "output_type": "stream",
     "text": [
      "\tmodel trained in 1.0670180320739746 seconds\n",
      "Training model with leave-one-out design for 1894_Bohatyri.xml\n",
      "\tTraining started\n"
     ]
    },
    {
     "name": "stderr",
     "output_type": "stream",
     "text": [
      "c:\\Users\\valek\\AppData\\Local\\Programs\\Python\\Python313\\Lib\\site-packages\\sklearn\\svm\\_base.py:1235: ConvergenceWarning: Liblinear failed to converge, increase the number of iterations.\n",
      "  warnings.warn(\n"
     ]
    },
    {
     "name": "stdout",
     "output_type": "stream",
     "text": [
      "\tmodel trained in 1.1012601852416992 seconds\n",
      "Training model with leave-one-out design for 1894_Na_potulkach.xml\n",
      "\tTraining started\n"
     ]
    },
    {
     "name": "stderr",
     "output_type": "stream",
     "text": [
      "c:\\Users\\valek\\AppData\\Local\\Programs\\Python\\Python313\\Lib\\site-packages\\sklearn\\svm\\_base.py:1235: ConvergenceWarning: Liblinear failed to converge, increase the number of iterations.\n",
      "  warnings.warn(\n"
     ]
    },
    {
     "name": "stdout",
     "output_type": "stream",
     "text": [
      "\tmodel trained in 1.1363894939422607 seconds\n",
      "Training model with leave-one-out design for 1897_Nove_Ciganske_melodie_(in_Spisy_Adolfa_Heyduka,_svazek_1).xml\n",
      "\tTraining started\n"
     ]
    },
    {
     "name": "stderr",
     "output_type": "stream",
     "text": [
      "c:\\Users\\valek\\AppData\\Local\\Programs\\Python\\Python313\\Lib\\site-packages\\sklearn\\svm\\_base.py:1235: ConvergenceWarning: Liblinear failed to converge, increase the number of iterations.\n",
      "  warnings.warn(\n"
     ]
    },
    {
     "name": "stdout",
     "output_type": "stream",
     "text": [
      "\tmodel trained in 1.3352584838867188 seconds\n",
      "Training model with leave-one-out design for 1897_Ptaci_motivy_1,_2_(in_Spisy_Adolfa_Heyduka,_svazek_2).xml\n",
      "\tTraining started\n"
     ]
    },
    {
     "name": "stderr",
     "output_type": "stream",
     "text": [
      "c:\\Users\\valek\\AppData\\Local\\Programs\\Python\\Python313\\Lib\\site-packages\\sklearn\\svm\\_base.py:1235: ConvergenceWarning: Liblinear failed to converge, increase the number of iterations.\n",
      "  warnings.warn(\n"
     ]
    },
    {
     "name": "stdout",
     "output_type": "stream",
     "text": [
      "\tmodel trained in 1.3933908939361572 seconds\n",
      "Training model with leave-one-out design for 1897_Ptaci_motivy_3,_4_(in_Spisy_Adolfa_Heyduka,_svazek_2).xml\n",
      "\tTraining started\n"
     ]
    },
    {
     "name": "stderr",
     "output_type": "stream",
     "text": [
      "c:\\Users\\valek\\AppData\\Local\\Programs\\Python\\Python313\\Lib\\site-packages\\sklearn\\svm\\_base.py:1235: ConvergenceWarning: Liblinear failed to converge, increase the number of iterations.\n",
      "  warnings.warn(\n"
     ]
    },
    {
     "name": "stdout",
     "output_type": "stream",
     "text": [
      "\tmodel trained in 1.03116774559021 seconds\n",
      "Training model with leave-one-out design for 1898_Cesti_spisovatele_ceskym_delnikum_narodnim_k_1._maji_1898.xml\n",
      "\tTraining started\n"
     ]
    },
    {
     "name": "stderr",
     "output_type": "stream",
     "text": [
      "c:\\Users\\valek\\AppData\\Local\\Programs\\Python\\Python313\\Lib\\site-packages\\sklearn\\svm\\_base.py:1235: ConvergenceWarning: Liblinear failed to converge, increase the number of iterations.\n",
      "  warnings.warn(\n"
     ]
    },
    {
     "name": "stdout",
     "output_type": "stream",
     "text": [
      "\tmodel trained in 1.1372098922729492 seconds\n",
      "Training model with leave-one-out design for 1898_Milota_(in_Spisy_Adolfa_Heyduka,_svazek_7).xml\n",
      "\tTraining started\n"
     ]
    },
    {
     "name": "stderr",
     "output_type": "stream",
     "text": [
      "c:\\Users\\valek\\AppData\\Local\\Programs\\Python\\Python313\\Lib\\site-packages\\sklearn\\svm\\_base.py:1235: ConvergenceWarning: Liblinear failed to converge, increase the number of iterations.\n",
      "  warnings.warn(\n"
     ]
    },
    {
     "name": "stdout",
     "output_type": "stream",
     "text": [
      "\tmodel trained in 0.8697681427001953 seconds\n",
      "Training model with leave-one-out design for 1898_Tri_zkazky_(in_Spisy_Adolfa_Heyduka,_svazek_5).xml\n",
      "\tTraining started\n"
     ]
    },
    {
     "name": "stderr",
     "output_type": "stream",
     "text": [
      "c:\\Users\\valek\\AppData\\Local\\Programs\\Python\\Python313\\Lib\\site-packages\\sklearn\\svm\\_base.py:1235: ConvergenceWarning: Liblinear failed to converge, increase the number of iterations.\n",
      "  warnings.warn(\n"
     ]
    },
    {
     "name": "stdout",
     "output_type": "stream",
     "text": [
      "\tmodel trained in 1.109358549118042 seconds\n",
      "Training model with leave-one-out design for 1899_Dumy_a_dojmy_(in_Spisy_Adolfa_Heyduka,_svazek_13).xml\n",
      "\tTraining started\n"
     ]
    },
    {
     "name": "stderr",
     "output_type": "stream",
     "text": [
      "c:\\Users\\valek\\AppData\\Local\\Programs\\Python\\Python313\\Lib\\site-packages\\sklearn\\svm\\_base.py:1235: ConvergenceWarning: Liblinear failed to converge, increase the number of iterations.\n",
      "  warnings.warn(\n"
     ]
    },
    {
     "name": "stdout",
     "output_type": "stream",
     "text": [
      "\tmodel trained in 1.2522950172424316 seconds\n",
      "Training model with leave-one-out design for 1899_Rosa_a_jini_(in_Spisy_Adolfa_Heyduka,_svazek_15).xml\n",
      "\tTraining started\n"
     ]
    },
    {
     "name": "stderr",
     "output_type": "stream",
     "text": [
      "c:\\Users\\valek\\AppData\\Local\\Programs\\Python\\Python313\\Lib\\site-packages\\sklearn\\svm\\_base.py:1235: ConvergenceWarning: Liblinear failed to converge, increase the number of iterations.\n",
      "  warnings.warn(\n"
     ]
    },
    {
     "name": "stdout",
     "output_type": "stream",
     "text": [
      "\tmodel trained in 1.1680262088775635 seconds\n",
      "Training model with leave-one-out design for 1899_Za_dlouhych_veceru_(in_Spisy_Adolfa_Heyduka,_svazek_14).xml\n",
      "\tTraining started\n"
     ]
    },
    {
     "name": "stderr",
     "output_type": "stream",
     "text": [
      "c:\\Users\\valek\\AppData\\Local\\Programs\\Python\\Python313\\Lib\\site-packages\\sklearn\\svm\\_base.py:1235: ConvergenceWarning: Liblinear failed to converge, increase the number of iterations.\n",
      "  warnings.warn(\n"
     ]
    },
    {
     "name": "stdout",
     "output_type": "stream",
     "text": [
      "\tmodel trained in 0.9775798320770264 seconds\n",
      "Training model with leave-one-out design for 1899_Zpevy_posumavskeho_dudaka_1_(in_Spisy_Adolfa_Heyduka,_svazek_10).xml\n",
      "\tTraining started\n"
     ]
    },
    {
     "name": "stderr",
     "output_type": "stream",
     "text": [
      "c:\\Users\\valek\\AppData\\Local\\Programs\\Python\\Python313\\Lib\\site-packages\\sklearn\\svm\\_base.py:1235: ConvergenceWarning: Liblinear failed to converge, increase the number of iterations.\n",
      "  warnings.warn(\n"
     ]
    },
    {
     "name": "stdout",
     "output_type": "stream",
     "text": [
      "\tmodel trained in 0.9263820648193359 seconds\n",
      "Training model with leave-one-out design for 1899_Zpevy_posumavskeho_dudaka_2_(in_Spisy_Adolfa_Heyduka_11).xml\n",
      "\tTraining started\n"
     ]
    },
    {
     "name": "stderr",
     "output_type": "stream",
     "text": [
      "c:\\Users\\valek\\AppData\\Local\\Programs\\Python\\Python313\\Lib\\site-packages\\sklearn\\svm\\_base.py:1235: ConvergenceWarning: Liblinear failed to converge, increase the number of iterations.\n",
      "  warnings.warn(\n"
     ]
    },
    {
     "name": "stdout",
     "output_type": "stream",
     "text": [
      "\tmodel trained in 1.2797601222991943 seconds\n",
      "Training model with leave-one-out design for 1899_Zpevy_posumavskeho_dudaka_3_(in_Spisy_Adolfa_Heyduka,_svazek_12).xml\n",
      "\tTraining started\n"
     ]
    },
    {
     "name": "stderr",
     "output_type": "stream",
     "text": [
      "c:\\Users\\valek\\AppData\\Local\\Programs\\Python\\Python313\\Lib\\site-packages\\sklearn\\svm\\_base.py:1235: ConvergenceWarning: Liblinear failed to converge, increase the number of iterations.\n",
      "  warnings.warn(\n"
     ]
    },
    {
     "name": "stdout",
     "output_type": "stream",
     "text": [
      "\tmodel trained in 1.304673194885254 seconds\n",
      "Training model with leave-one-out design for 1900_Cerne_ruze_(in_Spisy_Adolfa_Heyduka,_svazek_21).xml\n",
      "\tTraining started\n"
     ]
    },
    {
     "name": "stderr",
     "output_type": "stream",
     "text": [
      "c:\\Users\\valek\\AppData\\Local\\Programs\\Python\\Python313\\Lib\\site-packages\\sklearn\\svm\\_base.py:1235: ConvergenceWarning: Liblinear failed to converge, increase the number of iterations.\n",
      "  warnings.warn(\n"
     ]
    },
    {
     "name": "stdout",
     "output_type": "stream",
     "text": [
      "\tmodel trained in 1.284611463546753 seconds\n",
      "Training model with leave-one-out design for 1900_Na_cerne_hodince_(in_Spisy_Adolfa_Heyduka,_svazek_16).xml\n",
      "\tTraining started\n"
     ]
    },
    {
     "name": "stderr",
     "output_type": "stream",
     "text": [
      "c:\\Users\\valek\\AppData\\Local\\Programs\\Python\\Python313\\Lib\\site-packages\\sklearn\\svm\\_base.py:1235: ConvergenceWarning: Liblinear failed to converge, increase the number of iterations.\n",
      "  warnings.warn(\n"
     ]
    },
    {
     "name": "stdout",
     "output_type": "stream",
     "text": [
      "\tmodel trained in 0.9247102737426758 seconds\n",
      "Training model with leave-one-out design for 1900_Parnasie_(in_Spisy_Adolfa_Heyduka,_svazek_17).xml\n",
      "\tTraining started\n"
     ]
    },
    {
     "name": "stderr",
     "output_type": "stream",
     "text": [
      "c:\\Users\\valek\\AppData\\Local\\Programs\\Python\\Python313\\Lib\\site-packages\\sklearn\\svm\\_base.py:1235: ConvergenceWarning: Liblinear failed to converge, increase the number of iterations.\n",
      "  warnings.warn(\n"
     ]
    },
    {
     "name": "stdout",
     "output_type": "stream",
     "text": [
      "\tmodel trained in 1.493370532989502 seconds\n",
      "Training model with leave-one-out design for 1900_V_polich_(in_Spisy_Adolfa_Heyduka,_svazek_19).xml\n",
      "\tTraining started\n"
     ]
    },
    {
     "name": "stderr",
     "output_type": "stream",
     "text": [
      "c:\\Users\\valek\\AppData\\Local\\Programs\\Python\\Python313\\Lib\\site-packages\\sklearn\\svm\\_base.py:1235: ConvergenceWarning: Liblinear failed to converge, increase the number of iterations.\n",
      "  warnings.warn(\n"
     ]
    },
    {
     "name": "stdout",
     "output_type": "stream",
     "text": [
      "\tmodel trained in 1.081106185913086 seconds\n",
      "Training model with leave-one-out design for 1900_V_zaseru_minulosti_(in_Spisy_Adolfa_Heyduka,_svazek_18).xml\n",
      "\tTraining started\n"
     ]
    },
    {
     "name": "stderr",
     "output_type": "stream",
     "text": [
      "c:\\Users\\valek\\AppData\\Local\\Programs\\Python\\Python313\\Lib\\site-packages\\sklearn\\svm\\_base.py:1235: ConvergenceWarning: Liblinear failed to converge, increase the number of iterations.\n",
      "  warnings.warn(\n"
     ]
    },
    {
     "name": "stdout",
     "output_type": "stream",
     "text": [
      "\tmodel trained in 1.1042428016662598 seconds\n",
      "Training model with leave-one-out design for 1901_Lotysske_motivy_(in_Spisy_Adolfa_Heyduka,_svazek_23).xml\n",
      "\tTraining started\n"
     ]
    },
    {
     "name": "stderr",
     "output_type": "stream",
     "text": [
      "c:\\Users\\valek\\AppData\\Local\\Programs\\Python\\Python313\\Lib\\site-packages\\sklearn\\svm\\_base.py:1235: ConvergenceWarning: Liblinear failed to converge, increase the number of iterations.\n",
      "  warnings.warn(\n"
     ]
    },
    {
     "name": "stdout",
     "output_type": "stream",
     "text": [
      "\tmodel trained in 1.3606042861938477 seconds\n",
      "Training model with leave-one-out design for 1901_Pohadky_duse_(in_Spisy_Adolfa_Heyduka,_svazek_25).xml\n",
      "\tTraining started\n"
     ]
    },
    {
     "name": "stderr",
     "output_type": "stream",
     "text": [
      "c:\\Users\\valek\\AppData\\Local\\Programs\\Python\\Python313\\Lib\\site-packages\\sklearn\\svm\\_base.py:1235: ConvergenceWarning: Liblinear failed to converge, increase the number of iterations.\n",
      "  warnings.warn(\n"
     ]
    },
    {
     "name": "stdout",
     "output_type": "stream",
     "text": [
      "\tmodel trained in 0.9783365726470947 seconds\n",
      "Training model with leave-one-out design for 1901_V_samotach_(in_Spisy_Adolfa_Heyduka,_svazek_26).xml\n",
      "\tTraining started\n"
     ]
    },
    {
     "name": "stderr",
     "output_type": "stream",
     "text": [
      "c:\\Users\\valek\\AppData\\Local\\Programs\\Python\\Python313\\Lib\\site-packages\\sklearn\\svm\\_base.py:1235: ConvergenceWarning: Liblinear failed to converge, increase the number of iterations.\n",
      "  warnings.warn(\n"
     ]
    },
    {
     "name": "stdout",
     "output_type": "stream",
     "text": [
      "\tmodel trained in 1.210336685180664 seconds\n",
      "Training model with leave-one-out design for 1901_Z_rodnych_hor_(in_Spisy_Adolfa_Heyduka,_svazek_24).xml\n",
      "\tTraining started\n"
     ]
    },
    {
     "name": "stderr",
     "output_type": "stream",
     "text": [
      "c:\\Users\\valek\\AppData\\Local\\Programs\\Python\\Python313\\Lib\\site-packages\\sklearn\\svm\\_base.py:1235: ConvergenceWarning: Liblinear failed to converge, increase the number of iterations.\n",
      "  warnings.warn(\n"
     ]
    },
    {
     "name": "stdout",
     "output_type": "stream",
     "text": [
      "\tmodel trained in 1.3092477321624756 seconds\n",
      "Training model with leave-one-out design for 1902_Biblicke_zvesti_(in_Spisy_Adolfa_Heyduka,_svazek_31).xml\n",
      "\tTraining started\n"
     ]
    },
    {
     "name": "stderr",
     "output_type": "stream",
     "text": [
      "c:\\Users\\valek\\AppData\\Local\\Programs\\Python\\Python313\\Lib\\site-packages\\sklearn\\svm\\_base.py:1235: ConvergenceWarning: Liblinear failed to converge, increase the number of iterations.\n",
      "  warnings.warn(\n"
     ]
    },
    {
     "name": "stdout",
     "output_type": "stream",
     "text": [
      "\tmodel trained in 0.9753825664520264 seconds\n",
      "Training model with leave-one-out design for 1902_Ritornely_(in_Spisy_Adolfa_Heyduka,_svazek_29).xml\n",
      "\tTraining started\n"
     ]
    },
    {
     "name": "stderr",
     "output_type": "stream",
     "text": [
      "c:\\Users\\valek\\AppData\\Local\\Programs\\Python\\Python313\\Lib\\site-packages\\sklearn\\svm\\_base.py:1235: ConvergenceWarning: Liblinear failed to converge, increase the number of iterations.\n",
      "  warnings.warn(\n"
     ]
    },
    {
     "name": "stdout",
     "output_type": "stream",
     "text": [
      "\tmodel trained in 1.2273950576782227 seconds\n",
      "Training model with leave-one-out design for 1902_Z_pouti_na_Kavkaz_(in_Spisy_Adolfa_Heyduka,_svazek_30).xml\n",
      "\tTraining started\n"
     ]
    },
    {
     "name": "stderr",
     "output_type": "stream",
     "text": [
      "c:\\Users\\valek\\AppData\\Local\\Programs\\Python\\Python313\\Lib\\site-packages\\sklearn\\svm\\_base.py:1235: ConvergenceWarning: Liblinear failed to converge, increase the number of iterations.\n",
      "  warnings.warn(\n"
     ]
    },
    {
     "name": "stdout",
     "output_type": "stream",
     "text": [
      "\tmodel trained in 1.2673227787017822 seconds\n",
      "Training model with leave-one-out design for 1903_Cestou_(in_Spisy_Adolfa_Heyduka,_svazek_34).xml\n",
      "\tTraining started\n"
     ]
    },
    {
     "name": "stderr",
     "output_type": "stream",
     "text": [
      "c:\\Users\\valek\\AppData\\Local\\Programs\\Python\\Python313\\Lib\\site-packages\\sklearn\\svm\\_base.py:1235: ConvergenceWarning: Liblinear failed to converge, increase the number of iterations.\n",
      "  warnings.warn(\n"
     ]
    },
    {
     "name": "stdout",
     "output_type": "stream",
     "text": [
      "\tmodel trained in 1.2736279964447021 seconds\n",
      "Training model with leave-one-out design for 1904_Z_deniku_toulaveho_zpevaka_(in_Spisy_Adolfa_Heyduka,_svazek_36).xml\n",
      "\tTraining started\n"
     ]
    },
    {
     "name": "stderr",
     "output_type": "stream",
     "text": [
      "c:\\Users\\valek\\AppData\\Local\\Programs\\Python\\Python313\\Lib\\site-packages\\sklearn\\svm\\_base.py:1235: ConvergenceWarning: Liblinear failed to converge, increase the number of iterations.\n",
      "  warnings.warn(\n"
     ]
    },
    {
     "name": "stdout",
     "output_type": "stream",
     "text": [
      "\tmodel trained in 0.9837474822998047 seconds\n",
      "Training model with leave-one-out design for 1905_Znelky_(in_Spisy_Adolfa_Heyduka,_svazek_40).xml\n",
      "\tTraining started\n"
     ]
    },
    {
     "name": "stderr",
     "output_type": "stream",
     "text": [
      "c:\\Users\\valek\\AppData\\Local\\Programs\\Python\\Python313\\Lib\\site-packages\\sklearn\\svm\\_base.py:1235: ConvergenceWarning: Liblinear failed to converge, increase the number of iterations.\n",
      "  warnings.warn(\n"
     ]
    },
    {
     "name": "stdout",
     "output_type": "stream",
     "text": [
      "\tmodel trained in 1.1589412689208984 seconds\n",
      "Training model with leave-one-out design for 1906_Vychod_a_Zapad_(in_Spisy_Adolfa_Heyduka,_svazek_41).xml\n",
      "\tTraining started\n"
     ]
    },
    {
     "name": "stderr",
     "output_type": "stream",
     "text": [
      "c:\\Users\\valek\\AppData\\Local\\Programs\\Python\\Python313\\Lib\\site-packages\\sklearn\\svm\\_base.py:1235: ConvergenceWarning: Liblinear failed to converge, increase the number of iterations.\n",
      "  warnings.warn(\n"
     ]
    },
    {
     "name": "stdout",
     "output_type": "stream",
     "text": [
      "\tmodel trained in 0.9069287776947021 seconds\n",
      "Training model with leave-one-out design for 1908_Apel_k_trunu_za_vrazdy_v_Cernove.xml\n",
      "\tTraining started\n"
     ]
    },
    {
     "name": "stderr",
     "output_type": "stream",
     "text": [
      "c:\\Users\\valek\\AppData\\Local\\Programs\\Python\\Python313\\Lib\\site-packages\\sklearn\\svm\\_base.py:1235: ConvergenceWarning: Liblinear failed to converge, increase the number of iterations.\n",
      "  warnings.warn(\n"
     ]
    },
    {
     "name": "stdout",
     "output_type": "stream",
     "text": [
      "\tmodel trained in 1.2617125511169434 seconds\n",
      "Training model with leave-one-out design for 1908_Sekernik_1_(in_Spisy_Adolfa_Heyduka,_svazek_3).xml\n",
      "\tTraining started\n"
     ]
    },
    {
     "name": "stderr",
     "output_type": "stream",
     "text": [
      "c:\\Users\\valek\\AppData\\Local\\Programs\\Python\\Python313\\Lib\\site-packages\\sklearn\\svm\\_base.py:1235: ConvergenceWarning: Liblinear failed to converge, increase the number of iterations.\n",
      "  warnings.warn(\n"
     ]
    },
    {
     "name": "stdout",
     "output_type": "stream",
     "text": [
      "\tmodel trained in 1.0343375205993652 seconds\n",
      "Training model with leave-one-out design for 1908_Sekernik_2_(in_Spisy_Adolfa_Heyduka,_svazek_3).xml\n",
      "\tTraining started\n"
     ]
    },
    {
     "name": "stderr",
     "output_type": "stream",
     "text": [
      "c:\\Users\\valek\\AppData\\Local\\Programs\\Python\\Python313\\Lib\\site-packages\\sklearn\\svm\\_base.py:1235: ConvergenceWarning: Liblinear failed to converge, increase the number of iterations.\n",
      "  warnings.warn(\n"
     ]
    },
    {
     "name": "stdout",
     "output_type": "stream",
     "text": [
      "\tmodel trained in 1.0340535640716553 seconds\n",
      "Training model with leave-one-out design for 1908_Skudci_a_dobrodruzi_(Spisy_Adolfa_Heyduka,_svazek_46).xml\n",
      "\tTraining started\n"
     ]
    },
    {
     "name": "stderr",
     "output_type": "stream",
     "text": [
      "c:\\Users\\valek\\AppData\\Local\\Programs\\Python\\Python313\\Lib\\site-packages\\sklearn\\svm\\_base.py:1235: ConvergenceWarning: Liblinear failed to converge, increase the number of iterations.\n",
      "  warnings.warn(\n"
     ]
    },
    {
     "name": "stdout",
     "output_type": "stream",
     "text": [
      "\tmodel trained in 1.0175516605377197 seconds\n",
      "Training model with leave-one-out design for 1909_Almanach_akademickeho_spolku_Orlican.xml\n",
      "\tTraining started\n"
     ]
    },
    {
     "name": "stderr",
     "output_type": "stream",
     "text": [
      "c:\\Users\\valek\\AppData\\Local\\Programs\\Python\\Python313\\Lib\\site-packages\\sklearn\\svm\\_base.py:1235: ConvergenceWarning: Liblinear failed to converge, increase the number of iterations.\n",
      "  warnings.warn(\n"
     ]
    },
    {
     "name": "stdout",
     "output_type": "stream",
     "text": [
      "\tmodel trained in 1.2996163368225098 seconds\n",
      "Training model with leave-one-out design for 1910_Co_hlavou_tahlo_(in_Spisy_Adolfa_Heyduka,_svazek_50).xml\n",
      "\tTraining started\n"
     ]
    },
    {
     "name": "stderr",
     "output_type": "stream",
     "text": [
      "c:\\Users\\valek\\AppData\\Local\\Programs\\Python\\Python313\\Lib\\site-packages\\sklearn\\svm\\_base.py:1235: ConvergenceWarning: Liblinear failed to converge, increase the number of iterations.\n",
      "  warnings.warn(\n"
     ]
    },
    {
     "name": "stdout",
     "output_type": "stream",
     "text": [
      "\tmodel trained in 1.262563705444336 seconds\n",
      "Training model with leave-one-out design for 1910_Oddech_v_lese.xml\n",
      "\tTraining started\n"
     ]
    },
    {
     "name": "stderr",
     "output_type": "stream",
     "text": [
      "c:\\Users\\valek\\AppData\\Local\\Programs\\Python\\Python313\\Lib\\site-packages\\sklearn\\svm\\_base.py:1235: ConvergenceWarning: Liblinear failed to converge, increase the number of iterations.\n",
      "  warnings.warn(\n"
     ]
    },
    {
     "name": "stdout",
     "output_type": "stream",
     "text": [
      "\tmodel trained in 1.2857520580291748 seconds\n",
      "Training model with leave-one-out design for 1910_Od_Tater_a_Dunaje_(in_Spisy_Adolfa_Heyduka,_svazek_49).xml\n",
      "\tTraining started\n"
     ]
    },
    {
     "name": "stderr",
     "output_type": "stream",
     "text": [
      "c:\\Users\\valek\\AppData\\Local\\Programs\\Python\\Python313\\Lib\\site-packages\\sklearn\\svm\\_base.py:1235: ConvergenceWarning: Liblinear failed to converge, increase the number of iterations.\n",
      "  warnings.warn(\n"
     ]
    },
    {
     "name": "stdout",
     "output_type": "stream",
     "text": [
      "\tmodel trained in 0.9337501525878906 seconds\n",
      "Training model with leave-one-out design for 1913_Nekolik_povesti_z_Posumavi_(in_Spisy_Adolfa_Heyduka,_svazek_54).xml\n",
      "\tTraining started\n"
     ]
    },
    {
     "name": "stderr",
     "output_type": "stream",
     "text": [
      "c:\\Users\\valek\\AppData\\Local\\Programs\\Python\\Python313\\Lib\\site-packages\\sklearn\\svm\\_base.py:1235: ConvergenceWarning: Liblinear failed to converge, increase the number of iterations.\n",
      "  warnings.warn(\n"
     ]
    },
    {
     "name": "stdout",
     "output_type": "stream",
     "text": [
      "\tmodel trained in 1.203805685043335 seconds\n",
      "Training model with leave-one-out design for 1913_Rozmanite_zvesti_a_drobne_deje_(in_Spisy_Adolfa_Heyduka,_svazek_53).xml\n",
      "\tTraining started\n"
     ]
    },
    {
     "name": "stderr",
     "output_type": "stream",
     "text": [
      "c:\\Users\\valek\\AppData\\Local\\Programs\\Python\\Python313\\Lib\\site-packages\\sklearn\\svm\\_base.py:1235: ConvergenceWarning: Liblinear failed to converge, increase the number of iterations.\n",
      "  warnings.warn(\n"
     ]
    },
    {
     "name": "stdout",
     "output_type": "stream",
     "text": [
      "\tmodel trained in 1.1229770183563232 seconds\n",
      "Training model with leave-one-out design for 1919_Slovensku_(in_Spisy_Adolfa_Heyduka,_svazek_55).xml\n",
      "\tTraining started\n"
     ]
    },
    {
     "name": "stderr",
     "output_type": "stream",
     "text": [
      "c:\\Users\\valek\\AppData\\Local\\Programs\\Python\\Python313\\Lib\\site-packages\\sklearn\\svm\\_base.py:1235: ConvergenceWarning: Liblinear failed to converge, increase the number of iterations.\n",
      "  warnings.warn(\n"
     ]
    },
    {
     "name": "stdout",
     "output_type": "stream",
     "text": [
      "\tmodel trained in 1.2650234699249268 seconds\n",
      "Training model with leave-one-out design for 1920_Obeti_presvedceni_(in_Spisy_Adolfa_Heyduka,_svazek_56).xml\n",
      "\tTraining started\n"
     ]
    },
    {
     "name": "stderr",
     "output_type": "stream",
     "text": [
      "c:\\Users\\valek\\AppData\\Local\\Programs\\Python\\Python313\\Lib\\site-packages\\sklearn\\svm\\_base.py:1235: ConvergenceWarning: Liblinear failed to converge, increase the number of iterations.\n",
      "  warnings.warn(\n"
     ]
    },
    {
     "name": "stdout",
     "output_type": "stream",
     "text": [
      "\tmodel trained in 1.2468657493591309 seconds\n",
      "Training model with leave-one-out design for 1920_Sny_kralovske_1_(in_Spisy_Adolfa_Heyduka,_svazek_57).xml\n",
      "\tTraining started\n"
     ]
    },
    {
     "name": "stderr",
     "output_type": "stream",
     "text": [
      "c:\\Users\\valek\\AppData\\Local\\Programs\\Python\\Python313\\Lib\\site-packages\\sklearn\\svm\\_base.py:1235: ConvergenceWarning: Liblinear failed to converge, increase the number of iterations.\n",
      "  warnings.warn(\n"
     ]
    },
    {
     "name": "stdout",
     "output_type": "stream",
     "text": [
      "\tmodel trained in 1.257641315460205 seconds\n",
      "Training model with leave-one-out design for 1920_Sny_kralovske_2_(in_Spisy_Adolfa_Heyduka,_svazek_58).xml\n",
      "\tTraining started\n"
     ]
    },
    {
     "name": "stderr",
     "output_type": "stream",
     "text": [
      "c:\\Users\\valek\\AppData\\Local\\Programs\\Python\\Python313\\Lib\\site-packages\\sklearn\\svm\\_base.py:1235: ConvergenceWarning: Liblinear failed to converge, increase the number of iterations.\n",
      "  warnings.warn(\n"
     ]
    },
    {
     "name": "stdout",
     "output_type": "stream",
     "text": [
      "\tmodel trained in 1.0633068084716797 seconds\n",
      "Training model with leave-one-out design for 1921_Epigramy.xml\n",
      "\tTraining started\n"
     ]
    },
    {
     "name": "stderr",
     "output_type": "stream",
     "text": [
      "c:\\Users\\valek\\AppData\\Local\\Programs\\Python\\Python313\\Lib\\site-packages\\sklearn\\svm\\_base.py:1235: ConvergenceWarning: Liblinear failed to converge, increase the number of iterations.\n",
      "  warnings.warn(\n"
     ]
    },
    {
     "name": "stdout",
     "output_type": "stream",
     "text": [
      "\tmodel trained in 1.297778844833374 seconds\n",
      "Training model with leave-one-out design for 1921_Sny_kralovske_3_(in_Spisy_Adolfa_Heyduka,_svazek_59).xml\n",
      "\tTraining started\n"
     ]
    },
    {
     "name": "stderr",
     "output_type": "stream",
     "text": [
      "c:\\Users\\valek\\AppData\\Local\\Programs\\Python\\Python313\\Lib\\site-packages\\sklearn\\svm\\_base.py:1235: ConvergenceWarning: Liblinear failed to converge, increase the number of iterations.\n",
      "  warnings.warn(\n"
     ]
    },
    {
     "name": "stdout",
     "output_type": "stream",
     "text": [
      "\tmodel trained in 0.9222815036773682 seconds\n",
      "Training model with leave-one-out design for 1921_Stesky_na_stezkach_stareho_zpevaka_(in_Spisy_Adolfa_Heyduka,_svazek_60).xml\n",
      "\tTraining started\n"
     ]
    },
    {
     "name": "stderr",
     "output_type": "stream",
     "text": [
      "c:\\Users\\valek\\AppData\\Local\\Programs\\Python\\Python313\\Lib\\site-packages\\sklearn\\svm\\_base.py:1235: ConvergenceWarning: Liblinear failed to converge, increase the number of iterations.\n",
      "  warnings.warn(\n"
     ]
    },
    {
     "name": "stdout",
     "output_type": "stream",
     "text": [
      "\tmodel trained in 1.3918654918670654 seconds\n",
      "Training model with leave-one-out design for 1923_Ciganska_melodie_(in_Spisy_Adolfa_Heyduka,_svazek_61).xml\n",
      "\tTraining started\n",
      "\tmodel trained in 1.3314683437347412 seconds\n"
     ]
    },
    {
     "name": "stderr",
     "output_type": "stream",
     "text": [
      "c:\\Users\\valek\\AppData\\Local\\Programs\\Python\\Python313\\Lib\\site-packages\\sklearn\\svm\\_base.py:1235: ConvergenceWarning: Liblinear failed to converge, increase the number of iterations.\n",
      "  warnings.warn(\n"
     ]
    }
   ],
   "source": [
    "\"\"\" Training models with leave-one-out design.\"\"\"\n",
    "\n",
    "files_for_hejduk = os.listdir(DATA_PATH_HEYDUK)\n",
    "\n",
    "print('number of files --> nuber of models:', len(files_for_hejduk))\n",
    "\n",
    "for test_f_hejduk in files_for_hejduk:\n",
    "    print('Training model with leave-one-out design for', test_f_hejduk)\n",
    "\n",
    "    data = []\n",
    "    targets = []\n",
    "\n",
    "    for train_f_hejduk_ in files_for_hejduk:\n",
    "        if train_f_hejduk_ != test_f_hejduk:\n",
    "            data_, targets_ = segment_file_to_data_et_targets(os.path.join(DATA_PATH_HEYDUK, train_f_hejduk_), year_window_size=10, segment_window=10, shift_size=5, feature_type='lemma', autosem_delexicalise=True, ignore_interpunkt=True)\n",
    "            data.extend(data_)\n",
    "            targets.extend(targets_)\n",
    "    \n",
    "    Hejduk_dateship = NKPdateship(data, targets)\n",
    "    \n",
    "    train_model(Hejduk_dateship, model_prefix=f'LOO_{test_f_hejduk}', model_name='LinearSVC', n_min=1, n_max=2)\n"
   ]
  },
  {
   "cell_type": "markdown",
   "metadata": {},
   "source": [
    "# Evaluating models"
   ]
  },
  {
   "cell_type": "code",
   "execution_count": 167,
   "metadata": {},
   "outputs": [],
   "source": [
    "def get_composition_et_vectorizer_from_model_name(model_name:str):\n",
    "    \"\"\"\n",
    "    Get the composition and vectorizer from the model name.\n",
    "\n",
    "    :param model_name: The model name.\n",
    "    \"\"\"\n",
    "    end_comp = model_name.find('_model')\n",
    "    composition = model_name[4:end_comp]\n",
    "    vectorizer = model_name.replace('_model', '_vectorizer')\n",
    "    end_vect = vectorizer.find('.m-')\n",
    "    vectorizer = vectorizer[:end_vect]+'.joblib'\n",
    "    \n",
    "    return composition, vectorizer"
   ]
  },
  {
   "cell_type": "code",
   "execution_count": 149,
   "metadata": {},
   "outputs": [],
   "source": [
    "def guess_instance_segment(model_filename:str, vectorizer_filename:str, data_to_eval:str, models_path=MODELS_PATH):\n",
    "    \"\"\"\n",
    "    This function is used within the guess_file function as a guess of one instance.\n",
    "    \n",
    "    :param model_filename: quite self-explanatory...\n",
    "    :param data_to_eval: input data must be a str in XML-like structure, already delexicalized (with \"<token>TOKEN</token>\")\n",
    "    \"\"\"\n",
    "\n",
    "    model = load(os.path.join(models_path, model_filename))\n",
    "    vectorizer = load(os.path.join(models_path, vectorizer_filename))\n",
    "\n",
    "    # Create test counts\n",
    "    X_guess_counts = vectorizer.transform([data_to_eval])\n",
    "\n",
    "    # Prediction and evaluation:\n",
    "    y_guess_pred = model.predict(X_guess_counts)\n",
    "    \n",
    "    print(f'\\tGUESS: model - {model_filename}, guessed time period - {y_guess_pred[0]}')\n",
    "\n",
    "    return y_guess_pred[0]"
   ]
  },
  {
   "cell_type": "code",
   "execution_count": 157,
   "metadata": {},
   "outputs": [
    {
     "name": "stdout",
     "output_type": "stream",
     "text": [
      "Number of segments: 7\n",
      "Number of targets: 7\n",
      "['1850-1859', '1850-1859', '1850-1859', '1850-1859', '1850-1859', '1850-1859', '1850-1859']\n"
     ]
    }
   ],
   "source": [
    "test_data, test_targets = segment_file_to_data_et_targets(os.path.join(DATA_PATH_HEYDUK, '1858_Maj.xml'))\n",
    "Hejduk_dateship_test = NKPdateship(test_data, test_targets)\n",
    "print(Hejduk_dateship_test.targets)"
   ]
  },
  {
   "cell_type": "code",
   "execution_count": 196,
   "metadata": {},
   "outputs": [],
   "source": [
    "def evaluate_model_on_loo_compostition(model_name:str, models_path=MODELS_PATH):\n",
    "    \"\"\"\n",
    "    This function evaluates the model on the leave-one-out composition.\n",
    "\n",
    "    :param model_name: The name of the model file (in joblib format).\n",
    "    :param models_path: The path to the models.\n",
    "    \"\"\"\n",
    "    composition, vectorizer = get_composition_et_vectorizer_from_model_name(model_name)\n",
    "\n",
    "    print('Evaluating model on', composition)\n",
    "\n",
    "    # TODO: implement the r-designations for the trainnig and testing datasets. Show this on the models filenames, etc. Also, show in the models filenames the window size, segment_window, and shift_size.\n",
    "    data, targets = segment_file_to_data_et_targets(os.path.join(DATA_PATH_HEYDUK, composition), year_window_size=10, segment_window=10, shift_size=5, feature_type='lemma', autosem_delexicalise=True, ignore_interpunkt=True)\n",
    "\n",
    "    Hejduk_test_dateship = NKPdateship(data, targets)\n",
    "\n",
    "    score = {'correct': 0, 'incorrect': 0}\n",
    "    detail = defaultdict(int)\n",
    "\n",
    "    for i, test_data in enumerate(Hejduk_test_dateship.data):\n",
    "        true_period = Hejduk_test_dateship.targets[i]\n",
    "\n",
    "        guessed_period = guess_instance_segment(model_name, vectorizer, test_data, models_path=models_path)\n",
    "\n",
    "        if guessed_period == true_period:\n",
    "            score['correct'] += 1\n",
    "        else:\n",
    "            score['incorrect'] += 1\n",
    "\n",
    "        detail[(true_period, guessed_period)] += 1\n",
    "\n",
    "    eval_score = score['correct'] / (score['correct'] + score['incorrect'])\n",
    "    print(composition, 'Score:', score, 'Evaluation score:', eval_score)\n",
    "    \n",
    "    return score, eval_score, detail"
   ]
  },
  {
   "cell_type": "code",
   "execution_count": 197,
   "metadata": {},
   "outputs": [
    {
     "name": "stdout",
     "output_type": "stream",
     "text": [
      "Evaluating model on 1858_Maj.xml\n",
      "\tGUESS: model - LOO_1858_Maj.xml_model_n-1,2.m-LinearSVC.joblib, guessed time period - 1880-1889\n",
      "1858_Maj.xml Score: {'correct': 0, 'incorrect': 1} Evaluation score: 0.0\n",
      "Evaluating model on 1859_Basne.xml\n",
      "\tGUESS: model - LOO_1859_Basne.xml_model_n-1,2.m-LinearSVC.joblib, guessed time period - 1900-1909\n",
      "1859_Basne.xml Score: {'correct': 0, 'incorrect': 1} Evaluation score: 0.0\n",
      "Evaluating model on 1864_Basne_2,_1.xml\n",
      "\tGUESS: model - LOO_1864_Basne_2,_1.xml_model_n-1,2.m-LinearSVC.joblib, guessed time period - 1900-1909\n",
      "\tGUESS: model - LOO_1864_Basne_2,_1.xml_model_n-1,2.m-LinearSVC.joblib, guessed time period - 1900-1909\n",
      "1864_Basne_2,_1.xml Score: {'correct': 0, 'incorrect': 2} Evaluation score: 0.0\n",
      "Evaluating model on 1865_Basne_2,_2.xml\n",
      "\tGUESS: model - LOO_1865_Basne_2,_2.xml_model_n-1,2.m-LinearSVC.joblib, guessed time period - 1880-1889\n",
      "\tGUESS: model - LOO_1865_Basne_2,_2.xml_model_n-1,2.m-LinearSVC.joblib, guessed time period - 1880-1889\n",
      "1865_Basne_2,_2.xml Score: {'correct': 0, 'incorrect': 2} Evaluation score: 0.0\n",
      "Evaluating model on 1873_Lesni_kviti.xml\n",
      "\tGUESS: model - LOO_1873_Lesni_kviti.xml_model_n-1,2.m-LinearSVC.joblib, guessed time period - 1880-1889\n",
      "1873_Lesni_kviti.xml Score: {'correct': 0, 'incorrect': 1} Evaluation score: 0.0\n",
      "Evaluating model on 1873_Ruch_3.xml\n",
      "\tGUESS: model - LOO_1873_Ruch_3.xml_model_n-1,2.m-LinearSVC.joblib, guessed time period - 1880-1889\n",
      "\tGUESS: model - LOO_1873_Ruch_3.xml_model_n-1,2.m-LinearSVC.joblib, guessed time period - 1880-1889\n",
      "\tGUESS: model - LOO_1873_Ruch_3.xml_model_n-1,2.m-LinearSVC.joblib, guessed time period - 1880-1889\n",
      "\tGUESS: model - LOO_1873_Ruch_3.xml_model_n-1,2.m-LinearSVC.joblib, guessed time period - 1870-1879\n",
      "\tGUESS: model - LOO_1873_Ruch_3.xml_model_n-1,2.m-LinearSVC.joblib, guessed time period - 1870-1879\n",
      "\tGUESS: model - LOO_1873_Ruch_3.xml_model_n-1,2.m-LinearSVC.joblib, guessed time period - 1890-1899\n",
      "\tGUESS: model - LOO_1873_Ruch_3.xml_model_n-1,2.m-LinearSVC.joblib, guessed time period - 1870-1879\n",
      "\tGUESS: model - LOO_1873_Ruch_3.xml_model_n-1,2.m-LinearSVC.joblib, guessed time period - 1870-1879\n",
      "1873_Ruch_3.xml Score: {'correct': 4, 'incorrect': 4} Evaluation score: 0.5\n",
      "Evaluating model on 1874_Almanach_na_oslavu_25leteho_trvani_Akademicko-ctenarskeho_spolku_prazskeho.xml\n",
      "\tGUESS: model - LOO_1874_Almanach_na_oslavu_25leteho_trvani_Akademicko-ctenarskeho_spolku_prazskeho.xml_model_n-1,2.m-LinearSVC.joblib, guessed time period - 1870-1879\n",
      "\tGUESS: model - LOO_1874_Almanach_na_oslavu_25leteho_trvani_Akademicko-ctenarskeho_spolku_prazskeho.xml_model_n-1,2.m-LinearSVC.joblib, guessed time period - 1890-1899\n",
      "\tGUESS: model - LOO_1874_Almanach_na_oslavu_25leteho_trvani_Akademicko-ctenarskeho_spolku_prazskeho.xml_model_n-1,2.m-LinearSVC.joblib, guessed time period - 1870-1879\n",
      "\tGUESS: model - LOO_1874_Almanach_na_oslavu_25leteho_trvani_Akademicko-ctenarskeho_spolku_prazskeho.xml_model_n-1,2.m-LinearSVC.joblib, guessed time period - 1880-1889\n",
      "\tGUESS: model - LOO_1874_Almanach_na_oslavu_25leteho_trvani_Akademicko-ctenarskeho_spolku_prazskeho.xml_model_n-1,2.m-LinearSVC.joblib, guessed time period - 1900-1909\n",
      "\tGUESS: model - LOO_1874_Almanach_na_oslavu_25leteho_trvani_Akademicko-ctenarskeho_spolku_prazskeho.xml_model_n-1,2.m-LinearSVC.joblib, guessed time period - 1880-1889\n",
      "\tGUESS: model - LOO_1874_Almanach_na_oslavu_25leteho_trvani_Akademicko-ctenarskeho_spolku_prazskeho.xml_model_n-1,2.m-LinearSVC.joblib, guessed time period - 1880-1889\n",
      "\tGUESS: model - LOO_1874_Almanach_na_oslavu_25leteho_trvani_Akademicko-ctenarskeho_spolku_prazskeho.xml_model_n-1,2.m-LinearSVC.joblib, guessed time period - 1900-1909\n",
      "1874_Almanach_na_oslavu_25leteho_trvani_Akademicko-ctenarskeho_spolku_prazskeho.xml Score: {'correct': 2, 'incorrect': 6} Evaluation score: 0.25\n",
      "Evaluating model on 1876_Cimbal_a_husle.xml\n",
      "\tGUESS: model - LOO_1876_Cimbal_a_husle.xml_model_n-1,2.m-LinearSVC.joblib, guessed time period - 1920-1929\n",
      "\tGUESS: model - LOO_1876_Cimbal_a_husle.xml_model_n-1,2.m-LinearSVC.joblib, guessed time period - 1880-1889\n",
      "\tGUESS: model - LOO_1876_Cimbal_a_husle.xml_model_n-1,2.m-LinearSVC.joblib, guessed time period - 1920-1929\n",
      "1876_Cimbal_a_husle.xml Score: {'correct': 0, 'incorrect': 3} Evaluation score: 0.0\n",
      "Evaluating model on 1878_Mohamed_II..xml\n",
      "\tGUESS: model - LOO_1878_Mohamed_II..xml_model_n-1,2.m-LinearSVC.joblib, guessed time period - 1880-1889\n",
      "\tGUESS: model - LOO_1878_Mohamed_II..xml_model_n-1,2.m-LinearSVC.joblib, guessed time period - 1900-1909\n",
      "\tGUESS: model - LOO_1878_Mohamed_II..xml_model_n-1,2.m-LinearSVC.joblib, guessed time period - 1900-1909\n",
      "\tGUESS: model - LOO_1878_Mohamed_II..xml_model_n-1,2.m-LinearSVC.joblib, guessed time period - 1880-1889\n",
      "\tGUESS: model - LOO_1878_Mohamed_II..xml_model_n-1,2.m-LinearSVC.joblib, guessed time period - 1870-1879\n",
      "\tGUESS: model - LOO_1878_Mohamed_II..xml_model_n-1,2.m-LinearSVC.joblib, guessed time period - 1890-1899\n",
      "\tGUESS: model - LOO_1878_Mohamed_II..xml_model_n-1,2.m-LinearSVC.joblib, guessed time period - 1880-1889\n",
      "\tGUESS: model - LOO_1878_Mohamed_II..xml_model_n-1,2.m-LinearSVC.joblib, guessed time period - 1900-1909\n",
      "\tGUESS: model - LOO_1878_Mohamed_II..xml_model_n-1,2.m-LinearSVC.joblib, guessed time period - 1900-1909\n",
      "\tGUESS: model - LOO_1878_Mohamed_II..xml_model_n-1,2.m-LinearSVC.joblib, guessed time period - 1900-1909\n",
      "\tGUESS: model - LOO_1878_Mohamed_II..xml_model_n-1,2.m-LinearSVC.joblib, guessed time period - 1880-1889\n",
      "\tGUESS: model - LOO_1878_Mohamed_II..xml_model_n-1,2.m-LinearSVC.joblib, guessed time period - 1880-1889\n",
      "\tGUESS: model - LOO_1878_Mohamed_II..xml_model_n-1,2.m-LinearSVC.joblib, guessed time period - 1890-1899\n",
      "\tGUESS: model - LOO_1878_Mohamed_II..xml_model_n-1,2.m-LinearSVC.joblib, guessed time period - 1890-1899\n",
      "\tGUESS: model - LOO_1878_Mohamed_II..xml_model_n-1,2.m-LinearSVC.joblib, guessed time period - 1890-1899\n",
      "\tGUESS: model - LOO_1878_Mohamed_II..xml_model_n-1,2.m-LinearSVC.joblib, guessed time period - 1890-1899\n",
      "\tGUESS: model - LOO_1878_Mohamed_II..xml_model_n-1,2.m-LinearSVC.joblib, guessed time period - 1890-1899\n",
      "\tGUESS: model - LOO_1878_Mohamed_II..xml_model_n-1,2.m-LinearSVC.joblib, guessed time period - 1870-1879\n",
      "\tGUESS: model - LOO_1878_Mohamed_II..xml_model_n-1,2.m-LinearSVC.joblib, guessed time period - 1870-1879\n",
      "\tGUESS: model - LOO_1878_Mohamed_II..xml_model_n-1,2.m-LinearSVC.joblib, guessed time period - 1900-1909\n",
      "\tGUESS: model - LOO_1878_Mohamed_II..xml_model_n-1,2.m-LinearSVC.joblib, guessed time period - 1900-1909\n",
      "\tGUESS: model - LOO_1878_Mohamed_II..xml_model_n-1,2.m-LinearSVC.joblib, guessed time period - 1880-1889\n",
      "\tGUESS: model - LOO_1878_Mohamed_II..xml_model_n-1,2.m-LinearSVC.joblib, guessed time period - 1880-1889\n",
      "\tGUESS: model - LOO_1878_Mohamed_II..xml_model_n-1,2.m-LinearSVC.joblib, guessed time period - 1870-1879\n",
      "\tGUESS: model - LOO_1878_Mohamed_II..xml_model_n-1,2.m-LinearSVC.joblib, guessed time period - 1890-1899\n",
      "\tGUESS: model - LOO_1878_Mohamed_II..xml_model_n-1,2.m-LinearSVC.joblib, guessed time period - 1880-1889\n",
      "\tGUESS: model - LOO_1878_Mohamed_II..xml_model_n-1,2.m-LinearSVC.joblib, guessed time period - 1890-1899\n",
      "\tGUESS: model - LOO_1878_Mohamed_II..xml_model_n-1,2.m-LinearSVC.joblib, guessed time period - 1890-1899\n",
      "\tGUESS: model - LOO_1878_Mohamed_II..xml_model_n-1,2.m-LinearSVC.joblib, guessed time period - 1880-1889\n",
      "\tGUESS: model - LOO_1878_Mohamed_II..xml_model_n-1,2.m-LinearSVC.joblib, guessed time period - 1890-1899\n",
      "\tGUESS: model - LOO_1878_Mohamed_II..xml_model_n-1,2.m-LinearSVC.joblib, guessed time period - 1920-1929\n",
      "\tGUESS: model - LOO_1878_Mohamed_II..xml_model_n-1,2.m-LinearSVC.joblib, guessed time period - 1890-1899\n",
      "\tGUESS: model - LOO_1878_Mohamed_II..xml_model_n-1,2.m-LinearSVC.joblib, guessed time period - 1880-1889\n",
      "\tGUESS: model - LOO_1878_Mohamed_II..xml_model_n-1,2.m-LinearSVC.joblib, guessed time period - 1880-1889\n",
      "\tGUESS: model - LOO_1878_Mohamed_II..xml_model_n-1,2.m-LinearSVC.joblib, guessed time period - 1880-1889\n",
      "\tGUESS: model - LOO_1878_Mohamed_II..xml_model_n-1,2.m-LinearSVC.joblib, guessed time period - 1880-1889\n",
      "\tGUESS: model - LOO_1878_Mohamed_II..xml_model_n-1,2.m-LinearSVC.joblib, guessed time period - 1880-1889\n",
      "\tGUESS: model - LOO_1878_Mohamed_II..xml_model_n-1,2.m-LinearSVC.joblib, guessed time period - 1880-1889\n",
      "\tGUESS: model - LOO_1878_Mohamed_II..xml_model_n-1,2.m-LinearSVC.joblib, guessed time period - 1880-1889\n",
      "\tGUESS: model - LOO_1878_Mohamed_II..xml_model_n-1,2.m-LinearSVC.joblib, guessed time period - 1900-1909\n",
      "\tGUESS: model - LOO_1878_Mohamed_II..xml_model_n-1,2.m-LinearSVC.joblib, guessed time period - 1880-1889\n",
      "\tGUESS: model - LOO_1878_Mohamed_II..xml_model_n-1,2.m-LinearSVC.joblib, guessed time period - 1890-1899\n",
      "\tGUESS: model - LOO_1878_Mohamed_II..xml_model_n-1,2.m-LinearSVC.joblib, guessed time period - 1870-1879\n",
      "\tGUESS: model - LOO_1878_Mohamed_II..xml_model_n-1,2.m-LinearSVC.joblib, guessed time period - 1870-1879\n",
      "\tGUESS: model - LOO_1878_Mohamed_II..xml_model_n-1,2.m-LinearSVC.joblib, guessed time period - 1900-1909\n",
      "\tGUESS: model - LOO_1878_Mohamed_II..xml_model_n-1,2.m-LinearSVC.joblib, guessed time period - 1880-1889\n",
      "\tGUESS: model - LOO_1878_Mohamed_II..xml_model_n-1,2.m-LinearSVC.joblib, guessed time period - 1880-1889\n",
      "\tGUESS: model - LOO_1878_Mohamed_II..xml_model_n-1,2.m-LinearSVC.joblib, guessed time period - 1880-1889\n",
      "\tGUESS: model - LOO_1878_Mohamed_II..xml_model_n-1,2.m-LinearSVC.joblib, guessed time period - 1880-1889\n",
      "\tGUESS: model - LOO_1878_Mohamed_II..xml_model_n-1,2.m-LinearSVC.joblib, guessed time period - 1890-1899\n",
      "\tGUESS: model - LOO_1878_Mohamed_II..xml_model_n-1,2.m-LinearSVC.joblib, guessed time period - 1880-1889\n",
      "\tGUESS: model - LOO_1878_Mohamed_II..xml_model_n-1,2.m-LinearSVC.joblib, guessed time period - 1900-1909\n",
      "\tGUESS: model - LOO_1878_Mohamed_II..xml_model_n-1,2.m-LinearSVC.joblib, guessed time period - 1910-1919\n",
      "\tGUESS: model - LOO_1878_Mohamed_II..xml_model_n-1,2.m-LinearSVC.joblib, guessed time period - 1900-1909\n",
      "\tGUESS: model - LOO_1878_Mohamed_II..xml_model_n-1,2.m-LinearSVC.joblib, guessed time period - 1900-1909\n",
      "\tGUESS: model - LOO_1878_Mohamed_II..xml_model_n-1,2.m-LinearSVC.joblib, guessed time period - 1880-1889\n",
      "\tGUESS: model - LOO_1878_Mohamed_II..xml_model_n-1,2.m-LinearSVC.joblib, guessed time period - 1880-1889\n",
      "\tGUESS: model - LOO_1878_Mohamed_II..xml_model_n-1,2.m-LinearSVC.joblib, guessed time period - 1900-1909\n",
      "\tGUESS: model - LOO_1878_Mohamed_II..xml_model_n-1,2.m-LinearSVC.joblib, guessed time period - 1880-1889\n",
      "\tGUESS: model - LOO_1878_Mohamed_II..xml_model_n-1,2.m-LinearSVC.joblib, guessed time period - 1880-1889\n",
      "\tGUESS: model - LOO_1878_Mohamed_II..xml_model_n-1,2.m-LinearSVC.joblib, guessed time period - 1900-1909\n",
      "\tGUESS: model - LOO_1878_Mohamed_II..xml_model_n-1,2.m-LinearSVC.joblib, guessed time period - 1900-1909\n",
      "\tGUESS: model - LOO_1878_Mohamed_II..xml_model_n-1,2.m-LinearSVC.joblib, guessed time period - 1920-1929\n",
      "\tGUESS: model - LOO_1878_Mohamed_II..xml_model_n-1,2.m-LinearSVC.joblib, guessed time period - 1900-1909\n",
      "\tGUESS: model - LOO_1878_Mohamed_II..xml_model_n-1,2.m-LinearSVC.joblib, guessed time period - 1900-1909\n",
      "\tGUESS: model - LOO_1878_Mohamed_II..xml_model_n-1,2.m-LinearSVC.joblib, guessed time period - 1870-1879\n",
      "\tGUESS: model - LOO_1878_Mohamed_II..xml_model_n-1,2.m-LinearSVC.joblib, guessed time period - 1870-1879\n",
      "\tGUESS: model - LOO_1878_Mohamed_II..xml_model_n-1,2.m-LinearSVC.joblib, guessed time period - 1900-1909\n",
      "\tGUESS: model - LOO_1878_Mohamed_II..xml_model_n-1,2.m-LinearSVC.joblib, guessed time period - 1900-1909\n",
      "\tGUESS: model - LOO_1878_Mohamed_II..xml_model_n-1,2.m-LinearSVC.joblib, guessed time period - 1880-1889\n",
      "\tGUESS: model - LOO_1878_Mohamed_II..xml_model_n-1,2.m-LinearSVC.joblib, guessed time period - 1880-1889\n",
      "\tGUESS: model - LOO_1878_Mohamed_II..xml_model_n-1,2.m-LinearSVC.joblib, guessed time period - 1880-1889\n",
      "\tGUESS: model - LOO_1878_Mohamed_II..xml_model_n-1,2.m-LinearSVC.joblib, guessed time period - 1890-1899\n",
      "\tGUESS: model - LOO_1878_Mohamed_II..xml_model_n-1,2.m-LinearSVC.joblib, guessed time period - 1890-1899\n",
      "\tGUESS: model - LOO_1878_Mohamed_II..xml_model_n-1,2.m-LinearSVC.joblib, guessed time period - 1890-1899\n",
      "\tGUESS: model - LOO_1878_Mohamed_II..xml_model_n-1,2.m-LinearSVC.joblib, guessed time period - 1880-1889\n",
      "\tGUESS: model - LOO_1878_Mohamed_II..xml_model_n-1,2.m-LinearSVC.joblib, guessed time period - 1880-1889\n",
      "\tGUESS: model - LOO_1878_Mohamed_II..xml_model_n-1,2.m-LinearSVC.joblib, guessed time period - 1880-1889\n",
      "\tGUESS: model - LOO_1878_Mohamed_II..xml_model_n-1,2.m-LinearSVC.joblib, guessed time period - 1880-1889\n",
      "\tGUESS: model - LOO_1878_Mohamed_II..xml_model_n-1,2.m-LinearSVC.joblib, guessed time period - 1890-1899\n",
      "\tGUESS: model - LOO_1878_Mohamed_II..xml_model_n-1,2.m-LinearSVC.joblib, guessed time period - 1890-1899\n",
      "\tGUESS: model - LOO_1878_Mohamed_II..xml_model_n-1,2.m-LinearSVC.joblib, guessed time period - 1890-1899\n",
      "\tGUESS: model - LOO_1878_Mohamed_II..xml_model_n-1,2.m-LinearSVC.joblib, guessed time period - 1890-1899\n",
      "\tGUESS: model - LOO_1878_Mohamed_II..xml_model_n-1,2.m-LinearSVC.joblib, guessed time period - 1920-1929\n",
      "\tGUESS: model - LOO_1878_Mohamed_II..xml_model_n-1,2.m-LinearSVC.joblib, guessed time period - 1880-1889\n",
      "\tGUESS: model - LOO_1878_Mohamed_II..xml_model_n-1,2.m-LinearSVC.joblib, guessed time period - 1880-1889\n",
      "\tGUESS: model - LOO_1878_Mohamed_II..xml_model_n-1,2.m-LinearSVC.joblib, guessed time period - 1890-1899\n",
      "\tGUESS: model - LOO_1878_Mohamed_II..xml_model_n-1,2.m-LinearSVC.joblib, guessed time period - 1890-1899\n",
      "\tGUESS: model - LOO_1878_Mohamed_II..xml_model_n-1,2.m-LinearSVC.joblib, guessed time period - 1880-1889\n",
      "\tGUESS: model - LOO_1878_Mohamed_II..xml_model_n-1,2.m-LinearSVC.joblib, guessed time period - 1870-1879\n",
      "\tGUESS: model - LOO_1878_Mohamed_II..xml_model_n-1,2.m-LinearSVC.joblib, guessed time period - 1920-1929\n",
      "\tGUESS: model - LOO_1878_Mohamed_II..xml_model_n-1,2.m-LinearSVC.joblib, guessed time period - 1920-1929\n",
      "\tGUESS: model - LOO_1878_Mohamed_II..xml_model_n-1,2.m-LinearSVC.joblib, guessed time period - 1920-1929\n",
      "\tGUESS: model - LOO_1878_Mohamed_II..xml_model_n-1,2.m-LinearSVC.joblib, guessed time period - 1880-1889\n",
      "\tGUESS: model - LOO_1878_Mohamed_II..xml_model_n-1,2.m-LinearSVC.joblib, guessed time period - 1890-1899\n",
      "\tGUESS: model - LOO_1878_Mohamed_II..xml_model_n-1,2.m-LinearSVC.joblib, guessed time period - 1920-1929\n",
      "\tGUESS: model - LOO_1878_Mohamed_II..xml_model_n-1,2.m-LinearSVC.joblib, guessed time period - 1900-1909\n",
      "\tGUESS: model - LOO_1878_Mohamed_II..xml_model_n-1,2.m-LinearSVC.joblib, guessed time period - 1880-1889\n",
      "\tGUESS: model - LOO_1878_Mohamed_II..xml_model_n-1,2.m-LinearSVC.joblib, guessed time period - 1880-1889\n",
      "\tGUESS: model - LOO_1878_Mohamed_II..xml_model_n-1,2.m-LinearSVC.joblib, guessed time period - 1880-1889\n",
      "\tGUESS: model - LOO_1878_Mohamed_II..xml_model_n-1,2.m-LinearSVC.joblib, guessed time period - 1900-1909\n",
      "\tGUESS: model - LOO_1878_Mohamed_II..xml_model_n-1,2.m-LinearSVC.joblib, guessed time period - 1900-1909\n",
      "\tGUESS: model - LOO_1878_Mohamed_II..xml_model_n-1,2.m-LinearSVC.joblib, guessed time period - 1900-1909\n",
      "\tGUESS: model - LOO_1878_Mohamed_II..xml_model_n-1,2.m-LinearSVC.joblib, guessed time period - 1880-1889\n",
      "\tGUESS: model - LOO_1878_Mohamed_II..xml_model_n-1,2.m-LinearSVC.joblib, guessed time period - 1900-1909\n",
      "\tGUESS: model - LOO_1878_Mohamed_II..xml_model_n-1,2.m-LinearSVC.joblib, guessed time period - 1900-1909\n",
      "\tGUESS: model - LOO_1878_Mohamed_II..xml_model_n-1,2.m-LinearSVC.joblib, guessed time period - 1880-1889\n",
      "\tGUESS: model - LOO_1878_Mohamed_II..xml_model_n-1,2.m-LinearSVC.joblib, guessed time period - 1910-1919\n",
      "\tGUESS: model - LOO_1878_Mohamed_II..xml_model_n-1,2.m-LinearSVC.joblib, guessed time period - 1880-1889\n",
      "\tGUESS: model - LOO_1878_Mohamed_II..xml_model_n-1,2.m-LinearSVC.joblib, guessed time period - 1870-1879\n",
      "\tGUESS: model - LOO_1878_Mohamed_II..xml_model_n-1,2.m-LinearSVC.joblib, guessed time period - 1890-1899\n",
      "\tGUESS: model - LOO_1878_Mohamed_II..xml_model_n-1,2.m-LinearSVC.joblib, guessed time period - 1890-1899\n",
      "\tGUESS: model - LOO_1878_Mohamed_II..xml_model_n-1,2.m-LinearSVC.joblib, guessed time period - 1890-1899\n",
      "\tGUESS: model - LOO_1878_Mohamed_II..xml_model_n-1,2.m-LinearSVC.joblib, guessed time period - 1880-1889\n",
      "\tGUESS: model - LOO_1878_Mohamed_II..xml_model_n-1,2.m-LinearSVC.joblib, guessed time period - 1890-1899\n",
      "\tGUESS: model - LOO_1878_Mohamed_II..xml_model_n-1,2.m-LinearSVC.joblib, guessed time period - 1890-1899\n",
      "\tGUESS: model - LOO_1878_Mohamed_II..xml_model_n-1,2.m-LinearSVC.joblib, guessed time period - 1920-1929\n",
      "\tGUESS: model - LOO_1878_Mohamed_II..xml_model_n-1,2.m-LinearSVC.joblib, guessed time period - 1900-1909\n",
      "\tGUESS: model - LOO_1878_Mohamed_II..xml_model_n-1,2.m-LinearSVC.joblib, guessed time period - 1880-1889\n",
      "\tGUESS: model - LOO_1878_Mohamed_II..xml_model_n-1,2.m-LinearSVC.joblib, guessed time period - 1910-1919\n",
      "\tGUESS: model - LOO_1878_Mohamed_II..xml_model_n-1,2.m-LinearSVC.joblib, guessed time period - 1920-1929\n",
      "\tGUESS: model - LOO_1878_Mohamed_II..xml_model_n-1,2.m-LinearSVC.joblib, guessed time period - 1900-1909\n",
      "\tGUESS: model - LOO_1878_Mohamed_II..xml_model_n-1,2.m-LinearSVC.joblib, guessed time period - 1870-1879\n",
      "\tGUESS: model - LOO_1878_Mohamed_II..xml_model_n-1,2.m-LinearSVC.joblib, guessed time period - 1870-1879\n",
      "\tGUESS: model - LOO_1878_Mohamed_II..xml_model_n-1,2.m-LinearSVC.joblib, guessed time period - 1890-1899\n",
      "\tGUESS: model - LOO_1878_Mohamed_II..xml_model_n-1,2.m-LinearSVC.joblib, guessed time period - 1890-1899\n",
      "\tGUESS: model - LOO_1878_Mohamed_II..xml_model_n-1,2.m-LinearSVC.joblib, guessed time period - 1920-1929\n",
      "\tGUESS: model - LOO_1878_Mohamed_II..xml_model_n-1,2.m-LinearSVC.joblib, guessed time period - 1890-1899\n",
      "\tGUESS: model - LOO_1878_Mohamed_II..xml_model_n-1,2.m-LinearSVC.joblib, guessed time period - 1890-1899\n",
      "\tGUESS: model - LOO_1878_Mohamed_II..xml_model_n-1,2.m-LinearSVC.joblib, guessed time period - 1880-1889\n",
      "\tGUESS: model - LOO_1878_Mohamed_II..xml_model_n-1,2.m-LinearSVC.joblib, guessed time period - 1900-1909\n",
      "\tGUESS: model - LOO_1878_Mohamed_II..xml_model_n-1,2.m-LinearSVC.joblib, guessed time period - 1890-1899\n",
      "\tGUESS: model - LOO_1878_Mohamed_II..xml_model_n-1,2.m-LinearSVC.joblib, guessed time period - 1890-1899\n",
      "\tGUESS: model - LOO_1878_Mohamed_II..xml_model_n-1,2.m-LinearSVC.joblib, guessed time period - 1900-1909\n",
      "\tGUESS: model - LOO_1878_Mohamed_II..xml_model_n-1,2.m-LinearSVC.joblib, guessed time period - 1880-1889\n",
      "\tGUESS: model - LOO_1878_Mohamed_II..xml_model_n-1,2.m-LinearSVC.joblib, guessed time period - 1890-1899\n",
      "\tGUESS: model - LOO_1878_Mohamed_II..xml_model_n-1,2.m-LinearSVC.joblib, guessed time period - 1900-1909\n",
      "\tGUESS: model - LOO_1878_Mohamed_II..xml_model_n-1,2.m-LinearSVC.joblib, guessed time period - 1890-1899\n",
      "\tGUESS: model - LOO_1878_Mohamed_II..xml_model_n-1,2.m-LinearSVC.joblib, guessed time period - 1890-1899\n",
      "\tGUESS: model - LOO_1878_Mohamed_II..xml_model_n-1,2.m-LinearSVC.joblib, guessed time period - 1890-1899\n",
      "\tGUESS: model - LOO_1878_Mohamed_II..xml_model_n-1,2.m-LinearSVC.joblib, guessed time period - 1900-1909\n",
      "\tGUESS: model - LOO_1878_Mohamed_II..xml_model_n-1,2.m-LinearSVC.joblib, guessed time period - 1900-1909\n",
      "\tGUESS: model - LOO_1878_Mohamed_II..xml_model_n-1,2.m-LinearSVC.joblib, guessed time period - 1920-1929\n",
      "\tGUESS: model - LOO_1878_Mohamed_II..xml_model_n-1,2.m-LinearSVC.joblib, guessed time period - 1880-1889\n",
      "\tGUESS: model - LOO_1878_Mohamed_II..xml_model_n-1,2.m-LinearSVC.joblib, guessed time period - 1880-1889\n",
      "\tGUESS: model - LOO_1878_Mohamed_II..xml_model_n-1,2.m-LinearSVC.joblib, guessed time period - 1880-1889\n",
      "\tGUESS: model - LOO_1878_Mohamed_II..xml_model_n-1,2.m-LinearSVC.joblib, guessed time period - 1880-1889\n",
      "\tGUESS: model - LOO_1878_Mohamed_II..xml_model_n-1,2.m-LinearSVC.joblib, guessed time period - 1880-1889\n",
      "\tGUESS: model - LOO_1878_Mohamed_II..xml_model_n-1,2.m-LinearSVC.joblib, guessed time period - 1890-1899\n",
      "\tGUESS: model - LOO_1878_Mohamed_II..xml_model_n-1,2.m-LinearSVC.joblib, guessed time period - 1910-1919\n",
      "\tGUESS: model - LOO_1878_Mohamed_II..xml_model_n-1,2.m-LinearSVC.joblib, guessed time period - 1910-1919\n",
      "\tGUESS: model - LOO_1878_Mohamed_II..xml_model_n-1,2.m-LinearSVC.joblib, guessed time period - 1890-1899\n",
      "\tGUESS: model - LOO_1878_Mohamed_II..xml_model_n-1,2.m-LinearSVC.joblib, guessed time period - 1870-1879\n",
      "\tGUESS: model - LOO_1878_Mohamed_II..xml_model_n-1,2.m-LinearSVC.joblib, guessed time period - 1900-1909\n",
      "\tGUESS: model - LOO_1878_Mohamed_II..xml_model_n-1,2.m-LinearSVC.joblib, guessed time period - 1920-1929\n",
      "\tGUESS: model - LOO_1878_Mohamed_II..xml_model_n-1,2.m-LinearSVC.joblib, guessed time period - 1920-1929\n",
      "\tGUESS: model - LOO_1878_Mohamed_II..xml_model_n-1,2.m-LinearSVC.joblib, guessed time period - 1890-1899\n",
      "\tGUESS: model - LOO_1878_Mohamed_II..xml_model_n-1,2.m-LinearSVC.joblib, guessed time period - 1920-1929\n",
      "\tGUESS: model - LOO_1878_Mohamed_II..xml_model_n-1,2.m-LinearSVC.joblib, guessed time period - 1900-1909\n",
      "\tGUESS: model - LOO_1878_Mohamed_II..xml_model_n-1,2.m-LinearSVC.joblib, guessed time period - 1900-1909\n",
      "\tGUESS: model - LOO_1878_Mohamed_II..xml_model_n-1,2.m-LinearSVC.joblib, guessed time period - 1880-1889\n",
      "\tGUESS: model - LOO_1878_Mohamed_II..xml_model_n-1,2.m-LinearSVC.joblib, guessed time period - 1880-1889\n",
      "\tGUESS: model - LOO_1878_Mohamed_II..xml_model_n-1,2.m-LinearSVC.joblib, guessed time period - 1880-1889\n",
      "\tGUESS: model - LOO_1878_Mohamed_II..xml_model_n-1,2.m-LinearSVC.joblib, guessed time period - 1900-1909\n",
      "\tGUESS: model - LOO_1878_Mohamed_II..xml_model_n-1,2.m-LinearSVC.joblib, guessed time period - 1870-1879\n",
      "\tGUESS: model - LOO_1878_Mohamed_II..xml_model_n-1,2.m-LinearSVC.joblib, guessed time period - 1870-1879\n",
      "\tGUESS: model - LOO_1878_Mohamed_II..xml_model_n-1,2.m-LinearSVC.joblib, guessed time period - 1880-1889\n",
      "\tGUESS: model - LOO_1878_Mohamed_II..xml_model_n-1,2.m-LinearSVC.joblib, guessed time period - 1890-1899\n",
      "\tGUESS: model - LOO_1878_Mohamed_II..xml_model_n-1,2.m-LinearSVC.joblib, guessed time period - 1900-1909\n",
      "\tGUESS: model - LOO_1878_Mohamed_II..xml_model_n-1,2.m-LinearSVC.joblib, guessed time period - 1880-1889\n",
      "\tGUESS: model - LOO_1878_Mohamed_II..xml_model_n-1,2.m-LinearSVC.joblib, guessed time period - 1880-1889\n",
      "\tGUESS: model - LOO_1878_Mohamed_II..xml_model_n-1,2.m-LinearSVC.joblib, guessed time period - 1890-1899\n",
      "\tGUESS: model - LOO_1878_Mohamed_II..xml_model_n-1,2.m-LinearSVC.joblib, guessed time period - 1890-1899\n",
      "\tGUESS: model - LOO_1878_Mohamed_II..xml_model_n-1,2.m-LinearSVC.joblib, guessed time period - 1890-1899\n",
      "\tGUESS: model - LOO_1878_Mohamed_II..xml_model_n-1,2.m-LinearSVC.joblib, guessed time period - 1900-1909\n",
      "\tGUESS: model - LOO_1878_Mohamed_II..xml_model_n-1,2.m-LinearSVC.joblib, guessed time period - 1900-1909\n",
      "\tGUESS: model - LOO_1878_Mohamed_II..xml_model_n-1,2.m-LinearSVC.joblib, guessed time period - 1900-1909\n",
      "\tGUESS: model - LOO_1878_Mohamed_II..xml_model_n-1,2.m-LinearSVC.joblib, guessed time period - 1880-1889\n",
      "\tGUESS: model - LOO_1878_Mohamed_II..xml_model_n-1,2.m-LinearSVC.joblib, guessed time period - 1890-1899\n",
      "\tGUESS: model - LOO_1878_Mohamed_II..xml_model_n-1,2.m-LinearSVC.joblib, guessed time period - 1900-1909\n",
      "\tGUESS: model - LOO_1878_Mohamed_II..xml_model_n-1,2.m-LinearSVC.joblib, guessed time period - 1900-1909\n",
      "\tGUESS: model - LOO_1878_Mohamed_II..xml_model_n-1,2.m-LinearSVC.joblib, guessed time period - 1870-1879\n",
      "\tGUESS: model - LOO_1878_Mohamed_II..xml_model_n-1,2.m-LinearSVC.joblib, guessed time period - 1870-1879\n",
      "\tGUESS: model - LOO_1878_Mohamed_II..xml_model_n-1,2.m-LinearSVC.joblib, guessed time period - 1870-1879\n",
      "\tGUESS: model - LOO_1878_Mohamed_II..xml_model_n-1,2.m-LinearSVC.joblib, guessed time period - 1900-1909\n",
      "\tGUESS: model - LOO_1878_Mohamed_II..xml_model_n-1,2.m-LinearSVC.joblib, guessed time period - 1900-1909\n",
      "\tGUESS: model - LOO_1878_Mohamed_II..xml_model_n-1,2.m-LinearSVC.joblib, guessed time period - 1900-1909\n",
      "\tGUESS: model - LOO_1878_Mohamed_II..xml_model_n-1,2.m-LinearSVC.joblib, guessed time period - 1900-1909\n",
      "\tGUESS: model - LOO_1878_Mohamed_II..xml_model_n-1,2.m-LinearSVC.joblib, guessed time period - 1880-1889\n",
      "\tGUESS: model - LOO_1878_Mohamed_II..xml_model_n-1,2.m-LinearSVC.joblib, guessed time period - 1880-1889\n",
      "\tGUESS: model - LOO_1878_Mohamed_II..xml_model_n-1,2.m-LinearSVC.joblib, guessed time period - 1900-1909\n",
      "\tGUESS: model - LOO_1878_Mohamed_II..xml_model_n-1,2.m-LinearSVC.joblib, guessed time period - 1880-1889\n",
      "\tGUESS: model - LOO_1878_Mohamed_II..xml_model_n-1,2.m-LinearSVC.joblib, guessed time period - 1880-1889\n",
      "\tGUESS: model - LOO_1878_Mohamed_II..xml_model_n-1,2.m-LinearSVC.joblib, guessed time period - 1870-1879\n",
      "\tGUESS: model - LOO_1878_Mohamed_II..xml_model_n-1,2.m-LinearSVC.joblib, guessed time period - 1900-1909\n",
      "\tGUESS: model - LOO_1878_Mohamed_II..xml_model_n-1,2.m-LinearSVC.joblib, guessed time period - 1900-1909\n",
      "\tGUESS: model - LOO_1878_Mohamed_II..xml_model_n-1,2.m-LinearSVC.joblib, guessed time period - 1880-1889\n",
      "\tGUESS: model - LOO_1878_Mohamed_II..xml_model_n-1,2.m-LinearSVC.joblib, guessed time period - 1870-1879\n",
      "\tGUESS: model - LOO_1878_Mohamed_II..xml_model_n-1,2.m-LinearSVC.joblib, guessed time period - 1880-1889\n",
      "\tGUESS: model - LOO_1878_Mohamed_II..xml_model_n-1,2.m-LinearSVC.joblib, guessed time period - 1870-1879\n",
      "\tGUESS: model - LOO_1878_Mohamed_II..xml_model_n-1,2.m-LinearSVC.joblib, guessed time period - 1900-1909\n",
      "\tGUESS: model - LOO_1878_Mohamed_II..xml_model_n-1,2.m-LinearSVC.joblib, guessed time period - 1900-1909\n",
      "\tGUESS: model - LOO_1878_Mohamed_II..xml_model_n-1,2.m-LinearSVC.joblib, guessed time period - 1880-1889\n",
      "\tGUESS: model - LOO_1878_Mohamed_II..xml_model_n-1,2.m-LinearSVC.joblib, guessed time period - 1880-1889\n",
      "\tGUESS: model - LOO_1878_Mohamed_II..xml_model_n-1,2.m-LinearSVC.joblib, guessed time period - 1870-1879\n",
      "\tGUESS: model - LOO_1878_Mohamed_II..xml_model_n-1,2.m-LinearSVC.joblib, guessed time period - 1870-1879\n",
      "\tGUESS: model - LOO_1878_Mohamed_II..xml_model_n-1,2.m-LinearSVC.joblib, guessed time period - 1870-1879\n",
      "\tGUESS: model - LOO_1878_Mohamed_II..xml_model_n-1,2.m-LinearSVC.joblib, guessed time period - 1890-1899\n",
      "\tGUESS: model - LOO_1878_Mohamed_II..xml_model_n-1,2.m-LinearSVC.joblib, guessed time period - 1890-1899\n",
      "\tGUESS: model - LOO_1878_Mohamed_II..xml_model_n-1,2.m-LinearSVC.joblib, guessed time period - 1880-1889\n",
      "\tGUESS: model - LOO_1878_Mohamed_II..xml_model_n-1,2.m-LinearSVC.joblib, guessed time period - 1880-1889\n",
      "\tGUESS: model - LOO_1878_Mohamed_II..xml_model_n-1,2.m-LinearSVC.joblib, guessed time period - 1880-1889\n",
      "\tGUESS: model - LOO_1878_Mohamed_II..xml_model_n-1,2.m-LinearSVC.joblib, guessed time period - 1890-1899\n",
      "\tGUESS: model - LOO_1878_Mohamed_II..xml_model_n-1,2.m-LinearSVC.joblib, guessed time period - 1890-1899\n",
      "\tGUESS: model - LOO_1878_Mohamed_II..xml_model_n-1,2.m-LinearSVC.joblib, guessed time period - 1890-1899\n",
      "\tGUESS: model - LOO_1878_Mohamed_II..xml_model_n-1,2.m-LinearSVC.joblib, guessed time period - 1900-1909\n",
      "\tGUESS: model - LOO_1878_Mohamed_II..xml_model_n-1,2.m-LinearSVC.joblib, guessed time period - 1890-1899\n",
      "\tGUESS: model - LOO_1878_Mohamed_II..xml_model_n-1,2.m-LinearSVC.joblib, guessed time period - 1890-1899\n",
      "\tGUESS: model - LOO_1878_Mohamed_II..xml_model_n-1,2.m-LinearSVC.joblib, guessed time period - 1880-1889\n",
      "\tGUESS: model - LOO_1878_Mohamed_II..xml_model_n-1,2.m-LinearSVC.joblib, guessed time period - 1880-1889\n",
      "\tGUESS: model - LOO_1878_Mohamed_II..xml_model_n-1,2.m-LinearSVC.joblib, guessed time period - 1880-1889\n",
      "\tGUESS: model - LOO_1878_Mohamed_II..xml_model_n-1,2.m-LinearSVC.joblib, guessed time period - 1880-1889\n",
      "\tGUESS: model - LOO_1878_Mohamed_II..xml_model_n-1,2.m-LinearSVC.joblib, guessed time period - 1890-1899\n",
      "\tGUESS: model - LOO_1878_Mohamed_II..xml_model_n-1,2.m-LinearSVC.joblib, guessed time period - 1870-1879\n",
      "\tGUESS: model - LOO_1878_Mohamed_II..xml_model_n-1,2.m-LinearSVC.joblib, guessed time period - 1870-1879\n",
      "\tGUESS: model - LOO_1878_Mohamed_II..xml_model_n-1,2.m-LinearSVC.joblib, guessed time period - 1880-1889\n",
      "\tGUESS: model - LOO_1878_Mohamed_II..xml_model_n-1,2.m-LinearSVC.joblib, guessed time period - 1880-1889\n",
      "\tGUESS: model - LOO_1878_Mohamed_II..xml_model_n-1,2.m-LinearSVC.joblib, guessed time period - 1870-1879\n",
      "\tGUESS: model - LOO_1878_Mohamed_II..xml_model_n-1,2.m-LinearSVC.joblib, guessed time period - 1900-1909\n",
      "\tGUESS: model - LOO_1878_Mohamed_II..xml_model_n-1,2.m-LinearSVC.joblib, guessed time period - 1900-1909\n",
      "\tGUESS: model - LOO_1878_Mohamed_II..xml_model_n-1,2.m-LinearSVC.joblib, guessed time period - 1870-1879\n",
      "\tGUESS: model - LOO_1878_Mohamed_II..xml_model_n-1,2.m-LinearSVC.joblib, guessed time period - 1920-1929\n",
      "\tGUESS: model - LOO_1878_Mohamed_II..xml_model_n-1,2.m-LinearSVC.joblib, guessed time period - 1900-1909\n",
      "\tGUESS: model - LOO_1878_Mohamed_II..xml_model_n-1,2.m-LinearSVC.joblib, guessed time period - 1910-1919\n",
      "\tGUESS: model - LOO_1878_Mohamed_II..xml_model_n-1,2.m-LinearSVC.joblib, guessed time period - 1890-1899\n",
      "\tGUESS: model - LOO_1878_Mohamed_II..xml_model_n-1,2.m-LinearSVC.joblib, guessed time period - 1900-1909\n",
      "\tGUESS: model - LOO_1878_Mohamed_II..xml_model_n-1,2.m-LinearSVC.joblib, guessed time period - 1900-1909\n",
      "\tGUESS: model - LOO_1878_Mohamed_II..xml_model_n-1,2.m-LinearSVC.joblib, guessed time period - 1900-1909\n",
      "\tGUESS: model - LOO_1878_Mohamed_II..xml_model_n-1,2.m-LinearSVC.joblib, guessed time period - 1900-1909\n",
      "\tGUESS: model - LOO_1878_Mohamed_II..xml_model_n-1,2.m-LinearSVC.joblib, guessed time period - 1900-1909\n",
      "\tGUESS: model - LOO_1878_Mohamed_II..xml_model_n-1,2.m-LinearSVC.joblib, guessed time period - 1880-1889\n",
      "\tGUESS: model - LOO_1878_Mohamed_II..xml_model_n-1,2.m-LinearSVC.joblib, guessed time period - 1880-1889\n",
      "\tGUESS: model - LOO_1878_Mohamed_II..xml_model_n-1,2.m-LinearSVC.joblib, guessed time period - 1880-1889\n",
      "\tGUESS: model - LOO_1878_Mohamed_II..xml_model_n-1,2.m-LinearSVC.joblib, guessed time period - 1880-1889\n",
      "\tGUESS: model - LOO_1878_Mohamed_II..xml_model_n-1,2.m-LinearSVC.joblib, guessed time period - 1870-1879\n",
      "\tGUESS: model - LOO_1878_Mohamed_II..xml_model_n-1,2.m-LinearSVC.joblib, guessed time period - 1870-1879\n",
      "\tGUESS: model - LOO_1878_Mohamed_II..xml_model_n-1,2.m-LinearSVC.joblib, guessed time period - 1890-1899\n",
      "\tGUESS: model - LOO_1878_Mohamed_II..xml_model_n-1,2.m-LinearSVC.joblib, guessed time period - 1890-1899\n",
      "\tGUESS: model - LOO_1878_Mohamed_II..xml_model_n-1,2.m-LinearSVC.joblib, guessed time period - 1870-1879\n",
      "\tGUESS: model - LOO_1878_Mohamed_II..xml_model_n-1,2.m-LinearSVC.joblib, guessed time period - 1910-1919\n",
      "1878_Mohamed_II..xml Score: {'correct': 31, 'incorrect': 219} Evaluation score: 0.124\n",
      "Evaluating model on 1879_Deduv_odkaz.xml\n",
      "\tGUESS: model - LOO_1879_Deduv_odkaz.xml_model_n-1,2.m-LinearSVC.joblib, guessed time period - 1920-1929\n",
      "\tGUESS: model - LOO_1879_Deduv_odkaz.xml_model_n-1,2.m-LinearSVC.joblib, guessed time period - 1880-1889\n",
      "\tGUESS: model - LOO_1879_Deduv_odkaz.xml_model_n-1,2.m-LinearSVC.joblib, guessed time period - 1920-1929\n",
      "\tGUESS: model - LOO_1879_Deduv_odkaz.xml_model_n-1,2.m-LinearSVC.joblib, guessed time period - 1880-1889\n",
      "\tGUESS: model - LOO_1879_Deduv_odkaz.xml_model_n-1,2.m-LinearSVC.joblib, guessed time period - 1880-1889\n",
      "\tGUESS: model - LOO_1879_Deduv_odkaz.xml_model_n-1,2.m-LinearSVC.joblib, guessed time period - 1880-1889\n",
      "\tGUESS: model - LOO_1879_Deduv_odkaz.xml_model_n-1,2.m-LinearSVC.joblib, guessed time period - 1920-1929\n",
      "\tGUESS: model - LOO_1879_Deduv_odkaz.xml_model_n-1,2.m-LinearSVC.joblib, guessed time period - 1920-1929\n",
      "\tGUESS: model - LOO_1879_Deduv_odkaz.xml_model_n-1,2.m-LinearSVC.joblib, guessed time period - 1920-1929\n",
      "\tGUESS: model - LOO_1879_Deduv_odkaz.xml_model_n-1,2.m-LinearSVC.joblib, guessed time period - 1910-1919\n",
      "\tGUESS: model - LOO_1879_Deduv_odkaz.xml_model_n-1,2.m-LinearSVC.joblib, guessed time period - 1910-1919\n",
      "\tGUESS: model - LOO_1879_Deduv_odkaz.xml_model_n-1,2.m-LinearSVC.joblib, guessed time period - 1880-1889\n",
      "\tGUESS: model - LOO_1879_Deduv_odkaz.xml_model_n-1,2.m-LinearSVC.joblib, guessed time period - 1880-1889\n",
      "\tGUESS: model - LOO_1879_Deduv_odkaz.xml_model_n-1,2.m-LinearSVC.joblib, guessed time period - 1920-1929\n",
      "\tGUESS: model - LOO_1879_Deduv_odkaz.xml_model_n-1,2.m-LinearSVC.joblib, guessed time period - 1870-1879\n",
      "\tGUESS: model - LOO_1879_Deduv_odkaz.xml_model_n-1,2.m-LinearSVC.joblib, guessed time period - 1870-1879\n",
      "\tGUESS: model - LOO_1879_Deduv_odkaz.xml_model_n-1,2.m-LinearSVC.joblib, guessed time period - 1900-1909\n",
      "\tGUESS: model - LOO_1879_Deduv_odkaz.xml_model_n-1,2.m-LinearSVC.joblib, guessed time period - 1900-1909\n",
      "\tGUESS: model - LOO_1879_Deduv_odkaz.xml_model_n-1,2.m-LinearSVC.joblib, guessed time period - 1900-1909\n",
      "\tGUESS: model - LOO_1879_Deduv_odkaz.xml_model_n-1,2.m-LinearSVC.joblib, guessed time period - 1870-1879\n",
      "\tGUESS: model - LOO_1879_Deduv_odkaz.xml_model_n-1,2.m-LinearSVC.joblib, guessed time period - 1920-1929\n",
      "\tGUESS: model - LOO_1879_Deduv_odkaz.xml_model_n-1,2.m-LinearSVC.joblib, guessed time period - 1920-1929\n",
      "\tGUESS: model - LOO_1879_Deduv_odkaz.xml_model_n-1,2.m-LinearSVC.joblib, guessed time period - 1920-1929\n",
      "\tGUESS: model - LOO_1879_Deduv_odkaz.xml_model_n-1,2.m-LinearSVC.joblib, guessed time period - 1920-1929\n",
      "\tGUESS: model - LOO_1879_Deduv_odkaz.xml_model_n-1,2.m-LinearSVC.joblib, guessed time period - 1880-1889\n",
      "\tGUESS: model - LOO_1879_Deduv_odkaz.xml_model_n-1,2.m-LinearSVC.joblib, guessed time period - 1880-1889\n",
      "\tGUESS: model - LOO_1879_Deduv_odkaz.xml_model_n-1,2.m-LinearSVC.joblib, guessed time period - 1870-1879\n",
      "\tGUESS: model - LOO_1879_Deduv_odkaz.xml_model_n-1,2.m-LinearSVC.joblib, guessed time period - 1870-1879\n",
      "\tGUESS: model - LOO_1879_Deduv_odkaz.xml_model_n-1,2.m-LinearSVC.joblib, guessed time period - 1920-1929\n",
      "\tGUESS: model - LOO_1879_Deduv_odkaz.xml_model_n-1,2.m-LinearSVC.joblib, guessed time period - 1920-1929\n",
      "\tGUESS: model - LOO_1879_Deduv_odkaz.xml_model_n-1,2.m-LinearSVC.joblib, guessed time period - 1880-1889\n",
      "\tGUESS: model - LOO_1879_Deduv_odkaz.xml_model_n-1,2.m-LinearSVC.joblib, guessed time period - 1880-1889\n",
      "\tGUESS: model - LOO_1879_Deduv_odkaz.xml_model_n-1,2.m-LinearSVC.joblib, guessed time period - 1880-1889\n",
      "\tGUESS: model - LOO_1879_Deduv_odkaz.xml_model_n-1,2.m-LinearSVC.joblib, guessed time period - 1880-1889\n",
      "\tGUESS: model - LOO_1879_Deduv_odkaz.xml_model_n-1,2.m-LinearSVC.joblib, guessed time period - 1900-1909\n",
      "\tGUESS: model - LOO_1879_Deduv_odkaz.xml_model_n-1,2.m-LinearSVC.joblib, guessed time period - 1890-1899\n",
      "\tGUESS: model - LOO_1879_Deduv_odkaz.xml_model_n-1,2.m-LinearSVC.joblib, guessed time period - 1890-1899\n",
      "\tGUESS: model - LOO_1879_Deduv_odkaz.xml_model_n-1,2.m-LinearSVC.joblib, guessed time period - 1920-1929\n",
      "\tGUESS: model - LOO_1879_Deduv_odkaz.xml_model_n-1,2.m-LinearSVC.joblib, guessed time period - 1880-1889\n",
      "\tGUESS: model - LOO_1879_Deduv_odkaz.xml_model_n-1,2.m-LinearSVC.joblib, guessed time period - 1880-1889\n",
      "\tGUESS: model - LOO_1879_Deduv_odkaz.xml_model_n-1,2.m-LinearSVC.joblib, guessed time period - 1900-1909\n",
      "\tGUESS: model - LOO_1879_Deduv_odkaz.xml_model_n-1,2.m-LinearSVC.joblib, guessed time period - 1900-1909\n",
      "\tGUESS: model - LOO_1879_Deduv_odkaz.xml_model_n-1,2.m-LinearSVC.joblib, guessed time period - 1890-1899\n",
      "\tGUESS: model - LOO_1879_Deduv_odkaz.xml_model_n-1,2.m-LinearSVC.joblib, guessed time period - 1890-1899\n",
      "\tGUESS: model - LOO_1879_Deduv_odkaz.xml_model_n-1,2.m-LinearSVC.joblib, guessed time period - 1880-1889\n",
      "\tGUESS: model - LOO_1879_Deduv_odkaz.xml_model_n-1,2.m-LinearSVC.joblib, guessed time period - 1880-1889\n",
      "\tGUESS: model - LOO_1879_Deduv_odkaz.xml_model_n-1,2.m-LinearSVC.joblib, guessed time period - 1870-1879\n",
      "\tGUESS: model - LOO_1879_Deduv_odkaz.xml_model_n-1,2.m-LinearSVC.joblib, guessed time period - 1870-1879\n",
      "\tGUESS: model - LOO_1879_Deduv_odkaz.xml_model_n-1,2.m-LinearSVC.joblib, guessed time period - 1880-1889\n",
      "\tGUESS: model - LOO_1879_Deduv_odkaz.xml_model_n-1,2.m-LinearSVC.joblib, guessed time period - 1880-1889\n",
      "\tGUESS: model - LOO_1879_Deduv_odkaz.xml_model_n-1,2.m-LinearSVC.joblib, guessed time period - 1900-1909\n",
      "\tGUESS: model - LOO_1879_Deduv_odkaz.xml_model_n-1,2.m-LinearSVC.joblib, guessed time period - 1900-1909\n",
      "\tGUESS: model - LOO_1879_Deduv_odkaz.xml_model_n-1,2.m-LinearSVC.joblib, guessed time period - 1900-1909\n",
      "\tGUESS: model - LOO_1879_Deduv_odkaz.xml_model_n-1,2.m-LinearSVC.joblib, guessed time period - 1920-1929\n",
      "\tGUESS: model - LOO_1879_Deduv_odkaz.xml_model_n-1,2.m-LinearSVC.joblib, guessed time period - 1900-1909\n",
      "\tGUESS: model - LOO_1879_Deduv_odkaz.xml_model_n-1,2.m-LinearSVC.joblib, guessed time period - 1910-1919\n",
      "\tGUESS: model - LOO_1879_Deduv_odkaz.xml_model_n-1,2.m-LinearSVC.joblib, guessed time period - 1870-1879\n",
      "\tGUESS: model - LOO_1879_Deduv_odkaz.xml_model_n-1,2.m-LinearSVC.joblib, guessed time period - 1900-1909\n",
      "\tGUESS: model - LOO_1879_Deduv_odkaz.xml_model_n-1,2.m-LinearSVC.joblib, guessed time period - 1880-1889\n",
      "\tGUESS: model - LOO_1879_Deduv_odkaz.xml_model_n-1,2.m-LinearSVC.joblib, guessed time period - 1870-1879\n",
      "\tGUESS: model - LOO_1879_Deduv_odkaz.xml_model_n-1,2.m-LinearSVC.joblib, guessed time period - 1870-1879\n",
      "\tGUESS: model - LOO_1879_Deduv_odkaz.xml_model_n-1,2.m-LinearSVC.joblib, guessed time period - 1920-1929\n",
      "\tGUESS: model - LOO_1879_Deduv_odkaz.xml_model_n-1,2.m-LinearSVC.joblib, guessed time period - 1900-1909\n",
      "\tGUESS: model - LOO_1879_Deduv_odkaz.xml_model_n-1,2.m-LinearSVC.joblib, guessed time period - 1900-1909\n",
      "\tGUESS: model - LOO_1879_Deduv_odkaz.xml_model_n-1,2.m-LinearSVC.joblib, guessed time period - 1900-1909\n",
      "\tGUESS: model - LOO_1879_Deduv_odkaz.xml_model_n-1,2.m-LinearSVC.joblib, guessed time period - 1900-1909\n",
      "\tGUESS: model - LOO_1879_Deduv_odkaz.xml_model_n-1,2.m-LinearSVC.joblib, guessed time period - 1890-1899\n",
      "1879_Deduv_odkaz.xml Score: {'correct': 10, 'incorrect': 57} Evaluation score: 0.14925373134328357\n",
      "Evaluating model on 1881_Dudak.xml\n",
      "\tGUESS: model - LOO_1881_Dudak.xml_model_n-1,2.m-LinearSVC.joblib, guessed time period - 1900-1909\n",
      "\tGUESS: model - LOO_1881_Dudak.xml_model_n-1,2.m-LinearSVC.joblib, guessed time period - 1870-1879\n",
      "\tGUESS: model - LOO_1881_Dudak.xml_model_n-1,2.m-LinearSVC.joblib, guessed time period - 1900-1909\n",
      "\tGUESS: model - LOO_1881_Dudak.xml_model_n-1,2.m-LinearSVC.joblib, guessed time period - 1900-1909\n",
      "\tGUESS: model - LOO_1881_Dudak.xml_model_n-1,2.m-LinearSVC.joblib, guessed time period - 1900-1909\n",
      "\tGUESS: model - LOO_1881_Dudak.xml_model_n-1,2.m-LinearSVC.joblib, guessed time period - 1900-1909\n",
      "\tGUESS: model - LOO_1881_Dudak.xml_model_n-1,2.m-LinearSVC.joblib, guessed time period - 1900-1909\n",
      "\tGUESS: model - LOO_1881_Dudak.xml_model_n-1,2.m-LinearSVC.joblib, guessed time period - 1880-1889\n",
      "\tGUESS: model - LOO_1881_Dudak.xml_model_n-1,2.m-LinearSVC.joblib, guessed time period - 1880-1889\n",
      "\tGUESS: model - LOO_1881_Dudak.xml_model_n-1,2.m-LinearSVC.joblib, guessed time period - 1880-1889\n",
      "\tGUESS: model - LOO_1881_Dudak.xml_model_n-1,2.m-LinearSVC.joblib, guessed time period - 1880-1889\n",
      "\tGUESS: model - LOO_1881_Dudak.xml_model_n-1,2.m-LinearSVC.joblib, guessed time period - 1880-1889\n",
      "\tGUESS: model - LOO_1881_Dudak.xml_model_n-1,2.m-LinearSVC.joblib, guessed time period - 1910-1919\n",
      "\tGUESS: model - LOO_1881_Dudak.xml_model_n-1,2.m-LinearSVC.joblib, guessed time period - 1870-1879\n",
      "\tGUESS: model - LOO_1881_Dudak.xml_model_n-1,2.m-LinearSVC.joblib, guessed time period - 1880-1889\n",
      "\tGUESS: model - LOO_1881_Dudak.xml_model_n-1,2.m-LinearSVC.joblib, guessed time period - 1880-1889\n",
      "\tGUESS: model - LOO_1881_Dudak.xml_model_n-1,2.m-LinearSVC.joblib, guessed time period - 1900-1909\n",
      "\tGUESS: model - LOO_1881_Dudak.xml_model_n-1,2.m-LinearSVC.joblib, guessed time period - 1900-1909\n",
      "\tGUESS: model - LOO_1881_Dudak.xml_model_n-1,2.m-LinearSVC.joblib, guessed time period - 1870-1879\n",
      "\tGUESS: model - LOO_1881_Dudak.xml_model_n-1,2.m-LinearSVC.joblib, guessed time period - 1900-1909\n",
      "\tGUESS: model - LOO_1881_Dudak.xml_model_n-1,2.m-LinearSVC.joblib, guessed time period - 1900-1909\n",
      "\tGUESS: model - LOO_1881_Dudak.xml_model_n-1,2.m-LinearSVC.joblib, guessed time period - 1920-1929\n",
      "\tGUESS: model - LOO_1881_Dudak.xml_model_n-1,2.m-LinearSVC.joblib, guessed time period - 1870-1879\n",
      "\tGUESS: model - LOO_1881_Dudak.xml_model_n-1,2.m-LinearSVC.joblib, guessed time period - 1870-1879\n",
      "\tGUESS: model - LOO_1881_Dudak.xml_model_n-1,2.m-LinearSVC.joblib, guessed time period - 1920-1929\n",
      "\tGUESS: model - LOO_1881_Dudak.xml_model_n-1,2.m-LinearSVC.joblib, guessed time period - 1870-1879\n",
      "\tGUESS: model - LOO_1881_Dudak.xml_model_n-1,2.m-LinearSVC.joblib, guessed time period - 1870-1879\n",
      "\tGUESS: model - LOO_1881_Dudak.xml_model_n-1,2.m-LinearSVC.joblib, guessed time period - 1880-1889\n",
      "\tGUESS: model - LOO_1881_Dudak.xml_model_n-1,2.m-LinearSVC.joblib, guessed time period - 1870-1879\n",
      "\tGUESS: model - LOO_1881_Dudak.xml_model_n-1,2.m-LinearSVC.joblib, guessed time period - 1870-1879\n",
      "\tGUESS: model - LOO_1881_Dudak.xml_model_n-1,2.m-LinearSVC.joblib, guessed time period - 1920-1929\n",
      "\tGUESS: model - LOO_1881_Dudak.xml_model_n-1,2.m-LinearSVC.joblib, guessed time period - 1920-1929\n",
      "\tGUESS: model - LOO_1881_Dudak.xml_model_n-1,2.m-LinearSVC.joblib, guessed time period - 1870-1879\n",
      "\tGUESS: model - LOO_1881_Dudak.xml_model_n-1,2.m-LinearSVC.joblib, guessed time period - 1880-1889\n",
      "\tGUESS: model - LOO_1881_Dudak.xml_model_n-1,2.m-LinearSVC.joblib, guessed time period - 1890-1899\n",
      "\tGUESS: model - LOO_1881_Dudak.xml_model_n-1,2.m-LinearSVC.joblib, guessed time period - 1880-1889\n",
      "\tGUESS: model - LOO_1881_Dudak.xml_model_n-1,2.m-LinearSVC.joblib, guessed time period - 1880-1889\n",
      "\tGUESS: model - LOO_1881_Dudak.xml_model_n-1,2.m-LinearSVC.joblib, guessed time period - 1920-1929\n",
      "\tGUESS: model - LOO_1881_Dudak.xml_model_n-1,2.m-LinearSVC.joblib, guessed time period - 1920-1929\n",
      "\tGUESS: model - LOO_1881_Dudak.xml_model_n-1,2.m-LinearSVC.joblib, guessed time period - 1900-1909\n",
      "\tGUESS: model - LOO_1881_Dudak.xml_model_n-1,2.m-LinearSVC.joblib, guessed time period - 1890-1899\n",
      "\tGUESS: model - LOO_1881_Dudak.xml_model_n-1,2.m-LinearSVC.joblib, guessed time period - 1890-1899\n",
      "\tGUESS: model - LOO_1881_Dudak.xml_model_n-1,2.m-LinearSVC.joblib, guessed time period - 1870-1879\n",
      "\tGUESS: model - LOO_1881_Dudak.xml_model_n-1,2.m-LinearSVC.joblib, guessed time period - 1880-1889\n",
      "\tGUESS: model - LOO_1881_Dudak.xml_model_n-1,2.m-LinearSVC.joblib, guessed time period - 1880-1889\n",
      "\tGUESS: model - LOO_1881_Dudak.xml_model_n-1,2.m-LinearSVC.joblib, guessed time period - 1900-1909\n",
      "\tGUESS: model - LOO_1881_Dudak.xml_model_n-1,2.m-LinearSVC.joblib, guessed time period - 1900-1909\n",
      "1881_Dudak.xml Score: {'correct': 13, 'incorrect': 34} Evaluation score: 0.2765957446808511\n",
      "Evaluating model on 1882_Drevorubec.xml\n",
      "\tGUESS: model - LOO_1882_Drevorubec.xml_model_n-1,2.m-LinearSVC.joblib, guessed time period - 1880-1889\n",
      "\tGUESS: model - LOO_1882_Drevorubec.xml_model_n-1,2.m-LinearSVC.joblib, guessed time period - 1880-1889\n",
      "\tGUESS: model - LOO_1882_Drevorubec.xml_model_n-1,2.m-LinearSVC.joblib, guessed time period - 1920-1929\n",
      "\tGUESS: model - LOO_1882_Drevorubec.xml_model_n-1,2.m-LinearSVC.joblib, guessed time period - 1870-1879\n",
      "\tGUESS: model - LOO_1882_Drevorubec.xml_model_n-1,2.m-LinearSVC.joblib, guessed time period - 1870-1879\n",
      "\tGUESS: model - LOO_1882_Drevorubec.xml_model_n-1,2.m-LinearSVC.joblib, guessed time period - 1890-1899\n",
      "\tGUESS: model - LOO_1882_Drevorubec.xml_model_n-1,2.m-LinearSVC.joblib, guessed time period - 1870-1879\n",
      "\tGUESS: model - LOO_1882_Drevorubec.xml_model_n-1,2.m-LinearSVC.joblib, guessed time period - 1870-1879\n",
      "\tGUESS: model - LOO_1882_Drevorubec.xml_model_n-1,2.m-LinearSVC.joblib, guessed time period - 1900-1909\n",
      "\tGUESS: model - LOO_1882_Drevorubec.xml_model_n-1,2.m-LinearSVC.joblib, guessed time period - 1900-1909\n",
      "\tGUESS: model - LOO_1882_Drevorubec.xml_model_n-1,2.m-LinearSVC.joblib, guessed time period - 1900-1909\n",
      "\tGUESS: model - LOO_1882_Drevorubec.xml_model_n-1,2.m-LinearSVC.joblib, guessed time period - 1880-1889\n",
      "\tGUESS: model - LOO_1882_Drevorubec.xml_model_n-1,2.m-LinearSVC.joblib, guessed time period - 1890-1899\n",
      "\tGUESS: model - LOO_1882_Drevorubec.xml_model_n-1,2.m-LinearSVC.joblib, guessed time period - 1890-1899\n",
      "\tGUESS: model - LOO_1882_Drevorubec.xml_model_n-1,2.m-LinearSVC.joblib, guessed time period - 1870-1879\n",
      "\tGUESS: model - LOO_1882_Drevorubec.xml_model_n-1,2.m-LinearSVC.joblib, guessed time period - 1900-1909\n",
      "\tGUESS: model - LOO_1882_Drevorubec.xml_model_n-1,2.m-LinearSVC.joblib, guessed time period - 1910-1919\n",
      "\tGUESS: model - LOO_1882_Drevorubec.xml_model_n-1,2.m-LinearSVC.joblib, guessed time period - 1890-1899\n",
      "\tGUESS: model - LOO_1882_Drevorubec.xml_model_n-1,2.m-LinearSVC.joblib, guessed time period - 1880-1889\n",
      "\tGUESS: model - LOO_1882_Drevorubec.xml_model_n-1,2.m-LinearSVC.joblib, guessed time period - 1910-1919\n",
      "\tGUESS: model - LOO_1882_Drevorubec.xml_model_n-1,2.m-LinearSVC.joblib, guessed time period - 1880-1889\n",
      "\tGUESS: model - LOO_1882_Drevorubec.xml_model_n-1,2.m-LinearSVC.joblib, guessed time period - 1900-1909\n",
      "\tGUESS: model - LOO_1882_Drevorubec.xml_model_n-1,2.m-LinearSVC.joblib, guessed time period - 1900-1909\n",
      "\tGUESS: model - LOO_1882_Drevorubec.xml_model_n-1,2.m-LinearSVC.joblib, guessed time period - 1870-1879\n",
      "\tGUESS: model - LOO_1882_Drevorubec.xml_model_n-1,2.m-LinearSVC.joblib, guessed time period - 1890-1899\n",
      "\tGUESS: model - LOO_1882_Drevorubec.xml_model_n-1,2.m-LinearSVC.joblib, guessed time period - 1890-1899\n",
      "\tGUESS: model - LOO_1882_Drevorubec.xml_model_n-1,2.m-LinearSVC.joblib, guessed time period - 1880-1889\n",
      "\tGUESS: model - LOO_1882_Drevorubec.xml_model_n-1,2.m-LinearSVC.joblib, guessed time period - 1900-1909\n",
      "\tGUESS: model - LOO_1882_Drevorubec.xml_model_n-1,2.m-LinearSVC.joblib, guessed time period - 1900-1909\n",
      "\tGUESS: model - LOO_1882_Drevorubec.xml_model_n-1,2.m-LinearSVC.joblib, guessed time period - 1900-1909\n",
      "\tGUESS: model - LOO_1882_Drevorubec.xml_model_n-1,2.m-LinearSVC.joblib, guessed time period - 1900-1909\n",
      "\tGUESS: model - LOO_1882_Drevorubec.xml_model_n-1,2.m-LinearSVC.joblib, guessed time period - 1900-1909\n",
      "\tGUESS: model - LOO_1882_Drevorubec.xml_model_n-1,2.m-LinearSVC.joblib, guessed time period - 1900-1909\n",
      "\tGUESS: model - LOO_1882_Drevorubec.xml_model_n-1,2.m-LinearSVC.joblib, guessed time period - 1870-1879\n",
      "\tGUESS: model - LOO_1882_Drevorubec.xml_model_n-1,2.m-LinearSVC.joblib, guessed time period - 1870-1879\n",
      "\tGUESS: model - LOO_1882_Drevorubec.xml_model_n-1,2.m-LinearSVC.joblib, guessed time period - 1900-1909\n",
      "\tGUESS: model - LOO_1882_Drevorubec.xml_model_n-1,2.m-LinearSVC.joblib, guessed time period - 1890-1899\n",
      "\tGUESS: model - LOO_1882_Drevorubec.xml_model_n-1,2.m-LinearSVC.joblib, guessed time period - 1920-1929\n",
      "\tGUESS: model - LOO_1882_Drevorubec.xml_model_n-1,2.m-LinearSVC.joblib, guessed time period - 1920-1929\n",
      "\tGUESS: model - LOO_1882_Drevorubec.xml_model_n-1,2.m-LinearSVC.joblib, guessed time period - 1920-1929\n",
      "\tGUESS: model - LOO_1882_Drevorubec.xml_model_n-1,2.m-LinearSVC.joblib, guessed time period - 1880-1889\n",
      "\tGUESS: model - LOO_1882_Drevorubec.xml_model_n-1,2.m-LinearSVC.joblib, guessed time period - 1880-1889\n",
      "\tGUESS: model - LOO_1882_Drevorubec.xml_model_n-1,2.m-LinearSVC.joblib, guessed time period - 1890-1899\n",
      "\tGUESS: model - LOO_1882_Drevorubec.xml_model_n-1,2.m-LinearSVC.joblib, guessed time period - 1890-1899\n",
      "\tGUESS: model - LOO_1882_Drevorubec.xml_model_n-1,2.m-LinearSVC.joblib, guessed time period - 1890-1899\n",
      "\tGUESS: model - LOO_1882_Drevorubec.xml_model_n-1,2.m-LinearSVC.joblib, guessed time period - 1900-1909\n",
      "\tGUESS: model - LOO_1882_Drevorubec.xml_model_n-1,2.m-LinearSVC.joblib, guessed time period - 1910-1919\n",
      "\tGUESS: model - LOO_1882_Drevorubec.xml_model_n-1,2.m-LinearSVC.joblib, guessed time period - 1920-1929\n",
      "\tGUESS: model - LOO_1882_Drevorubec.xml_model_n-1,2.m-LinearSVC.joblib, guessed time period - 1900-1909\n",
      "\tGUESS: model - LOO_1882_Drevorubec.xml_model_n-1,2.m-LinearSVC.joblib, guessed time period - 1900-1909\n",
      "\tGUESS: model - LOO_1882_Drevorubec.xml_model_n-1,2.m-LinearSVC.joblib, guessed time period - 1900-1909\n",
      "\tGUESS: model - LOO_1882_Drevorubec.xml_model_n-1,2.m-LinearSVC.joblib, guessed time period - 1920-1929\n",
      "\tGUESS: model - LOO_1882_Drevorubec.xml_model_n-1,2.m-LinearSVC.joblib, guessed time period - 1890-1899\n",
      "\tGUESS: model - LOO_1882_Drevorubec.xml_model_n-1,2.m-LinearSVC.joblib, guessed time period - 1890-1899\n",
      "\tGUESS: model - LOO_1882_Drevorubec.xml_model_n-1,2.m-LinearSVC.joblib, guessed time period - 1900-1909\n",
      "1882_Drevorubec.xml Score: {'correct': 8, 'incorrect': 47} Evaluation score: 0.14545454545454545\n",
      "Evaluating model on 1883_Oldrich_a_Bozena.xml\n",
      "\tGUESS: model - LOO_1883_Oldrich_a_Bozena.xml_model_n-1,2.m-LinearSVC.joblib, guessed time period - 1870-1879\n",
      "\tGUESS: model - LOO_1883_Oldrich_a_Bozena.xml_model_n-1,2.m-LinearSVC.joblib, guessed time period - 1880-1889\n",
      "\tGUESS: model - LOO_1883_Oldrich_a_Bozena.xml_model_n-1,2.m-LinearSVC.joblib, guessed time period - 1880-1889\n",
      "1883_Oldrich_a_Bozena.xml Score: {'correct': 2, 'incorrect': 1} Evaluation score: 0.6666666666666666\n",
      "Evaluating model on 1883_V_zatisi.xml\n",
      "\tGUESS: model - LOO_1883_V_zatisi.xml_model_n-1,2.m-LinearSVC.joblib, guessed time period - 1880-1889\n",
      "\tGUESS: model - LOO_1883_V_zatisi.xml_model_n-1,2.m-LinearSVC.joblib, guessed time period - 1880-1889\n",
      "\tGUESS: model - LOO_1883_V_zatisi.xml_model_n-1,2.m-LinearSVC.joblib, guessed time period - 1880-1889\n",
      "1883_V_zatisi.xml Score: {'correct': 3, 'incorrect': 0} Evaluation score: 1.0\n",
      "Evaluating model on 1883_Za_volnost_a_viru.xml\n",
      "\tGUESS: model - LOO_1883_Za_volnost_a_viru.xml_model_n-1,2.m-LinearSVC.joblib, guessed time period - 1870-1879\n",
      "\tGUESS: model - LOO_1883_Za_volnost_a_viru.xml_model_n-1,2.m-LinearSVC.joblib, guessed time period - 1890-1899\n",
      "\tGUESS: model - LOO_1883_Za_volnost_a_viru.xml_model_n-1,2.m-LinearSVC.joblib, guessed time period - 1890-1899\n",
      "\tGUESS: model - LOO_1883_Za_volnost_a_viru.xml_model_n-1,2.m-LinearSVC.joblib, guessed time period - 1890-1899\n",
      "\tGUESS: model - LOO_1883_Za_volnost_a_viru.xml_model_n-1,2.m-LinearSVC.joblib, guessed time period - 1870-1879\n",
      "\tGUESS: model - LOO_1883_Za_volnost_a_viru.xml_model_n-1,2.m-LinearSVC.joblib, guessed time period - 1870-1879\n",
      "\tGUESS: model - LOO_1883_Za_volnost_a_viru.xml_model_n-1,2.m-LinearSVC.joblib, guessed time period - 1890-1899\n",
      "\tGUESS: model - LOO_1883_Za_volnost_a_viru.xml_model_n-1,2.m-LinearSVC.joblib, guessed time period - 1870-1879\n",
      "\tGUESS: model - LOO_1883_Za_volnost_a_viru.xml_model_n-1,2.m-LinearSVC.joblib, guessed time period - 1870-1879\n",
      "\tGUESS: model - LOO_1883_Za_volnost_a_viru.xml_model_n-1,2.m-LinearSVC.joblib, guessed time period - 1870-1879\n",
      "\tGUESS: model - LOO_1883_Za_volnost_a_viru.xml_model_n-1,2.m-LinearSVC.joblib, guessed time period - 1870-1879\n",
      "\tGUESS: model - LOO_1883_Za_volnost_a_viru.xml_model_n-1,2.m-LinearSVC.joblib, guessed time period - 1870-1879\n",
      "\tGUESS: model - LOO_1883_Za_volnost_a_viru.xml_model_n-1,2.m-LinearSVC.joblib, guessed time period - 1870-1879\n",
      "\tGUESS: model - LOO_1883_Za_volnost_a_viru.xml_model_n-1,2.m-LinearSVC.joblib, guessed time period - 1880-1889\n",
      "\tGUESS: model - LOO_1883_Za_volnost_a_viru.xml_model_n-1,2.m-LinearSVC.joblib, guessed time period - 1870-1879\n",
      "\tGUESS: model - LOO_1883_Za_volnost_a_viru.xml_model_n-1,2.m-LinearSVC.joblib, guessed time period - 1870-1879\n",
      "\tGUESS: model - LOO_1883_Za_volnost_a_viru.xml_model_n-1,2.m-LinearSVC.joblib, guessed time period - 1870-1879\n",
      "\tGUESS: model - LOO_1883_Za_volnost_a_viru.xml_model_n-1,2.m-LinearSVC.joblib, guessed time period - 1890-1899\n",
      "\tGUESS: model - LOO_1883_Za_volnost_a_viru.xml_model_n-1,2.m-LinearSVC.joblib, guessed time period - 1870-1879\n",
      "\tGUESS: model - LOO_1883_Za_volnost_a_viru.xml_model_n-1,2.m-LinearSVC.joblib, guessed time period - 1900-1909\n",
      "\tGUESS: model - LOO_1883_Za_volnost_a_viru.xml_model_n-1,2.m-LinearSVC.joblib, guessed time period - 1890-1899\n",
      "\tGUESS: model - LOO_1883_Za_volnost_a_viru.xml_model_n-1,2.m-LinearSVC.joblib, guessed time period - 1870-1879\n",
      "\tGUESS: model - LOO_1883_Za_volnost_a_viru.xml_model_n-1,2.m-LinearSVC.joblib, guessed time period - 1870-1879\n",
      "\tGUESS: model - LOO_1883_Za_volnost_a_viru.xml_model_n-1,2.m-LinearSVC.joblib, guessed time period - 1870-1879\n",
      "\tGUESS: model - LOO_1883_Za_volnost_a_viru.xml_model_n-1,2.m-LinearSVC.joblib, guessed time period - 1870-1879\n",
      "\tGUESS: model - LOO_1883_Za_volnost_a_viru.xml_model_n-1,2.m-LinearSVC.joblib, guessed time period - 1880-1889\n",
      "\tGUESS: model - LOO_1883_Za_volnost_a_viru.xml_model_n-1,2.m-LinearSVC.joblib, guessed time period - 1870-1879\n",
      "\tGUESS: model - LOO_1883_Za_volnost_a_viru.xml_model_n-1,2.m-LinearSVC.joblib, guessed time period - 1870-1879\n",
      "\tGUESS: model - LOO_1883_Za_volnost_a_viru.xml_model_n-1,2.m-LinearSVC.joblib, guessed time period - 1880-1889\n",
      "1883_Za_volnost_a_viru.xml Score: {'correct': 3, 'incorrect': 26} Evaluation score: 0.10344827586206896\n",
      "Evaluating model on 1884_Horec_a_srdecnik.xml\n",
      "\tGUESS: model - LOO_1884_Horec_a_srdecnik.xml_model_n-1,2.m-LinearSVC.joblib, guessed time period - 1920-1929\n",
      "\tGUESS: model - LOO_1884_Horec_a_srdecnik.xml_model_n-1,2.m-LinearSVC.joblib, guessed time period - 1890-1899\n",
      "1884_Horec_a_srdecnik.xml Score: {'correct': 0, 'incorrect': 2} Evaluation score: 0.0\n",
      "Evaluating model on 1884_Na_prastkach.xml\n",
      "\tGUESS: model - LOO_1884_Na_prastkach.xml_model_n-1,2.m-LinearSVC.joblib, guessed time period - 1880-1889\n",
      "\tGUESS: model - LOO_1884_Na_prastkach.xml_model_n-1,2.m-LinearSVC.joblib, guessed time period - 1880-1889\n",
      "\tGUESS: model - LOO_1884_Na_prastkach.xml_model_n-1,2.m-LinearSVC.joblib, guessed time period - 1920-1929\n",
      "\tGUESS: model - LOO_1884_Na_prastkach.xml_model_n-1,2.m-LinearSVC.joblib, guessed time period - 1900-1909\n",
      "\tGUESS: model - LOO_1884_Na_prastkach.xml_model_n-1,2.m-LinearSVC.joblib, guessed time period - 1880-1889\n",
      "\tGUESS: model - LOO_1884_Na_prastkach.xml_model_n-1,2.m-LinearSVC.joblib, guessed time period - 1880-1889\n",
      "\tGUESS: model - LOO_1884_Na_prastkach.xml_model_n-1,2.m-LinearSVC.joblib, guessed time period - 1880-1889\n",
      "\tGUESS: model - LOO_1884_Na_prastkach.xml_model_n-1,2.m-LinearSVC.joblib, guessed time period - 1870-1879\n",
      "\tGUESS: model - LOO_1884_Na_prastkach.xml_model_n-1,2.m-LinearSVC.joblib, guessed time period - 1920-1929\n",
      "\tGUESS: model - LOO_1884_Na_prastkach.xml_model_n-1,2.m-LinearSVC.joblib, guessed time period - 1920-1929\n",
      "1884_Na_prastkach.xml Score: {'correct': 5, 'incorrect': 5} Evaluation score: 0.5\n",
      "Evaluating model on 1885_Pisne.xml\n",
      "\tGUESS: model - LOO_1885_Pisne.xml_model_n-1,2.m-LinearSVC.joblib, guessed time period - 1860-1869\n",
      "\tGUESS: model - LOO_1885_Pisne.xml_model_n-1,2.m-LinearSVC.joblib, guessed time period - 1880-1889\n",
      "\tGUESS: model - LOO_1885_Pisne.xml_model_n-1,2.m-LinearSVC.joblib, guessed time period - 1870-1879\n",
      "\tGUESS: model - LOO_1885_Pisne.xml_model_n-1,2.m-LinearSVC.joblib, guessed time period - 1870-1879\n",
      "1885_Pisne.xml Score: {'correct': 1, 'incorrect': 3} Evaluation score: 0.25\n",
      "Evaluating model on 1885_Pod_Vitkovym_kamenem.xml\n",
      "\tGUESS: model - LOO_1885_Pod_Vitkovym_kamenem.xml_model_n-1,2.m-LinearSVC.joblib, guessed time period - 1880-1889\n",
      "\tGUESS: model - LOO_1885_Pod_Vitkovym_kamenem.xml_model_n-1,2.m-LinearSVC.joblib, guessed time period - 1880-1889\n",
      "\tGUESS: model - LOO_1885_Pod_Vitkovym_kamenem.xml_model_n-1,2.m-LinearSVC.joblib, guessed time period - 1870-1879\n",
      "\tGUESS: model - LOO_1885_Pod_Vitkovym_kamenem.xml_model_n-1,2.m-LinearSVC.joblib, guessed time period - 1890-1899\n",
      "\tGUESS: model - LOO_1885_Pod_Vitkovym_kamenem.xml_model_n-1,2.m-LinearSVC.joblib, guessed time period - 1880-1889\n",
      "\tGUESS: model - LOO_1885_Pod_Vitkovym_kamenem.xml_model_n-1,2.m-LinearSVC.joblib, guessed time period - 1900-1909\n",
      "\tGUESS: model - LOO_1885_Pod_Vitkovym_kamenem.xml_model_n-1,2.m-LinearSVC.joblib, guessed time period - 1870-1879\n",
      "\tGUESS: model - LOO_1885_Pod_Vitkovym_kamenem.xml_model_n-1,2.m-LinearSVC.joblib, guessed time period - 1890-1899\n",
      "\tGUESS: model - LOO_1885_Pod_Vitkovym_kamenem.xml_model_n-1,2.m-LinearSVC.joblib, guessed time period - 1900-1909\n",
      "\tGUESS: model - LOO_1885_Pod_Vitkovym_kamenem.xml_model_n-1,2.m-LinearSVC.joblib, guessed time period - 1870-1879\n",
      "\tGUESS: model - LOO_1885_Pod_Vitkovym_kamenem.xml_model_n-1,2.m-LinearSVC.joblib, guessed time period - 1870-1879\n",
      "\tGUESS: model - LOO_1885_Pod_Vitkovym_kamenem.xml_model_n-1,2.m-LinearSVC.joblib, guessed time period - 1900-1909\n",
      "\tGUESS: model - LOO_1885_Pod_Vitkovym_kamenem.xml_model_n-1,2.m-LinearSVC.joblib, guessed time period - 1910-1919\n",
      "\tGUESS: model - LOO_1885_Pod_Vitkovym_kamenem.xml_model_n-1,2.m-LinearSVC.joblib, guessed time period - 1900-1909\n",
      "\tGUESS: model - LOO_1885_Pod_Vitkovym_kamenem.xml_model_n-1,2.m-LinearSVC.joblib, guessed time period - 1900-1909\n",
      "\tGUESS: model - LOO_1885_Pod_Vitkovym_kamenem.xml_model_n-1,2.m-LinearSVC.joblib, guessed time period - 1900-1909\n",
      "\tGUESS: model - LOO_1885_Pod_Vitkovym_kamenem.xml_model_n-1,2.m-LinearSVC.joblib, guessed time period - 1900-1909\n",
      "\tGUESS: model - LOO_1885_Pod_Vitkovym_kamenem.xml_model_n-1,2.m-LinearSVC.joblib, guessed time period - 1900-1909\n",
      "\tGUESS: model - LOO_1885_Pod_Vitkovym_kamenem.xml_model_n-1,2.m-LinearSVC.joblib, guessed time period - 1900-1909\n",
      "\tGUESS: model - LOO_1885_Pod_Vitkovym_kamenem.xml_model_n-1,2.m-LinearSVC.joblib, guessed time period - 1880-1889\n",
      "\tGUESS: model - LOO_1885_Pod_Vitkovym_kamenem.xml_model_n-1,2.m-LinearSVC.joblib, guessed time period - 1870-1879\n",
      "\tGUESS: model - LOO_1885_Pod_Vitkovym_kamenem.xml_model_n-1,2.m-LinearSVC.joblib, guessed time period - 1870-1879\n",
      "\tGUESS: model - LOO_1885_Pod_Vitkovym_kamenem.xml_model_n-1,2.m-LinearSVC.joblib, guessed time period - 1870-1879\n",
      "\tGUESS: model - LOO_1885_Pod_Vitkovym_kamenem.xml_model_n-1,2.m-LinearSVC.joblib, guessed time period - 1890-1899\n",
      "\tGUESS: model - LOO_1885_Pod_Vitkovym_kamenem.xml_model_n-1,2.m-LinearSVC.joblib, guessed time period - 1880-1889\n",
      "1885_Pod_Vitkovym_kamenem.xml Score: {'correct': 5, 'incorrect': 20} Evaluation score: 0.2\n",
      "Evaluating model on 1886_Bela.xml\n",
      "\tGUESS: model - LOO_1886_Bela.xml_model_n-1,2.m-LinearSVC.joblib, guessed time period - 1870-1879\n",
      "\tGUESS: model - LOO_1886_Bela.xml_model_n-1,2.m-LinearSVC.joblib, guessed time period - 1870-1879\n",
      "\tGUESS: model - LOO_1886_Bela.xml_model_n-1,2.m-LinearSVC.joblib, guessed time period - 1890-1899\n",
      "\tGUESS: model - LOO_1886_Bela.xml_model_n-1,2.m-LinearSVC.joblib, guessed time period - 1880-1889\n",
      "\tGUESS: model - LOO_1886_Bela.xml_model_n-1,2.m-LinearSVC.joblib, guessed time period - 1880-1889\n",
      "\tGUESS: model - LOO_1886_Bela.xml_model_n-1,2.m-LinearSVC.joblib, guessed time period - 1880-1889\n",
      "\tGUESS: model - LOO_1886_Bela.xml_model_n-1,2.m-LinearSVC.joblib, guessed time period - 1880-1889\n",
      "\tGUESS: model - LOO_1886_Bela.xml_model_n-1,2.m-LinearSVC.joblib, guessed time period - 1880-1889\n",
      "\tGUESS: model - LOO_1886_Bela.xml_model_n-1,2.m-LinearSVC.joblib, guessed time period - 1880-1889\n",
      "\tGUESS: model - LOO_1886_Bela.xml_model_n-1,2.m-LinearSVC.joblib, guessed time period - 1870-1879\n",
      "\tGUESS: model - LOO_1886_Bela.xml_model_n-1,2.m-LinearSVC.joblib, guessed time period - 1870-1879\n",
      "\tGUESS: model - LOO_1886_Bela.xml_model_n-1,2.m-LinearSVC.joblib, guessed time period - 1880-1889\n",
      "\tGUESS: model - LOO_1886_Bela.xml_model_n-1,2.m-LinearSVC.joblib, guessed time period - 1890-1899\n",
      "\tGUESS: model - LOO_1886_Bela.xml_model_n-1,2.m-LinearSVC.joblib, guessed time period - 1870-1879\n",
      "\tGUESS: model - LOO_1886_Bela.xml_model_n-1,2.m-LinearSVC.joblib, guessed time period - 1870-1879\n",
      "\tGUESS: model - LOO_1886_Bela.xml_model_n-1,2.m-LinearSVC.joblib, guessed time period - 1870-1879\n",
      "\tGUESS: model - LOO_1886_Bela.xml_model_n-1,2.m-LinearSVC.joblib, guessed time period - 1870-1879\n",
      "\tGUESS: model - LOO_1886_Bela.xml_model_n-1,2.m-LinearSVC.joblib, guessed time period - 1870-1879\n",
      "\tGUESS: model - LOO_1886_Bela.xml_model_n-1,2.m-LinearSVC.joblib, guessed time period - 1900-1909\n",
      "\tGUESS: model - LOO_1886_Bela.xml_model_n-1,2.m-LinearSVC.joblib, guessed time period - 1900-1909\n",
      "\tGUESS: model - LOO_1886_Bela.xml_model_n-1,2.m-LinearSVC.joblib, guessed time period - 1870-1879\n",
      "\tGUESS: model - LOO_1886_Bela.xml_model_n-1,2.m-LinearSVC.joblib, guessed time period - 1890-1899\n",
      "\tGUESS: model - LOO_1886_Bela.xml_model_n-1,2.m-LinearSVC.joblib, guessed time period - 1870-1879\n",
      "\tGUESS: model - LOO_1886_Bela.xml_model_n-1,2.m-LinearSVC.joblib, guessed time period - 1870-1879\n",
      "\tGUESS: model - LOO_1886_Bela.xml_model_n-1,2.m-LinearSVC.joblib, guessed time period - 1920-1929\n",
      "\tGUESS: model - LOO_1886_Bela.xml_model_n-1,2.m-LinearSVC.joblib, guessed time period - 1880-1889\n",
      "\tGUESS: model - LOO_1886_Bela.xml_model_n-1,2.m-LinearSVC.joblib, guessed time period - 1880-1889\n",
      "\tGUESS: model - LOO_1886_Bela.xml_model_n-1,2.m-LinearSVC.joblib, guessed time period - 1870-1879\n",
      "\tGUESS: model - LOO_1886_Bela.xml_model_n-1,2.m-LinearSVC.joblib, guessed time period - 1870-1879\n",
      "\tGUESS: model - LOO_1886_Bela.xml_model_n-1,2.m-LinearSVC.joblib, guessed time period - 1870-1879\n",
      "\tGUESS: model - LOO_1886_Bela.xml_model_n-1,2.m-LinearSVC.joblib, guessed time period - 1870-1879\n",
      "\tGUESS: model - LOO_1886_Bela.xml_model_n-1,2.m-LinearSVC.joblib, guessed time period - 1870-1879\n",
      "\tGUESS: model - LOO_1886_Bela.xml_model_n-1,2.m-LinearSVC.joblib, guessed time period - 1870-1879\n",
      "\tGUESS: model - LOO_1886_Bela.xml_model_n-1,2.m-LinearSVC.joblib, guessed time period - 1920-1929\n",
      "\tGUESS: model - LOO_1886_Bela.xml_model_n-1,2.m-LinearSVC.joblib, guessed time period - 1870-1879\n",
      "\tGUESS: model - LOO_1886_Bela.xml_model_n-1,2.m-LinearSVC.joblib, guessed time period - 1880-1889\n",
      "\tGUESS: model - LOO_1886_Bela.xml_model_n-1,2.m-LinearSVC.joblib, guessed time period - 1900-1909\n",
      "\tGUESS: model - LOO_1886_Bela.xml_model_n-1,2.m-LinearSVC.joblib, guessed time period - 1880-1889\n",
      "\tGUESS: model - LOO_1886_Bela.xml_model_n-1,2.m-LinearSVC.joblib, guessed time period - 1880-1889\n",
      "\tGUESS: model - LOO_1886_Bela.xml_model_n-1,2.m-LinearSVC.joblib, guessed time period - 1870-1879\n",
      "\tGUESS: model - LOO_1886_Bela.xml_model_n-1,2.m-LinearSVC.joblib, guessed time period - 1870-1879\n",
      "\tGUESS: model - LOO_1886_Bela.xml_model_n-1,2.m-LinearSVC.joblib, guessed time period - 1920-1929\n",
      "\tGUESS: model - LOO_1886_Bela.xml_model_n-1,2.m-LinearSVC.joblib, guessed time period - 1920-1929\n",
      "\tGUESS: model - LOO_1886_Bela.xml_model_n-1,2.m-LinearSVC.joblib, guessed time period - 1900-1909\n",
      "\tGUESS: model - LOO_1886_Bela.xml_model_n-1,2.m-LinearSVC.joblib, guessed time period - 1900-1909\n",
      "\tGUESS: model - LOO_1886_Bela.xml_model_n-1,2.m-LinearSVC.joblib, guessed time period - 1910-1919\n",
      "\tGUESS: model - LOO_1886_Bela.xml_model_n-1,2.m-LinearSVC.joblib, guessed time period - 1870-1879\n",
      "\tGUESS: model - LOO_1886_Bela.xml_model_n-1,2.m-LinearSVC.joblib, guessed time period - 1880-1889\n",
      "\tGUESS: model - LOO_1886_Bela.xml_model_n-1,2.m-LinearSVC.joblib, guessed time period - 1880-1889\n",
      "\tGUESS: model - LOO_1886_Bela.xml_model_n-1,2.m-LinearSVC.joblib, guessed time period - 1880-1889\n",
      "\tGUESS: model - LOO_1886_Bela.xml_model_n-1,2.m-LinearSVC.joblib, guessed time period - 1910-1919\n",
      "\tGUESS: model - LOO_1886_Bela.xml_model_n-1,2.m-LinearSVC.joblib, guessed time period - 1870-1879\n",
      "\tGUESS: model - LOO_1886_Bela.xml_model_n-1,2.m-LinearSVC.joblib, guessed time period - 1880-1889\n",
      "\tGUESS: model - LOO_1886_Bela.xml_model_n-1,2.m-LinearSVC.joblib, guessed time period - 1880-1889\n",
      "\tGUESS: model - LOO_1886_Bela.xml_model_n-1,2.m-LinearSVC.joblib, guessed time period - 1900-1909\n",
      "\tGUESS: model - LOO_1886_Bela.xml_model_n-1,2.m-LinearSVC.joblib, guessed time period - 1900-1909\n",
      "\tGUESS: model - LOO_1886_Bela.xml_model_n-1,2.m-LinearSVC.joblib, guessed time period - 1880-1889\n",
      "\tGUESS: model - LOO_1886_Bela.xml_model_n-1,2.m-LinearSVC.joblib, guessed time period - 1880-1889\n",
      "\tGUESS: model - LOO_1886_Bela.xml_model_n-1,2.m-LinearSVC.joblib, guessed time period - 1900-1909\n",
      "\tGUESS: model - LOO_1886_Bela.xml_model_n-1,2.m-LinearSVC.joblib, guessed time period - 1900-1909\n",
      "\tGUESS: model - LOO_1886_Bela.xml_model_n-1,2.m-LinearSVC.joblib, guessed time period - 1920-1929\n",
      "\tGUESS: model - LOO_1886_Bela.xml_model_n-1,2.m-LinearSVC.joblib, guessed time period - 1880-1889\n",
      "\tGUESS: model - LOO_1886_Bela.xml_model_n-1,2.m-LinearSVC.joblib, guessed time period - 1880-1889\n",
      "\tGUESS: model - LOO_1886_Bela.xml_model_n-1,2.m-LinearSVC.joblib, guessed time period - 1900-1909\n",
      "\tGUESS: model - LOO_1886_Bela.xml_model_n-1,2.m-LinearSVC.joblib, guessed time period - 1890-1899\n",
      "\tGUESS: model - LOO_1886_Bela.xml_model_n-1,2.m-LinearSVC.joblib, guessed time period - 1890-1899\n",
      "\tGUESS: model - LOO_1886_Bela.xml_model_n-1,2.m-LinearSVC.joblib, guessed time period - 1900-1909\n",
      "\tGUESS: model - LOO_1886_Bela.xml_model_n-1,2.m-LinearSVC.joblib, guessed time period - 1900-1909\n",
      "1886_Bela.xml Score: {'correct': 21, 'incorrect': 47} Evaluation score: 0.3088235294117647\n",
      "Evaluating model on 1886_Zavate_listy.xml\n",
      "\tGUESS: model - LOO_1886_Zavate_listy.xml_model_n-1,2.m-LinearSVC.joblib, guessed time period - 1870-1879\n",
      "1886_Zavate_listy.xml Score: {'correct': 0, 'incorrect': 1} Evaluation score: 0.0\n",
      "Evaluating model on 1888_Obrazky.xml\n",
      "\tGUESS: model - LOO_1888_Obrazky.xml_model_n-1,2.m-LinearSVC.joblib, guessed time period - 1900-1909\n",
      "\tGUESS: model - LOO_1888_Obrazky.xml_model_n-1,2.m-LinearSVC.joblib, guessed time period - 1900-1909\n",
      "\tGUESS: model - LOO_1888_Obrazky.xml_model_n-1,2.m-LinearSVC.joblib, guessed time period - 1900-1909\n",
      "\tGUESS: model - LOO_1888_Obrazky.xml_model_n-1,2.m-LinearSVC.joblib, guessed time period - 1880-1889\n",
      "\tGUESS: model - LOO_1888_Obrazky.xml_model_n-1,2.m-LinearSVC.joblib, guessed time period - 1880-1889\n",
      "\tGUESS: model - LOO_1888_Obrazky.xml_model_n-1,2.m-LinearSVC.joblib, guessed time period - 1880-1889\n",
      "1888_Obrazky.xml Score: {'correct': 3, 'incorrect': 3} Evaluation score: 0.5\n",
      "Evaluating model on 1888_Pisen_o_bitve_u_Kressenbrunnu.xml\n",
      "\tGUESS: model - LOO_1888_Pisen_o_bitve_u_Kressenbrunnu.xml_model_n-1,2.m-LinearSVC.joblib, guessed time period - 1870-1879\n",
      "1888_Pisen_o_bitve_u_Kressenbrunnu.xml Score: {'correct': 0, 'incorrect': 1} Evaluation score: 0.0\n",
      "Evaluating model on 1888_Sipy_a_paprsky.xml\n",
      "\tGUESS: model - LOO_1888_Sipy_a_paprsky.xml_model_n-1,2.m-LinearSVC.joblib, guessed time period - 1900-1909\n",
      "\tGUESS: model - LOO_1888_Sipy_a_paprsky.xml_model_n-1,2.m-LinearSVC.joblib, guessed time period - 1870-1879\n",
      "\tGUESS: model - LOO_1888_Sipy_a_paprsky.xml_model_n-1,2.m-LinearSVC.joblib, guessed time period - 1870-1879\n",
      "\tGUESS: model - LOO_1888_Sipy_a_paprsky.xml_model_n-1,2.m-LinearSVC.joblib, guessed time period - 1870-1879\n",
      "\tGUESS: model - LOO_1888_Sipy_a_paprsky.xml_model_n-1,2.m-LinearSVC.joblib, guessed time period - 1890-1899\n",
      "\tGUESS: model - LOO_1888_Sipy_a_paprsky.xml_model_n-1,2.m-LinearSVC.joblib, guessed time period - 1890-1899\n",
      "\tGUESS: model - LOO_1888_Sipy_a_paprsky.xml_model_n-1,2.m-LinearSVC.joblib, guessed time period - 1900-1909\n",
      "1888_Sipy_a_paprsky.xml Score: {'correct': 0, 'incorrect': 7} Evaluation score: 0.0\n",
      "Evaluating model on 1890_Na_vlnach.xml\n",
      "\tGUESS: model - LOO_1890_Na_vlnach.xml_model_n-1,2.m-LinearSVC.joblib, guessed time period - 1870-1879\n",
      "\tGUESS: model - LOO_1890_Na_vlnach.xml_model_n-1,2.m-LinearSVC.joblib, guessed time period - 1870-1879\n",
      "\tGUESS: model - LOO_1890_Na_vlnach.xml_model_n-1,2.m-LinearSVC.joblib, guessed time period - 1870-1879\n",
      "\tGUESS: model - LOO_1890_Na_vlnach.xml_model_n-1,2.m-LinearSVC.joblib, guessed time period - 1880-1889\n",
      "\tGUESS: model - LOO_1890_Na_vlnach.xml_model_n-1,2.m-LinearSVC.joblib, guessed time period - 1900-1909\n",
      "\tGUESS: model - LOO_1890_Na_vlnach.xml_model_n-1,2.m-LinearSVC.joblib, guessed time period - 1900-1909\n",
      "\tGUESS: model - LOO_1890_Na_vlnach.xml_model_n-1,2.m-LinearSVC.joblib, guessed time period - 1900-1909\n",
      "\tGUESS: model - LOO_1890_Na_vlnach.xml_model_n-1,2.m-LinearSVC.joblib, guessed time period - 1900-1909\n",
      "1890_Na_vlnach.xml Score: {'correct': 0, 'incorrect': 8} Evaluation score: 0.0\n",
      "Evaluating model on 1894_Bohatyri.xml\n",
      "\tGUESS: model - LOO_1894_Bohatyri.xml_model_n-1,2.m-LinearSVC.joblib, guessed time period - 1890-1899\n",
      "\tGUESS: model - LOO_1894_Bohatyri.xml_model_n-1,2.m-LinearSVC.joblib, guessed time period - 1890-1899\n",
      "\tGUESS: model - LOO_1894_Bohatyri.xml_model_n-1,2.m-LinearSVC.joblib, guessed time period - 1920-1929\n",
      "\tGUESS: model - LOO_1894_Bohatyri.xml_model_n-1,2.m-LinearSVC.joblib, guessed time period - 1900-1909\n",
      "\tGUESS: model - LOO_1894_Bohatyri.xml_model_n-1,2.m-LinearSVC.joblib, guessed time period - 1870-1879\n",
      "\tGUESS: model - LOO_1894_Bohatyri.xml_model_n-1,2.m-LinearSVC.joblib, guessed time period - 1870-1879\n",
      "1894_Bohatyri.xml Score: {'correct': 2, 'incorrect': 4} Evaluation score: 0.3333333333333333\n",
      "Evaluating model on 1894_Na_potulkach.xml\n",
      "\tGUESS: model - LOO_1894_Na_potulkach.xml_model_n-1,2.m-LinearSVC.joblib, guessed time period - 1880-1889\n",
      "\tGUESS: model - LOO_1894_Na_potulkach.xml_model_n-1,2.m-LinearSVC.joblib, guessed time period - 1880-1889\n",
      "\tGUESS: model - LOO_1894_Na_potulkach.xml_model_n-1,2.m-LinearSVC.joblib, guessed time period - 1920-1929\n",
      "\tGUESS: model - LOO_1894_Na_potulkach.xml_model_n-1,2.m-LinearSVC.joblib, guessed time period - 1920-1929\n",
      "\tGUESS: model - LOO_1894_Na_potulkach.xml_model_n-1,2.m-LinearSVC.joblib, guessed time period - 1880-1889\n",
      "1894_Na_potulkach.xml Score: {'correct': 0, 'incorrect': 5} Evaluation score: 0.0\n",
      "Evaluating model on 1897_Nove_Ciganske_melodie_(in_Spisy_Adolfa_Heyduka,_svazek_1).xml\n",
      "\tGUESS: model - LOO_1897_Nove_Ciganske_melodie_(in_Spisy_Adolfa_Heyduka,_svazek_1).xml_model_n-1,2.m-LinearSVC.joblib, guessed time period - 1880-1889\n",
      "\tGUESS: model - LOO_1897_Nove_Ciganske_melodie_(in_Spisy_Adolfa_Heyduka,_svazek_1).xml_model_n-1,2.m-LinearSVC.joblib, guessed time period - 1870-1879\n",
      "1897_Nove_Ciganske_melodie_(in_Spisy_Adolfa_Heyduka,_svazek_1).xml Score: {'correct': 0, 'incorrect': 2} Evaluation score: 0.0\n",
      "Evaluating model on 1897_Ptaci_motivy_1,_2_(in_Spisy_Adolfa_Heyduka,_svazek_2).xml\n",
      "\tGUESS: model - LOO_1897_Ptaci_motivy_1,_2_(in_Spisy_Adolfa_Heyduka,_svazek_2).xml_model_n-1,2.m-LinearSVC.joblib, guessed time period - 1920-1929\n",
      "1897_Ptaci_motivy_1,_2_(in_Spisy_Adolfa_Heyduka,_svazek_2).xml Score: {'correct': 0, 'incorrect': 1} Evaluation score: 0.0\n",
      "Evaluating model on 1897_Ptaci_motivy_3,_4_(in_Spisy_Adolfa_Heyduka,_svazek_2).xml\n",
      "\tGUESS: model - LOO_1897_Ptaci_motivy_3,_4_(in_Spisy_Adolfa_Heyduka,_svazek_2).xml_model_n-1,2.m-LinearSVC.joblib, guessed time period - 1880-1889\n",
      "\tGUESS: model - LOO_1897_Ptaci_motivy_3,_4_(in_Spisy_Adolfa_Heyduka,_svazek_2).xml_model_n-1,2.m-LinearSVC.joblib, guessed time period - 1890-1899\n",
      "\tGUESS: model - LOO_1897_Ptaci_motivy_3,_4_(in_Spisy_Adolfa_Heyduka,_svazek_2).xml_model_n-1,2.m-LinearSVC.joblib, guessed time period - 1890-1899\n",
      "\tGUESS: model - LOO_1897_Ptaci_motivy_3,_4_(in_Spisy_Adolfa_Heyduka,_svazek_2).xml_model_n-1,2.m-LinearSVC.joblib, guessed time period - 1910-1919\n",
      "\tGUESS: model - LOO_1897_Ptaci_motivy_3,_4_(in_Spisy_Adolfa_Heyduka,_svazek_2).xml_model_n-1,2.m-LinearSVC.joblib, guessed time period - 1870-1879\n",
      "\tGUESS: model - LOO_1897_Ptaci_motivy_3,_4_(in_Spisy_Adolfa_Heyduka,_svazek_2).xml_model_n-1,2.m-LinearSVC.joblib, guessed time period - 1900-1909\n",
      "\tGUESS: model - LOO_1897_Ptaci_motivy_3,_4_(in_Spisy_Adolfa_Heyduka,_svazek_2).xml_model_n-1,2.m-LinearSVC.joblib, guessed time period - 1900-1909\n",
      "\tGUESS: model - LOO_1897_Ptaci_motivy_3,_4_(in_Spisy_Adolfa_Heyduka,_svazek_2).xml_model_n-1,2.m-LinearSVC.joblib, guessed time period - 1900-1909\n",
      "1897_Ptaci_motivy_3,_4_(in_Spisy_Adolfa_Heyduka,_svazek_2).xml Score: {'correct': 2, 'incorrect': 6} Evaluation score: 0.25\n",
      "Evaluating model on 1898_Cesti_spisovatele_ceskym_delnikum_narodnim_k_1._maji_1898.xml\n",
      "\tGUESS: model - LOO_1898_Cesti_spisovatele_ceskym_delnikum_narodnim_k_1._maji_1898.xml_model_n-1,2.m-LinearSVC.joblib, guessed time period - 1900-1909\n",
      "1898_Cesti_spisovatele_ceskym_delnikum_narodnim_k_1._maji_1898.xml Score: {'correct': 0, 'incorrect': 1} Evaluation score: 0.0\n",
      "Evaluating model on 1898_Milota_(in_Spisy_Adolfa_Heyduka,_svazek_7).xml\n",
      "\tGUESS: model - LOO_1898_Milota_(in_Spisy_Adolfa_Heyduka,_svazek_7).xml_model_n-1,2.m-LinearSVC.joblib, guessed time period - 1900-1909\n",
      "\tGUESS: model - LOO_1898_Milota_(in_Spisy_Adolfa_Heyduka,_svazek_7).xml_model_n-1,2.m-LinearSVC.joblib, guessed time period - 1900-1909\n",
      "\tGUESS: model - LOO_1898_Milota_(in_Spisy_Adolfa_Heyduka,_svazek_7).xml_model_n-1,2.m-LinearSVC.joblib, guessed time period - 1880-1889\n",
      "\tGUESS: model - LOO_1898_Milota_(in_Spisy_Adolfa_Heyduka,_svazek_7).xml_model_n-1,2.m-LinearSVC.joblib, guessed time period - 1890-1899\n",
      "\tGUESS: model - LOO_1898_Milota_(in_Spisy_Adolfa_Heyduka,_svazek_7).xml_model_n-1,2.m-LinearSVC.joblib, guessed time period - 1890-1899\n",
      "\tGUESS: model - LOO_1898_Milota_(in_Spisy_Adolfa_Heyduka,_svazek_7).xml_model_n-1,2.m-LinearSVC.joblib, guessed time period - 1900-1909\n",
      "\tGUESS: model - LOO_1898_Milota_(in_Spisy_Adolfa_Heyduka,_svazek_7).xml_model_n-1,2.m-LinearSVC.joblib, guessed time period - 1900-1909\n",
      "\tGUESS: model - LOO_1898_Milota_(in_Spisy_Adolfa_Heyduka,_svazek_7).xml_model_n-1,2.m-LinearSVC.joblib, guessed time period - 1900-1909\n",
      "\tGUESS: model - LOO_1898_Milota_(in_Spisy_Adolfa_Heyduka,_svazek_7).xml_model_n-1,2.m-LinearSVC.joblib, guessed time period - 1900-1909\n",
      "\tGUESS: model - LOO_1898_Milota_(in_Spisy_Adolfa_Heyduka,_svazek_7).xml_model_n-1,2.m-LinearSVC.joblib, guessed time period - 1900-1909\n",
      "\tGUESS: model - LOO_1898_Milota_(in_Spisy_Adolfa_Heyduka,_svazek_7).xml_model_n-1,2.m-LinearSVC.joblib, guessed time period - 1910-1919\n",
      "\tGUESS: model - LOO_1898_Milota_(in_Spisy_Adolfa_Heyduka,_svazek_7).xml_model_n-1,2.m-LinearSVC.joblib, guessed time period - 1910-1919\n",
      "\tGUESS: model - LOO_1898_Milota_(in_Spisy_Adolfa_Heyduka,_svazek_7).xml_model_n-1,2.m-LinearSVC.joblib, guessed time period - 1900-1909\n",
      "\tGUESS: model - LOO_1898_Milota_(in_Spisy_Adolfa_Heyduka,_svazek_7).xml_model_n-1,2.m-LinearSVC.joblib, guessed time period - 1920-1929\n",
      "\tGUESS: model - LOO_1898_Milota_(in_Spisy_Adolfa_Heyduka,_svazek_7).xml_model_n-1,2.m-LinearSVC.joblib, guessed time period - 1870-1879\n",
      "\tGUESS: model - LOO_1898_Milota_(in_Spisy_Adolfa_Heyduka,_svazek_7).xml_model_n-1,2.m-LinearSVC.joblib, guessed time period - 1880-1889\n",
      "\tGUESS: model - LOO_1898_Milota_(in_Spisy_Adolfa_Heyduka,_svazek_7).xml_model_n-1,2.m-LinearSVC.joblib, guessed time period - 1900-1909\n",
      "\tGUESS: model - LOO_1898_Milota_(in_Spisy_Adolfa_Heyduka,_svazek_7).xml_model_n-1,2.m-LinearSVC.joblib, guessed time period - 1890-1899\n",
      "\tGUESS: model - LOO_1898_Milota_(in_Spisy_Adolfa_Heyduka,_svazek_7).xml_model_n-1,2.m-LinearSVC.joblib, guessed time period - 1900-1909\n",
      "\tGUESS: model - LOO_1898_Milota_(in_Spisy_Adolfa_Heyduka,_svazek_7).xml_model_n-1,2.m-LinearSVC.joblib, guessed time period - 1900-1909\n",
      "\tGUESS: model - LOO_1898_Milota_(in_Spisy_Adolfa_Heyduka,_svazek_7).xml_model_n-1,2.m-LinearSVC.joblib, guessed time period - 1910-1919\n",
      "\tGUESS: model - LOO_1898_Milota_(in_Spisy_Adolfa_Heyduka,_svazek_7).xml_model_n-1,2.m-LinearSVC.joblib, guessed time period - 1870-1879\n",
      "\tGUESS: model - LOO_1898_Milota_(in_Spisy_Adolfa_Heyduka,_svazek_7).xml_model_n-1,2.m-LinearSVC.joblib, guessed time period - 1900-1909\n",
      "\tGUESS: model - LOO_1898_Milota_(in_Spisy_Adolfa_Heyduka,_svazek_7).xml_model_n-1,2.m-LinearSVC.joblib, guessed time period - 1900-1909\n",
      "\tGUESS: model - LOO_1898_Milota_(in_Spisy_Adolfa_Heyduka,_svazek_7).xml_model_n-1,2.m-LinearSVC.joblib, guessed time period - 1900-1909\n",
      "\tGUESS: model - LOO_1898_Milota_(in_Spisy_Adolfa_Heyduka,_svazek_7).xml_model_n-1,2.m-LinearSVC.joblib, guessed time period - 1900-1909\n",
      "\tGUESS: model - LOO_1898_Milota_(in_Spisy_Adolfa_Heyduka,_svazek_7).xml_model_n-1,2.m-LinearSVC.joblib, guessed time period - 1870-1879\n",
      "\tGUESS: model - LOO_1898_Milota_(in_Spisy_Adolfa_Heyduka,_svazek_7).xml_model_n-1,2.m-LinearSVC.joblib, guessed time period - 1910-1919\n",
      "\tGUESS: model - LOO_1898_Milota_(in_Spisy_Adolfa_Heyduka,_svazek_7).xml_model_n-1,2.m-LinearSVC.joblib, guessed time period - 1900-1909\n",
      "\tGUESS: model - LOO_1898_Milota_(in_Spisy_Adolfa_Heyduka,_svazek_7).xml_model_n-1,2.m-LinearSVC.joblib, guessed time period - 1900-1909\n",
      "\tGUESS: model - LOO_1898_Milota_(in_Spisy_Adolfa_Heyduka,_svazek_7).xml_model_n-1,2.m-LinearSVC.joblib, guessed time period - 1890-1899\n",
      "\tGUESS: model - LOO_1898_Milota_(in_Spisy_Adolfa_Heyduka,_svazek_7).xml_model_n-1,2.m-LinearSVC.joblib, guessed time period - 1870-1879\n",
      "\tGUESS: model - LOO_1898_Milota_(in_Spisy_Adolfa_Heyduka,_svazek_7).xml_model_n-1,2.m-LinearSVC.joblib, guessed time period - 1890-1899\n",
      "\tGUESS: model - LOO_1898_Milota_(in_Spisy_Adolfa_Heyduka,_svazek_7).xml_model_n-1,2.m-LinearSVC.joblib, guessed time period - 1870-1879\n",
      "\tGUESS: model - LOO_1898_Milota_(in_Spisy_Adolfa_Heyduka,_svazek_7).xml_model_n-1,2.m-LinearSVC.joblib, guessed time period - 1870-1879\n",
      "\tGUESS: model - LOO_1898_Milota_(in_Spisy_Adolfa_Heyduka,_svazek_7).xml_model_n-1,2.m-LinearSVC.joblib, guessed time period - 1870-1879\n",
      "\tGUESS: model - LOO_1898_Milota_(in_Spisy_Adolfa_Heyduka,_svazek_7).xml_model_n-1,2.m-LinearSVC.joblib, guessed time period - 1870-1879\n",
      "\tGUESS: model - LOO_1898_Milota_(in_Spisy_Adolfa_Heyduka,_svazek_7).xml_model_n-1,2.m-LinearSVC.joblib, guessed time period - 1870-1879\n",
      "\tGUESS: model - LOO_1898_Milota_(in_Spisy_Adolfa_Heyduka,_svazek_7).xml_model_n-1,2.m-LinearSVC.joblib, guessed time period - 1870-1879\n",
      "\tGUESS: model - LOO_1898_Milota_(in_Spisy_Adolfa_Heyduka,_svazek_7).xml_model_n-1,2.m-LinearSVC.joblib, guessed time period - 1900-1909\n",
      "\tGUESS: model - LOO_1898_Milota_(in_Spisy_Adolfa_Heyduka,_svazek_7).xml_model_n-1,2.m-LinearSVC.joblib, guessed time period - 1880-1889\n",
      "\tGUESS: model - LOO_1898_Milota_(in_Spisy_Adolfa_Heyduka,_svazek_7).xml_model_n-1,2.m-LinearSVC.joblib, guessed time period - 1870-1879\n",
      "\tGUESS: model - LOO_1898_Milota_(in_Spisy_Adolfa_Heyduka,_svazek_7).xml_model_n-1,2.m-LinearSVC.joblib, guessed time period - 1900-1909\n",
      "\tGUESS: model - LOO_1898_Milota_(in_Spisy_Adolfa_Heyduka,_svazek_7).xml_model_n-1,2.m-LinearSVC.joblib, guessed time period - 1900-1909\n",
      "\tGUESS: model - LOO_1898_Milota_(in_Spisy_Adolfa_Heyduka,_svazek_7).xml_model_n-1,2.m-LinearSVC.joblib, guessed time period - 1850-1859\n",
      "\tGUESS: model - LOO_1898_Milota_(in_Spisy_Adolfa_Heyduka,_svazek_7).xml_model_n-1,2.m-LinearSVC.joblib, guessed time period - 1920-1929\n",
      "\tGUESS: model - LOO_1898_Milota_(in_Spisy_Adolfa_Heyduka,_svazek_7).xml_model_n-1,2.m-LinearSVC.joblib, guessed time period - 1910-1919\n",
      "\tGUESS: model - LOO_1898_Milota_(in_Spisy_Adolfa_Heyduka,_svazek_7).xml_model_n-1,2.m-LinearSVC.joblib, guessed time period - 1870-1879\n",
      "\tGUESS: model - LOO_1898_Milota_(in_Spisy_Adolfa_Heyduka,_svazek_7).xml_model_n-1,2.m-LinearSVC.joblib, guessed time period - 1920-1929\n",
      "\tGUESS: model - LOO_1898_Milota_(in_Spisy_Adolfa_Heyduka,_svazek_7).xml_model_n-1,2.m-LinearSVC.joblib, guessed time period - 1920-1929\n",
      "\tGUESS: model - LOO_1898_Milota_(in_Spisy_Adolfa_Heyduka,_svazek_7).xml_model_n-1,2.m-LinearSVC.joblib, guessed time period - 1880-1889\n",
      "\tGUESS: model - LOO_1898_Milota_(in_Spisy_Adolfa_Heyduka,_svazek_7).xml_model_n-1,2.m-LinearSVC.joblib, guessed time period - 1900-1909\n",
      "\tGUESS: model - LOO_1898_Milota_(in_Spisy_Adolfa_Heyduka,_svazek_7).xml_model_n-1,2.m-LinearSVC.joblib, guessed time period - 1890-1899\n",
      "\tGUESS: model - LOO_1898_Milota_(in_Spisy_Adolfa_Heyduka,_svazek_7).xml_model_n-1,2.m-LinearSVC.joblib, guessed time period - 1870-1879\n",
      "\tGUESS: model - LOO_1898_Milota_(in_Spisy_Adolfa_Heyduka,_svazek_7).xml_model_n-1,2.m-LinearSVC.joblib, guessed time period - 1870-1879\n",
      "\tGUESS: model - LOO_1898_Milota_(in_Spisy_Adolfa_Heyduka,_svazek_7).xml_model_n-1,2.m-LinearSVC.joblib, guessed time period - 1870-1879\n",
      "\tGUESS: model - LOO_1898_Milota_(in_Spisy_Adolfa_Heyduka,_svazek_7).xml_model_n-1,2.m-LinearSVC.joblib, guessed time period - 1920-1929\n",
      "\tGUESS: model - LOO_1898_Milota_(in_Spisy_Adolfa_Heyduka,_svazek_7).xml_model_n-1,2.m-LinearSVC.joblib, guessed time period - 1900-1909\n",
      "\tGUESS: model - LOO_1898_Milota_(in_Spisy_Adolfa_Heyduka,_svazek_7).xml_model_n-1,2.m-LinearSVC.joblib, guessed time period - 1880-1889\n",
      "\tGUESS: model - LOO_1898_Milota_(in_Spisy_Adolfa_Heyduka,_svazek_7).xml_model_n-1,2.m-LinearSVC.joblib, guessed time period - 1870-1879\n",
      "\tGUESS: model - LOO_1898_Milota_(in_Spisy_Adolfa_Heyduka,_svazek_7).xml_model_n-1,2.m-LinearSVC.joblib, guessed time period - 1900-1909\n",
      "\tGUESS: model - LOO_1898_Milota_(in_Spisy_Adolfa_Heyduka,_svazek_7).xml_model_n-1,2.m-LinearSVC.joblib, guessed time period - 1920-1929\n",
      "\tGUESS: model - LOO_1898_Milota_(in_Spisy_Adolfa_Heyduka,_svazek_7).xml_model_n-1,2.m-LinearSVC.joblib, guessed time period - 1880-1889\n",
      "\tGUESS: model - LOO_1898_Milota_(in_Spisy_Adolfa_Heyduka,_svazek_7).xml_model_n-1,2.m-LinearSVC.joblib, guessed time period - 1880-1889\n",
      "\tGUESS: model - LOO_1898_Milota_(in_Spisy_Adolfa_Heyduka,_svazek_7).xml_model_n-1,2.m-LinearSVC.joblib, guessed time period - 1880-1889\n",
      "\tGUESS: model - LOO_1898_Milota_(in_Spisy_Adolfa_Heyduka,_svazek_7).xml_model_n-1,2.m-LinearSVC.joblib, guessed time period - 1880-1889\n",
      "\tGUESS: model - LOO_1898_Milota_(in_Spisy_Adolfa_Heyduka,_svazek_7).xml_model_n-1,2.m-LinearSVC.joblib, guessed time period - 1880-1889\n",
      "\tGUESS: model - LOO_1898_Milota_(in_Spisy_Adolfa_Heyduka,_svazek_7).xml_model_n-1,2.m-LinearSVC.joblib, guessed time period - 1900-1909\n",
      "\tGUESS: model - LOO_1898_Milota_(in_Spisy_Adolfa_Heyduka,_svazek_7).xml_model_n-1,2.m-LinearSVC.joblib, guessed time period - 1900-1909\n",
      "\tGUESS: model - LOO_1898_Milota_(in_Spisy_Adolfa_Heyduka,_svazek_7).xml_model_n-1,2.m-LinearSVC.joblib, guessed time period - 1900-1909\n",
      "\tGUESS: model - LOO_1898_Milota_(in_Spisy_Adolfa_Heyduka,_svazek_7).xml_model_n-1,2.m-LinearSVC.joblib, guessed time period - 1900-1909\n",
      "\tGUESS: model - LOO_1898_Milota_(in_Spisy_Adolfa_Heyduka,_svazek_7).xml_model_n-1,2.m-LinearSVC.joblib, guessed time period - 1870-1879\n",
      "\tGUESS: model - LOO_1898_Milota_(in_Spisy_Adolfa_Heyduka,_svazek_7).xml_model_n-1,2.m-LinearSVC.joblib, guessed time period - 1880-1889\n",
      "\tGUESS: model - LOO_1898_Milota_(in_Spisy_Adolfa_Heyduka,_svazek_7).xml_model_n-1,2.m-LinearSVC.joblib, guessed time period - 1880-1889\n",
      "\tGUESS: model - LOO_1898_Milota_(in_Spisy_Adolfa_Heyduka,_svazek_7).xml_model_n-1,2.m-LinearSVC.joblib, guessed time period - 1870-1879\n",
      "\tGUESS: model - LOO_1898_Milota_(in_Spisy_Adolfa_Heyduka,_svazek_7).xml_model_n-1,2.m-LinearSVC.joblib, guessed time period - 1900-1909\n",
      "\tGUESS: model - LOO_1898_Milota_(in_Spisy_Adolfa_Heyduka,_svazek_7).xml_model_n-1,2.m-LinearSVC.joblib, guessed time period - 1890-1899\n",
      "\tGUESS: model - LOO_1898_Milota_(in_Spisy_Adolfa_Heyduka,_svazek_7).xml_model_n-1,2.m-LinearSVC.joblib, guessed time period - 1890-1899\n",
      "\tGUESS: model - LOO_1898_Milota_(in_Spisy_Adolfa_Heyduka,_svazek_7).xml_model_n-1,2.m-LinearSVC.joblib, guessed time period - 1900-1909\n",
      "\tGUESS: model - LOO_1898_Milota_(in_Spisy_Adolfa_Heyduka,_svazek_7).xml_model_n-1,2.m-LinearSVC.joblib, guessed time period - 1900-1909\n",
      "\tGUESS: model - LOO_1898_Milota_(in_Spisy_Adolfa_Heyduka,_svazek_7).xml_model_n-1,2.m-LinearSVC.joblib, guessed time period - 1900-1909\n",
      "\tGUESS: model - LOO_1898_Milota_(in_Spisy_Adolfa_Heyduka,_svazek_7).xml_model_n-1,2.m-LinearSVC.joblib, guessed time period - 1900-1909\n",
      "\tGUESS: model - LOO_1898_Milota_(in_Spisy_Adolfa_Heyduka,_svazek_7).xml_model_n-1,2.m-LinearSVC.joblib, guessed time period - 1900-1909\n",
      "\tGUESS: model - LOO_1898_Milota_(in_Spisy_Adolfa_Heyduka,_svazek_7).xml_model_n-1,2.m-LinearSVC.joblib, guessed time period - 1880-1889\n",
      "\tGUESS: model - LOO_1898_Milota_(in_Spisy_Adolfa_Heyduka,_svazek_7).xml_model_n-1,2.m-LinearSVC.joblib, guessed time period - 1870-1879\n",
      "\tGUESS: model - LOO_1898_Milota_(in_Spisy_Adolfa_Heyduka,_svazek_7).xml_model_n-1,2.m-LinearSVC.joblib, guessed time period - 1870-1879\n",
      "\tGUESS: model - LOO_1898_Milota_(in_Spisy_Adolfa_Heyduka,_svazek_7).xml_model_n-1,2.m-LinearSVC.joblib, guessed time period - 1900-1909\n",
      "\tGUESS: model - LOO_1898_Milota_(in_Spisy_Adolfa_Heyduka,_svazek_7).xml_model_n-1,2.m-LinearSVC.joblib, guessed time period - 1880-1889\n",
      "\tGUESS: model - LOO_1898_Milota_(in_Spisy_Adolfa_Heyduka,_svazek_7).xml_model_n-1,2.m-LinearSVC.joblib, guessed time period - 1920-1929\n",
      "\tGUESS: model - LOO_1898_Milota_(in_Spisy_Adolfa_Heyduka,_svazek_7).xml_model_n-1,2.m-LinearSVC.joblib, guessed time period - 1910-1919\n",
      "\tGUESS: model - LOO_1898_Milota_(in_Spisy_Adolfa_Heyduka,_svazek_7).xml_model_n-1,2.m-LinearSVC.joblib, guessed time period - 1900-1909\n",
      "\tGUESS: model - LOO_1898_Milota_(in_Spisy_Adolfa_Heyduka,_svazek_7).xml_model_n-1,2.m-LinearSVC.joblib, guessed time period - 1920-1929\n",
      "\tGUESS: model - LOO_1898_Milota_(in_Spisy_Adolfa_Heyduka,_svazek_7).xml_model_n-1,2.m-LinearSVC.joblib, guessed time period - 1920-1929\n",
      "\tGUESS: model - LOO_1898_Milota_(in_Spisy_Adolfa_Heyduka,_svazek_7).xml_model_n-1,2.m-LinearSVC.joblib, guessed time period - 1870-1879\n",
      "\tGUESS: model - LOO_1898_Milota_(in_Spisy_Adolfa_Heyduka,_svazek_7).xml_model_n-1,2.m-LinearSVC.joblib, guessed time period - 1870-1879\n",
      "\tGUESS: model - LOO_1898_Milota_(in_Spisy_Adolfa_Heyduka,_svazek_7).xml_model_n-1,2.m-LinearSVC.joblib, guessed time period - 1870-1879\n",
      "\tGUESS: model - LOO_1898_Milota_(in_Spisy_Adolfa_Heyduka,_svazek_7).xml_model_n-1,2.m-LinearSVC.joblib, guessed time period - 1870-1879\n",
      "\tGUESS: model - LOO_1898_Milota_(in_Spisy_Adolfa_Heyduka,_svazek_7).xml_model_n-1,2.m-LinearSVC.joblib, guessed time period - 1920-1929\n",
      "\tGUESS: model - LOO_1898_Milota_(in_Spisy_Adolfa_Heyduka,_svazek_7).xml_model_n-1,2.m-LinearSVC.joblib, guessed time period - 1900-1909\n",
      "\tGUESS: model - LOO_1898_Milota_(in_Spisy_Adolfa_Heyduka,_svazek_7).xml_model_n-1,2.m-LinearSVC.joblib, guessed time period - 1920-1929\n",
      "\tGUESS: model - LOO_1898_Milota_(in_Spisy_Adolfa_Heyduka,_svazek_7).xml_model_n-1,2.m-LinearSVC.joblib, guessed time period - 1880-1889\n",
      "\tGUESS: model - LOO_1898_Milota_(in_Spisy_Adolfa_Heyduka,_svazek_7).xml_model_n-1,2.m-LinearSVC.joblib, guessed time period - 1880-1889\n",
      "\tGUESS: model - LOO_1898_Milota_(in_Spisy_Adolfa_Heyduka,_svazek_7).xml_model_n-1,2.m-LinearSVC.joblib, guessed time period - 1880-1889\n",
      "\tGUESS: model - LOO_1898_Milota_(in_Spisy_Adolfa_Heyduka,_svazek_7).xml_model_n-1,2.m-LinearSVC.joblib, guessed time period - 1900-1909\n",
      "\tGUESS: model - LOO_1898_Milota_(in_Spisy_Adolfa_Heyduka,_svazek_7).xml_model_n-1,2.m-LinearSVC.joblib, guessed time period - 1900-1909\n",
      "1898_Milota_(in_Spisy_Adolfa_Heyduka,_svazek_7).xml Score: {'correct': 8, 'incorrect': 97} Evaluation score: 0.0761904761904762\n",
      "Evaluating model on 1898_Tri_zkazky_(in_Spisy_Adolfa_Heyduka,_svazek_5).xml\n",
      "\tGUESS: model - LOO_1898_Tri_zkazky_(in_Spisy_Adolfa_Heyduka,_svazek_5).xml_model_n-1,2.m-LinearSVC.joblib, guessed time period - 1880-1889\n",
      "\tGUESS: model - LOO_1898_Tri_zkazky_(in_Spisy_Adolfa_Heyduka,_svazek_5).xml_model_n-1,2.m-LinearSVC.joblib, guessed time period - 1880-1889\n",
      "\tGUESS: model - LOO_1898_Tri_zkazky_(in_Spisy_Adolfa_Heyduka,_svazek_5).xml_model_n-1,2.m-LinearSVC.joblib, guessed time period - 1880-1889\n",
      "\tGUESS: model - LOO_1898_Tri_zkazky_(in_Spisy_Adolfa_Heyduka,_svazek_5).xml_model_n-1,2.m-LinearSVC.joblib, guessed time period - 1880-1889\n",
      "\tGUESS: model - LOO_1898_Tri_zkazky_(in_Spisy_Adolfa_Heyduka,_svazek_5).xml_model_n-1,2.m-LinearSVC.joblib, guessed time period - 1870-1879\n",
      "1898_Tri_zkazky_(in_Spisy_Adolfa_Heyduka,_svazek_5).xml Score: {'correct': 0, 'incorrect': 5} Evaluation score: 0.0\n",
      "Evaluating model on 1899_Dumy_a_dojmy_(in_Spisy_Adolfa_Heyduka,_svazek_13).xml\n",
      "\tGUESS: model - LOO_1899_Dumy_a_dojmy_(in_Spisy_Adolfa_Heyduka,_svazek_13).xml_model_n-1,2.m-LinearSVC.joblib, guessed time period - 1890-1899\n",
      "1899_Dumy_a_dojmy_(in_Spisy_Adolfa_Heyduka,_svazek_13).xml Score: {'correct': 1, 'incorrect': 0} Evaluation score: 1.0\n",
      "Evaluating model on 1899_Rosa_a_jini_(in_Spisy_Adolfa_Heyduka,_svazek_15).xml\n",
      "\tGUESS: model - LOO_1899_Rosa_a_jini_(in_Spisy_Adolfa_Heyduka,_svazek_15).xml_model_n-1,2.m-LinearSVC.joblib, guessed time period - 1870-1879\n",
      "1899_Rosa_a_jini_(in_Spisy_Adolfa_Heyduka,_svazek_15).xml Score: {'correct': 0, 'incorrect': 1} Evaluation score: 0.0\n",
      "Evaluating model on 1899_Za_dlouhych_veceru_(in_Spisy_Adolfa_Heyduka,_svazek_14).xml\n",
      "\tGUESS: model - LOO_1899_Za_dlouhych_veceru_(in_Spisy_Adolfa_Heyduka,_svazek_14).xml_model_n-1,2.m-LinearSVC.joblib, guessed time period - 1890-1899\n",
      "\tGUESS: model - LOO_1899_Za_dlouhych_veceru_(in_Spisy_Adolfa_Heyduka,_svazek_14).xml_model_n-1,2.m-LinearSVC.joblib, guessed time period - 1890-1899\n",
      "\tGUESS: model - LOO_1899_Za_dlouhych_veceru_(in_Spisy_Adolfa_Heyduka,_svazek_14).xml_model_n-1,2.m-LinearSVC.joblib, guessed time period - 1890-1899\n",
      "\tGUESS: model - LOO_1899_Za_dlouhych_veceru_(in_Spisy_Adolfa_Heyduka,_svazek_14).xml_model_n-1,2.m-LinearSVC.joblib, guessed time period - 1890-1899\n",
      "\tGUESS: model - LOO_1899_Za_dlouhych_veceru_(in_Spisy_Adolfa_Heyduka,_svazek_14).xml_model_n-1,2.m-LinearSVC.joblib, guessed time period - 1890-1899\n",
      "\tGUESS: model - LOO_1899_Za_dlouhych_veceru_(in_Spisy_Adolfa_Heyduka,_svazek_14).xml_model_n-1,2.m-LinearSVC.joblib, guessed time period - 1910-1919\n",
      "\tGUESS: model - LOO_1899_Za_dlouhych_veceru_(in_Spisy_Adolfa_Heyduka,_svazek_14).xml_model_n-1,2.m-LinearSVC.joblib, guessed time period - 1910-1919\n",
      "1899_Za_dlouhych_veceru_(in_Spisy_Adolfa_Heyduka,_svazek_14).xml Score: {'correct': 5, 'incorrect': 2} Evaluation score: 0.7142857142857143\n",
      "Evaluating model on 1899_Zpevy_posumavskeho_dudaka_1_(in_Spisy_Adolfa_Heyduka,_svazek_10).xml\n",
      "\tGUESS: model - LOO_1899_Zpevy_posumavskeho_dudaka_1_(in_Spisy_Adolfa_Heyduka,_svazek_10).xml_model_n-1,2.m-LinearSVC.joblib, guessed time period - 1880-1889\n",
      "\tGUESS: model - LOO_1899_Zpevy_posumavskeho_dudaka_1_(in_Spisy_Adolfa_Heyduka,_svazek_10).xml_model_n-1,2.m-LinearSVC.joblib, guessed time period - 1880-1889\n",
      "\tGUESS: model - LOO_1899_Zpevy_posumavskeho_dudaka_1_(in_Spisy_Adolfa_Heyduka,_svazek_10).xml_model_n-1,2.m-LinearSVC.joblib, guessed time period - 1880-1889\n",
      "\tGUESS: model - LOO_1899_Zpevy_posumavskeho_dudaka_1_(in_Spisy_Adolfa_Heyduka,_svazek_10).xml_model_n-1,2.m-LinearSVC.joblib, guessed time period - 1880-1889\n",
      "\tGUESS: model - LOO_1899_Zpevy_posumavskeho_dudaka_1_(in_Spisy_Adolfa_Heyduka,_svazek_10).xml_model_n-1,2.m-LinearSVC.joblib, guessed time period - 1900-1909\n",
      "\tGUESS: model - LOO_1899_Zpevy_posumavskeho_dudaka_1_(in_Spisy_Adolfa_Heyduka,_svazek_10).xml_model_n-1,2.m-LinearSVC.joblib, guessed time period - 1900-1909\n",
      "\tGUESS: model - LOO_1899_Zpevy_posumavskeho_dudaka_1_(in_Spisy_Adolfa_Heyduka,_svazek_10).xml_model_n-1,2.m-LinearSVC.joblib, guessed time period - 1900-1909\n",
      "\tGUESS: model - LOO_1899_Zpevy_posumavskeho_dudaka_1_(in_Spisy_Adolfa_Heyduka,_svazek_10).xml_model_n-1,2.m-LinearSVC.joblib, guessed time period - 1900-1909\n",
      "1899_Zpevy_posumavskeho_dudaka_1_(in_Spisy_Adolfa_Heyduka,_svazek_10).xml Score: {'correct': 0, 'incorrect': 8} Evaluation score: 0.0\n",
      "Evaluating model on 1899_Zpevy_posumavskeho_dudaka_2_(in_Spisy_Adolfa_Heyduka_11).xml\n",
      "\tGUESS: model - LOO_1899_Zpevy_posumavskeho_dudaka_2_(in_Spisy_Adolfa_Heyduka_11).xml_model_n-1,2.m-LinearSVC.joblib, guessed time period - 1880-1889\n",
      "\tGUESS: model - LOO_1899_Zpevy_posumavskeho_dudaka_2_(in_Spisy_Adolfa_Heyduka_11).xml_model_n-1,2.m-LinearSVC.joblib, guessed time period - 1890-1899\n",
      "\tGUESS: model - LOO_1899_Zpevy_posumavskeho_dudaka_2_(in_Spisy_Adolfa_Heyduka_11).xml_model_n-1,2.m-LinearSVC.joblib, guessed time period - 1900-1909\n",
      "1899_Zpevy_posumavskeho_dudaka_2_(in_Spisy_Adolfa_Heyduka_11).xml Score: {'correct': 1, 'incorrect': 2} Evaluation score: 0.3333333333333333\n",
      "Evaluating model on 1899_Zpevy_posumavskeho_dudaka_3_(in_Spisy_Adolfa_Heyduka,_svazek_12).xml\n",
      "\tGUESS: model - LOO_1899_Zpevy_posumavskeho_dudaka_3_(in_Spisy_Adolfa_Heyduka,_svazek_12).xml_model_n-1,2.m-LinearSVC.joblib, guessed time period - 1900-1909\n",
      "\tGUESS: model - LOO_1899_Zpevy_posumavskeho_dudaka_3_(in_Spisy_Adolfa_Heyduka,_svazek_12).xml_model_n-1,2.m-LinearSVC.joblib, guessed time period - 1900-1909\n",
      "\tGUESS: model - LOO_1899_Zpevy_posumavskeho_dudaka_3_(in_Spisy_Adolfa_Heyduka,_svazek_12).xml_model_n-1,2.m-LinearSVC.joblib, guessed time period - 1900-1909\n",
      "\tGUESS: model - LOO_1899_Zpevy_posumavskeho_dudaka_3_(in_Spisy_Adolfa_Heyduka,_svazek_12).xml_model_n-1,2.m-LinearSVC.joblib, guessed time period - 1890-1899\n",
      "\tGUESS: model - LOO_1899_Zpevy_posumavskeho_dudaka_3_(in_Spisy_Adolfa_Heyduka,_svazek_12).xml_model_n-1,2.m-LinearSVC.joblib, guessed time period - 1890-1899\n",
      "\tGUESS: model - LOO_1899_Zpevy_posumavskeho_dudaka_3_(in_Spisy_Adolfa_Heyduka,_svazek_12).xml_model_n-1,2.m-LinearSVC.joblib, guessed time period - 1880-1889\n",
      "\tGUESS: model - LOO_1899_Zpevy_posumavskeho_dudaka_3_(in_Spisy_Adolfa_Heyduka,_svazek_12).xml_model_n-1,2.m-LinearSVC.joblib, guessed time period - 1880-1889\n",
      "\tGUESS: model - LOO_1899_Zpevy_posumavskeho_dudaka_3_(in_Spisy_Adolfa_Heyduka,_svazek_12).xml_model_n-1,2.m-LinearSVC.joblib, guessed time period - 1890-1899\n",
      "\tGUESS: model - LOO_1899_Zpevy_posumavskeho_dudaka_3_(in_Spisy_Adolfa_Heyduka,_svazek_12).xml_model_n-1,2.m-LinearSVC.joblib, guessed time period - 1890-1899\n",
      "\tGUESS: model - LOO_1899_Zpevy_posumavskeho_dudaka_3_(in_Spisy_Adolfa_Heyduka,_svazek_12).xml_model_n-1,2.m-LinearSVC.joblib, guessed time period - 1900-1909\n",
      "\tGUESS: model - LOO_1899_Zpevy_posumavskeho_dudaka_3_(in_Spisy_Adolfa_Heyduka,_svazek_12).xml_model_n-1,2.m-LinearSVC.joblib, guessed time period - 1870-1879\n",
      "\tGUESS: model - LOO_1899_Zpevy_posumavskeho_dudaka_3_(in_Spisy_Adolfa_Heyduka,_svazek_12).xml_model_n-1,2.m-LinearSVC.joblib, guessed time period - 1920-1929\n",
      "\tGUESS: model - LOO_1899_Zpevy_posumavskeho_dudaka_3_(in_Spisy_Adolfa_Heyduka,_svazek_12).xml_model_n-1,2.m-LinearSVC.joblib, guessed time period - 1900-1909\n",
      "\tGUESS: model - LOO_1899_Zpevy_posumavskeho_dudaka_3_(in_Spisy_Adolfa_Heyduka,_svazek_12).xml_model_n-1,2.m-LinearSVC.joblib, guessed time period - 1900-1909\n",
      "\tGUESS: model - LOO_1899_Zpevy_posumavskeho_dudaka_3_(in_Spisy_Adolfa_Heyduka,_svazek_12).xml_model_n-1,2.m-LinearSVC.joblib, guessed time period - 1900-1909\n",
      "\tGUESS: model - LOO_1899_Zpevy_posumavskeho_dudaka_3_(in_Spisy_Adolfa_Heyduka,_svazek_12).xml_model_n-1,2.m-LinearSVC.joblib, guessed time period - 1880-1889\n",
      "1899_Zpevy_posumavskeho_dudaka_3_(in_Spisy_Adolfa_Heyduka,_svazek_12).xml Score: {'correct': 4, 'incorrect': 12} Evaluation score: 0.25\n",
      "Evaluating model on 1900_Cerne_ruze_(in_Spisy_Adolfa_Heyduka,_svazek_21).xml\n",
      "\tGUESS: model - LOO_1900_Cerne_ruze_(in_Spisy_Adolfa_Heyduka,_svazek_21).xml_model_n-1,2.m-LinearSVC.joblib, guessed time period - 1880-1889\n",
      "\tGUESS: model - LOO_1900_Cerne_ruze_(in_Spisy_Adolfa_Heyduka,_svazek_21).xml_model_n-1,2.m-LinearSVC.joblib, guessed time period - 1880-1889\n",
      "1900_Cerne_ruze_(in_Spisy_Adolfa_Heyduka,_svazek_21).xml Score: {'correct': 0, 'incorrect': 2} Evaluation score: 0.0\n",
      "Evaluating model on 1900_Na_cerne_hodince_(in_Spisy_Adolfa_Heyduka,_svazek_16).xml\n",
      "\tGUESS: model - LOO_1900_Na_cerne_hodince_(in_Spisy_Adolfa_Heyduka,_svazek_16).xml_model_n-1,2.m-LinearSVC.joblib, guessed time period - 1890-1899\n",
      "\tGUESS: model - LOO_1900_Na_cerne_hodince_(in_Spisy_Adolfa_Heyduka,_svazek_16).xml_model_n-1,2.m-LinearSVC.joblib, guessed time period - 1890-1899\n",
      "1900_Na_cerne_hodince_(in_Spisy_Adolfa_Heyduka,_svazek_16).xml Score: {'correct': 0, 'incorrect': 2} Evaluation score: 0.0\n",
      "Evaluating model on 1900_Parnasie_(in_Spisy_Adolfa_Heyduka,_svazek_17).xml\n",
      "\tGUESS: model - LOO_1900_Parnasie_(in_Spisy_Adolfa_Heyduka,_svazek_17).xml_model_n-1,2.m-LinearSVC.joblib, guessed time period - 1890-1899\n",
      "\tGUESS: model - LOO_1900_Parnasie_(in_Spisy_Adolfa_Heyduka,_svazek_17).xml_model_n-1,2.m-LinearSVC.joblib, guessed time period - 1900-1909\n",
      "\tGUESS: model - LOO_1900_Parnasie_(in_Spisy_Adolfa_Heyduka,_svazek_17).xml_model_n-1,2.m-LinearSVC.joblib, guessed time period - 1920-1929\n",
      "\tGUESS: model - LOO_1900_Parnasie_(in_Spisy_Adolfa_Heyduka,_svazek_17).xml_model_n-1,2.m-LinearSVC.joblib, guessed time period - 1880-1889\n",
      "\tGUESS: model - LOO_1900_Parnasie_(in_Spisy_Adolfa_Heyduka,_svazek_17).xml_model_n-1,2.m-LinearSVC.joblib, guessed time period - 1880-1889\n",
      "\tGUESS: model - LOO_1900_Parnasie_(in_Spisy_Adolfa_Heyduka,_svazek_17).xml_model_n-1,2.m-LinearSVC.joblib, guessed time period - 1890-1899\n",
      "1900_Parnasie_(in_Spisy_Adolfa_Heyduka,_svazek_17).xml Score: {'correct': 1, 'incorrect': 5} Evaluation score: 0.16666666666666666\n",
      "Evaluating model on 1900_V_polich_(in_Spisy_Adolfa_Heyduka,_svazek_19).xml\n",
      "\tGUESS: model - LOO_1900_V_polich_(in_Spisy_Adolfa_Heyduka,_svazek_19).xml_model_n-1,2.m-LinearSVC.joblib, guessed time period - 1870-1879\n",
      "\tGUESS: model - LOO_1900_V_polich_(in_Spisy_Adolfa_Heyduka,_svazek_19).xml_model_n-1,2.m-LinearSVC.joblib, guessed time period - 1870-1879\n",
      "1900_V_polich_(in_Spisy_Adolfa_Heyduka,_svazek_19).xml Score: {'correct': 0, 'incorrect': 2} Evaluation score: 0.0\n",
      "Evaluating model on 1900_V_zaseru_minulosti_(in_Spisy_Adolfa_Heyduka,_svazek_18).xml\n",
      "\tGUESS: model - LOO_1900_V_zaseru_minulosti_(in_Spisy_Adolfa_Heyduka,_svazek_18).xml_model_n-1,2.m-LinearSVC.joblib, guessed time period - 1870-1879\n",
      "\tGUESS: model - LOO_1900_V_zaseru_minulosti_(in_Spisy_Adolfa_Heyduka,_svazek_18).xml_model_n-1,2.m-LinearSVC.joblib, guessed time period - 1870-1879\n",
      "\tGUESS: model - LOO_1900_V_zaseru_minulosti_(in_Spisy_Adolfa_Heyduka,_svazek_18).xml_model_n-1,2.m-LinearSVC.joblib, guessed time period - 1870-1879\n",
      "\tGUESS: model - LOO_1900_V_zaseru_minulosti_(in_Spisy_Adolfa_Heyduka,_svazek_18).xml_model_n-1,2.m-LinearSVC.joblib, guessed time period - 1870-1879\n",
      "\tGUESS: model - LOO_1900_V_zaseru_minulosti_(in_Spisy_Adolfa_Heyduka,_svazek_18).xml_model_n-1,2.m-LinearSVC.joblib, guessed time period - 1870-1879\n",
      "\tGUESS: model - LOO_1900_V_zaseru_minulosti_(in_Spisy_Adolfa_Heyduka,_svazek_18).xml_model_n-1,2.m-LinearSVC.joblib, guessed time period - 1880-1889\n",
      "1900_V_zaseru_minulosti_(in_Spisy_Adolfa_Heyduka,_svazek_18).xml Score: {'correct': 0, 'incorrect': 6} Evaluation score: 0.0\n",
      "Evaluating model on 1901_Lotysske_motivy_(in_Spisy_Adolfa_Heyduka,_svazek_23).xml\n",
      "\tGUESS: model - LOO_1901_Lotysske_motivy_(in_Spisy_Adolfa_Heyduka,_svazek_23).xml_model_n-1,2.m-LinearSVC.joblib, guessed time period - 1900-1909\n",
      "1901_Lotysske_motivy_(in_Spisy_Adolfa_Heyduka,_svazek_23).xml Score: {'correct': 1, 'incorrect': 0} Evaluation score: 1.0\n",
      "Evaluating model on 1901_Pohadky_duse_(in_Spisy_Adolfa_Heyduka,_svazek_25).xml\n",
      "\tGUESS: model - LOO_1901_Pohadky_duse_(in_Spisy_Adolfa_Heyduka,_svazek_25).xml_model_n-1,2.m-LinearSVC.joblib, guessed time period - 1900-1909\n",
      "\tGUESS: model - LOO_1901_Pohadky_duse_(in_Spisy_Adolfa_Heyduka,_svazek_25).xml_model_n-1,2.m-LinearSVC.joblib, guessed time period - 1880-1889\n",
      "1901_Pohadky_duse_(in_Spisy_Adolfa_Heyduka,_svazek_25).xml Score: {'correct': 1, 'incorrect': 1} Evaluation score: 0.5\n",
      "Evaluating model on 1901_V_samotach_(in_Spisy_Adolfa_Heyduka,_svazek_26).xml\n",
      "\tGUESS: model - LOO_1901_V_samotach_(in_Spisy_Adolfa_Heyduka,_svazek_26).xml_model_n-1,2.m-LinearSVC.joblib, guessed time period - 1880-1889\n",
      "\tGUESS: model - LOO_1901_V_samotach_(in_Spisy_Adolfa_Heyduka,_svazek_26).xml_model_n-1,2.m-LinearSVC.joblib, guessed time period - 1880-1889\n",
      "\tGUESS: model - LOO_1901_V_samotach_(in_Spisy_Adolfa_Heyduka,_svazek_26).xml_model_n-1,2.m-LinearSVC.joblib, guessed time period - 1900-1909\n",
      "1901_V_samotach_(in_Spisy_Adolfa_Heyduka,_svazek_26).xml Score: {'correct': 1, 'incorrect': 2} Evaluation score: 0.3333333333333333\n",
      "Evaluating model on 1901_Z_rodnych_hor_(in_Spisy_Adolfa_Heyduka,_svazek_24).xml\n",
      "\tGUESS: model - LOO_1901_Z_rodnych_hor_(in_Spisy_Adolfa_Heyduka,_svazek_24).xml_model_n-1,2.m-LinearSVC.joblib, guessed time period - 1870-1879\n",
      "\tGUESS: model - LOO_1901_Z_rodnych_hor_(in_Spisy_Adolfa_Heyduka,_svazek_24).xml_model_n-1,2.m-LinearSVC.joblib, guessed time period - 1890-1899\n",
      "1901_Z_rodnych_hor_(in_Spisy_Adolfa_Heyduka,_svazek_24).xml Score: {'correct': 0, 'incorrect': 2} Evaluation score: 0.0\n",
      "Evaluating model on 1902_Biblicke_zvesti_(in_Spisy_Adolfa_Heyduka,_svazek_31).xml\n",
      "\tGUESS: model - LOO_1902_Biblicke_zvesti_(in_Spisy_Adolfa_Heyduka,_svazek_31).xml_model_n-1,2.m-LinearSVC.joblib, guessed time period - 1890-1899\n",
      "\tGUESS: model - LOO_1902_Biblicke_zvesti_(in_Spisy_Adolfa_Heyduka,_svazek_31).xml_model_n-1,2.m-LinearSVC.joblib, guessed time period - 1900-1909\n",
      "\tGUESS: model - LOO_1902_Biblicke_zvesti_(in_Spisy_Adolfa_Heyduka,_svazek_31).xml_model_n-1,2.m-LinearSVC.joblib, guessed time period - 1910-1919\n",
      "\tGUESS: model - LOO_1902_Biblicke_zvesti_(in_Spisy_Adolfa_Heyduka,_svazek_31).xml_model_n-1,2.m-LinearSVC.joblib, guessed time period - 1870-1879\n",
      "\tGUESS: model - LOO_1902_Biblicke_zvesti_(in_Spisy_Adolfa_Heyduka,_svazek_31).xml_model_n-1,2.m-LinearSVC.joblib, guessed time period - 1870-1879\n",
      "\tGUESS: model - LOO_1902_Biblicke_zvesti_(in_Spisy_Adolfa_Heyduka,_svazek_31).xml_model_n-1,2.m-LinearSVC.joblib, guessed time period - 1870-1879\n",
      "\tGUESS: model - LOO_1902_Biblicke_zvesti_(in_Spisy_Adolfa_Heyduka,_svazek_31).xml_model_n-1,2.m-LinearSVC.joblib, guessed time period - 1900-1909\n",
      "\tGUESS: model - LOO_1902_Biblicke_zvesti_(in_Spisy_Adolfa_Heyduka,_svazek_31).xml_model_n-1,2.m-LinearSVC.joblib, guessed time period - 1880-1889\n",
      "\tGUESS: model - LOO_1902_Biblicke_zvesti_(in_Spisy_Adolfa_Heyduka,_svazek_31).xml_model_n-1,2.m-LinearSVC.joblib, guessed time period - 1880-1889\n",
      "\tGUESS: model - LOO_1902_Biblicke_zvesti_(in_Spisy_Adolfa_Heyduka,_svazek_31).xml_model_n-1,2.m-LinearSVC.joblib, guessed time period - 1900-1909\n",
      "\tGUESS: model - LOO_1902_Biblicke_zvesti_(in_Spisy_Adolfa_Heyduka,_svazek_31).xml_model_n-1,2.m-LinearSVC.joblib, guessed time period - 1870-1879\n",
      "\tGUESS: model - LOO_1902_Biblicke_zvesti_(in_Spisy_Adolfa_Heyduka,_svazek_31).xml_model_n-1,2.m-LinearSVC.joblib, guessed time period - 1910-1919\n",
      "\tGUESS: model - LOO_1902_Biblicke_zvesti_(in_Spisy_Adolfa_Heyduka,_svazek_31).xml_model_n-1,2.m-LinearSVC.joblib, guessed time period - 1900-1909\n",
      "\tGUESS: model - LOO_1902_Biblicke_zvesti_(in_Spisy_Adolfa_Heyduka,_svazek_31).xml_model_n-1,2.m-LinearSVC.joblib, guessed time period - 1900-1909\n",
      "\tGUESS: model - LOO_1902_Biblicke_zvesti_(in_Spisy_Adolfa_Heyduka,_svazek_31).xml_model_n-1,2.m-LinearSVC.joblib, guessed time period - 1870-1879\n",
      "\tGUESS: model - LOO_1902_Biblicke_zvesti_(in_Spisy_Adolfa_Heyduka,_svazek_31).xml_model_n-1,2.m-LinearSVC.joblib, guessed time period - 1870-1879\n",
      "\tGUESS: model - LOO_1902_Biblicke_zvesti_(in_Spisy_Adolfa_Heyduka,_svazek_31).xml_model_n-1,2.m-LinearSVC.joblib, guessed time period - 1900-1909\n",
      "\tGUESS: model - LOO_1902_Biblicke_zvesti_(in_Spisy_Adolfa_Heyduka,_svazek_31).xml_model_n-1,2.m-LinearSVC.joblib, guessed time period - 1900-1909\n",
      "\tGUESS: model - LOO_1902_Biblicke_zvesti_(in_Spisy_Adolfa_Heyduka,_svazek_31).xml_model_n-1,2.m-LinearSVC.joblib, guessed time period - 1920-1929\n",
      "\tGUESS: model - LOO_1902_Biblicke_zvesti_(in_Spisy_Adolfa_Heyduka,_svazek_31).xml_model_n-1,2.m-LinearSVC.joblib, guessed time period - 1870-1879\n",
      "\tGUESS: model - LOO_1902_Biblicke_zvesti_(in_Spisy_Adolfa_Heyduka,_svazek_31).xml_model_n-1,2.m-LinearSVC.joblib, guessed time period - 1920-1929\n",
      "\tGUESS: model - LOO_1902_Biblicke_zvesti_(in_Spisy_Adolfa_Heyduka,_svazek_31).xml_model_n-1,2.m-LinearSVC.joblib, guessed time period - 1870-1879\n",
      "\tGUESS: model - LOO_1902_Biblicke_zvesti_(in_Spisy_Adolfa_Heyduka,_svazek_31).xml_model_n-1,2.m-LinearSVC.joblib, guessed time period - 1880-1889\n",
      "\tGUESS: model - LOO_1902_Biblicke_zvesti_(in_Spisy_Adolfa_Heyduka,_svazek_31).xml_model_n-1,2.m-LinearSVC.joblib, guessed time period - 1900-1909\n",
      "\tGUESS: model - LOO_1902_Biblicke_zvesti_(in_Spisy_Adolfa_Heyduka,_svazek_31).xml_model_n-1,2.m-LinearSVC.joblib, guessed time period - 1900-1909\n",
      "1902_Biblicke_zvesti_(in_Spisy_Adolfa_Heyduka,_svazek_31).xml Score: {'correct': 9, 'incorrect': 16} Evaluation score: 0.36\n",
      "Evaluating model on 1902_Ritornely_(in_Spisy_Adolfa_Heyduka,_svazek_29).xml\n",
      "\tGUESS: model - LOO_1902_Ritornely_(in_Spisy_Adolfa_Heyduka,_svazek_29).xml_model_n-1,2.m-LinearSVC.joblib, guessed time period - 1880-1889\n",
      "1902_Ritornely_(in_Spisy_Adolfa_Heyduka,_svazek_29).xml Score: {'correct': 0, 'incorrect': 1} Evaluation score: 0.0\n",
      "Evaluating model on 1902_Z_pouti_na_Kavkaz_(in_Spisy_Adolfa_Heyduka,_svazek_30).xml\n",
      "\tGUESS: model - LOO_1902_Z_pouti_na_Kavkaz_(in_Spisy_Adolfa_Heyduka,_svazek_30).xml_model_n-1,2.m-LinearSVC.joblib, guessed time period - 1920-1929\n",
      "\tGUESS: model - LOO_1902_Z_pouti_na_Kavkaz_(in_Spisy_Adolfa_Heyduka,_svazek_30).xml_model_n-1,2.m-LinearSVC.joblib, guessed time period - 1880-1889\n",
      "\tGUESS: model - LOO_1902_Z_pouti_na_Kavkaz_(in_Spisy_Adolfa_Heyduka,_svazek_30).xml_model_n-1,2.m-LinearSVC.joblib, guessed time period - 1880-1889\n",
      "\tGUESS: model - LOO_1902_Z_pouti_na_Kavkaz_(in_Spisy_Adolfa_Heyduka,_svazek_30).xml_model_n-1,2.m-LinearSVC.joblib, guessed time period - 1900-1909\n",
      "\tGUESS: model - LOO_1902_Z_pouti_na_Kavkaz_(in_Spisy_Adolfa_Heyduka,_svazek_30).xml_model_n-1,2.m-LinearSVC.joblib, guessed time period - 1910-1919\n",
      "1902_Z_pouti_na_Kavkaz_(in_Spisy_Adolfa_Heyduka,_svazek_30).xml Score: {'correct': 1, 'incorrect': 4} Evaluation score: 0.2\n",
      "Evaluating model on 1903_Cestou_(in_Spisy_Adolfa_Heyduka,_svazek_34).xml\n",
      "\tGUESS: model - LOO_1903_Cestou_(in_Spisy_Adolfa_Heyduka,_svazek_34).xml_model_n-1,2.m-LinearSVC.joblib, guessed time period - 1880-1889\n",
      "\tGUESS: model - LOO_1903_Cestou_(in_Spisy_Adolfa_Heyduka,_svazek_34).xml_model_n-1,2.m-LinearSVC.joblib, guessed time period - 1880-1889\n",
      "1903_Cestou_(in_Spisy_Adolfa_Heyduka,_svazek_34).xml Score: {'correct': 0, 'incorrect': 2} Evaluation score: 0.0\n",
      "Evaluating model on 1904_Z_deniku_toulaveho_zpevaka_(in_Spisy_Adolfa_Heyduka,_svazek_36).xml\n",
      "\tGUESS: model - LOO_1904_Z_deniku_toulaveho_zpevaka_(in_Spisy_Adolfa_Heyduka,_svazek_36).xml_model_n-1,2.m-LinearSVC.joblib, guessed time period - 1920-1929\n",
      "\tGUESS: model - LOO_1904_Z_deniku_toulaveho_zpevaka_(in_Spisy_Adolfa_Heyduka,_svazek_36).xml_model_n-1,2.m-LinearSVC.joblib, guessed time period - 1920-1929\n",
      "\tGUESS: model - LOO_1904_Z_deniku_toulaveho_zpevaka_(in_Spisy_Adolfa_Heyduka,_svazek_36).xml_model_n-1,2.m-LinearSVC.joblib, guessed time period - 1920-1929\n",
      "1904_Z_deniku_toulaveho_zpevaka_(in_Spisy_Adolfa_Heyduka,_svazek_36).xml Score: {'correct': 0, 'incorrect': 3} Evaluation score: 0.0\n",
      "Evaluating model on 1905_Znelky_(in_Spisy_Adolfa_Heyduka,_svazek_40).xml\n",
      "\tGUESS: model - LOO_1905_Znelky_(in_Spisy_Adolfa_Heyduka,_svazek_40).xml_model_n-1,2.m-LinearSVC.joblib, guessed time period - 1900-1909\n",
      "1905_Znelky_(in_Spisy_Adolfa_Heyduka,_svazek_40).xml Score: {'correct': 1, 'incorrect': 0} Evaluation score: 1.0\n",
      "Evaluating model on 1906_Vychod_a_Zapad_(in_Spisy_Adolfa_Heyduka,_svazek_41).xml\n",
      "\tGUESS: model - LOO_1906_Vychod_a_Zapad_(in_Spisy_Adolfa_Heyduka,_svazek_41).xml_model_n-1,2.m-LinearSVC.joblib, guessed time period - 1890-1899\n",
      "\tGUESS: model - LOO_1906_Vychod_a_Zapad_(in_Spisy_Adolfa_Heyduka,_svazek_41).xml_model_n-1,2.m-LinearSVC.joblib, guessed time period - 1900-1909\n",
      "\tGUESS: model - LOO_1906_Vychod_a_Zapad_(in_Spisy_Adolfa_Heyduka,_svazek_41).xml_model_n-1,2.m-LinearSVC.joblib, guessed time period - 1900-1909\n",
      "\tGUESS: model - LOO_1906_Vychod_a_Zapad_(in_Spisy_Adolfa_Heyduka,_svazek_41).xml_model_n-1,2.m-LinearSVC.joblib, guessed time period - 1890-1899\n",
      "\tGUESS: model - LOO_1906_Vychod_a_Zapad_(in_Spisy_Adolfa_Heyduka,_svazek_41).xml_model_n-1,2.m-LinearSVC.joblib, guessed time period - 1890-1899\n",
      "\tGUESS: model - LOO_1906_Vychod_a_Zapad_(in_Spisy_Adolfa_Heyduka,_svazek_41).xml_model_n-1,2.m-LinearSVC.joblib, guessed time period - 1890-1899\n",
      "\tGUESS: model - LOO_1906_Vychod_a_Zapad_(in_Spisy_Adolfa_Heyduka,_svazek_41).xml_model_n-1,2.m-LinearSVC.joblib, guessed time period - 1870-1879\n",
      "\tGUESS: model - LOO_1906_Vychod_a_Zapad_(in_Spisy_Adolfa_Heyduka,_svazek_41).xml_model_n-1,2.m-LinearSVC.joblib, guessed time period - 1900-1909\n",
      "\tGUESS: model - LOO_1906_Vychod_a_Zapad_(in_Spisy_Adolfa_Heyduka,_svazek_41).xml_model_n-1,2.m-LinearSVC.joblib, guessed time period - 1900-1909\n",
      "\tGUESS: model - LOO_1906_Vychod_a_Zapad_(in_Spisy_Adolfa_Heyduka,_svazek_41).xml_model_n-1,2.m-LinearSVC.joblib, guessed time period - 1900-1909\n",
      "\tGUESS: model - LOO_1906_Vychod_a_Zapad_(in_Spisy_Adolfa_Heyduka,_svazek_41).xml_model_n-1,2.m-LinearSVC.joblib, guessed time period - 1900-1909\n",
      "\tGUESS: model - LOO_1906_Vychod_a_Zapad_(in_Spisy_Adolfa_Heyduka,_svazek_41).xml_model_n-1,2.m-LinearSVC.joblib, guessed time period - 1900-1909\n",
      "\tGUESS: model - LOO_1906_Vychod_a_Zapad_(in_Spisy_Adolfa_Heyduka,_svazek_41).xml_model_n-1,2.m-LinearSVC.joblib, guessed time period - 1900-1909\n",
      "\tGUESS: model - LOO_1906_Vychod_a_Zapad_(in_Spisy_Adolfa_Heyduka,_svazek_41).xml_model_n-1,2.m-LinearSVC.joblib, guessed time period - 1900-1909\n",
      "\tGUESS: model - LOO_1906_Vychod_a_Zapad_(in_Spisy_Adolfa_Heyduka,_svazek_41).xml_model_n-1,2.m-LinearSVC.joblib, guessed time period - 1870-1879\n",
      "\tGUESS: model - LOO_1906_Vychod_a_Zapad_(in_Spisy_Adolfa_Heyduka,_svazek_41).xml_model_n-1,2.m-LinearSVC.joblib, guessed time period - 1900-1909\n",
      "\tGUESS: model - LOO_1906_Vychod_a_Zapad_(in_Spisy_Adolfa_Heyduka,_svazek_41).xml_model_n-1,2.m-LinearSVC.joblib, guessed time period - 1900-1909\n",
      "\tGUESS: model - LOO_1906_Vychod_a_Zapad_(in_Spisy_Adolfa_Heyduka,_svazek_41).xml_model_n-1,2.m-LinearSVC.joblib, guessed time period - 1910-1919\n",
      "\tGUESS: model - LOO_1906_Vychod_a_Zapad_(in_Spisy_Adolfa_Heyduka,_svazek_41).xml_model_n-1,2.m-LinearSVC.joblib, guessed time period - 1910-1919\n",
      "\tGUESS: model - LOO_1906_Vychod_a_Zapad_(in_Spisy_Adolfa_Heyduka,_svazek_41).xml_model_n-1,2.m-LinearSVC.joblib, guessed time period - 1870-1879\n",
      "\tGUESS: model - LOO_1906_Vychod_a_Zapad_(in_Spisy_Adolfa_Heyduka,_svazek_41).xml_model_n-1,2.m-LinearSVC.joblib, guessed time period - 1900-1909\n",
      "\tGUESS: model - LOO_1906_Vychod_a_Zapad_(in_Spisy_Adolfa_Heyduka,_svazek_41).xml_model_n-1,2.m-LinearSVC.joblib, guessed time period - 1900-1909\n",
      "\tGUESS: model - LOO_1906_Vychod_a_Zapad_(in_Spisy_Adolfa_Heyduka,_svazek_41).xml_model_n-1,2.m-LinearSVC.joblib, guessed time period - 1890-1899\n",
      "\tGUESS: model - LOO_1906_Vychod_a_Zapad_(in_Spisy_Adolfa_Heyduka,_svazek_41).xml_model_n-1,2.m-LinearSVC.joblib, guessed time period - 1870-1879\n",
      "1906_Vychod_a_Zapad_(in_Spisy_Adolfa_Heyduka,_svazek_41).xml Score: {'correct': 13, 'incorrect': 11} Evaluation score: 0.5416666666666666\n",
      "Evaluating model on 1908_Apel_k_trunu_za_vrazdy_v_Cernove.xml\n",
      "\tGUESS: model - LOO_1908_Apel_k_trunu_za_vrazdy_v_Cernove.xml_model_n-1,2.m-LinearSVC.joblib, guessed time period - 1890-1899\n",
      "\tGUESS: model - LOO_1908_Apel_k_trunu_za_vrazdy_v_Cernove.xml_model_n-1,2.m-LinearSVC.joblib, guessed time period - 1880-1889\n",
      "\tGUESS: model - LOO_1908_Apel_k_trunu_za_vrazdy_v_Cernove.xml_model_n-1,2.m-LinearSVC.joblib, guessed time period - 1880-1889\n",
      "\tGUESS: model - LOO_1908_Apel_k_trunu_za_vrazdy_v_Cernove.xml_model_n-1,2.m-LinearSVC.joblib, guessed time period - 1900-1909\n",
      "\tGUESS: model - LOO_1908_Apel_k_trunu_za_vrazdy_v_Cernove.xml_model_n-1,2.m-LinearSVC.joblib, guessed time period - 1890-1899\n",
      "\tGUESS: model - LOO_1908_Apel_k_trunu_za_vrazdy_v_Cernove.xml_model_n-1,2.m-LinearSVC.joblib, guessed time period - 1890-1899\n",
      "\tGUESS: model - LOO_1908_Apel_k_trunu_za_vrazdy_v_Cernove.xml_model_n-1,2.m-LinearSVC.joblib, guessed time period - 1870-1879\n",
      "\tGUESS: model - LOO_1908_Apel_k_trunu_za_vrazdy_v_Cernove.xml_model_n-1,2.m-LinearSVC.joblib, guessed time period - 1870-1879\n",
      "\tGUESS: model - LOO_1908_Apel_k_trunu_za_vrazdy_v_Cernove.xml_model_n-1,2.m-LinearSVC.joblib, guessed time period - 1890-1899\n",
      "\tGUESS: model - LOO_1908_Apel_k_trunu_za_vrazdy_v_Cernove.xml_model_n-1,2.m-LinearSVC.joblib, guessed time period - 1880-1889\n",
      "\tGUESS: model - LOO_1908_Apel_k_trunu_za_vrazdy_v_Cernove.xml_model_n-1,2.m-LinearSVC.joblib, guessed time period - 1890-1899\n",
      "\tGUESS: model - LOO_1908_Apel_k_trunu_za_vrazdy_v_Cernove.xml_model_n-1,2.m-LinearSVC.joblib, guessed time period - 1910-1919\n",
      "\tGUESS: model - LOO_1908_Apel_k_trunu_za_vrazdy_v_Cernove.xml_model_n-1,2.m-LinearSVC.joblib, guessed time period - 1900-1909\n",
      "\tGUESS: model - LOO_1908_Apel_k_trunu_za_vrazdy_v_Cernove.xml_model_n-1,2.m-LinearSVC.joblib, guessed time period - 1900-1909\n",
      "\tGUESS: model - LOO_1908_Apel_k_trunu_za_vrazdy_v_Cernove.xml_model_n-1,2.m-LinearSVC.joblib, guessed time period - 1900-1909\n",
      "\tGUESS: model - LOO_1908_Apel_k_trunu_za_vrazdy_v_Cernove.xml_model_n-1,2.m-LinearSVC.joblib, guessed time period - 1870-1879\n",
      "\tGUESS: model - LOO_1908_Apel_k_trunu_za_vrazdy_v_Cernove.xml_model_n-1,2.m-LinearSVC.joblib, guessed time period - 1870-1879\n",
      "\tGUESS: model - LOO_1908_Apel_k_trunu_za_vrazdy_v_Cernove.xml_model_n-1,2.m-LinearSVC.joblib, guessed time period - 1880-1889\n",
      "\tGUESS: model - LOO_1908_Apel_k_trunu_za_vrazdy_v_Cernove.xml_model_n-1,2.m-LinearSVC.joblib, guessed time period - 1880-1889\n",
      "\tGUESS: model - LOO_1908_Apel_k_trunu_za_vrazdy_v_Cernove.xml_model_n-1,2.m-LinearSVC.joblib, guessed time period - 1880-1889\n",
      "\tGUESS: model - LOO_1908_Apel_k_trunu_za_vrazdy_v_Cernove.xml_model_n-1,2.m-LinearSVC.joblib, guessed time period - 1870-1879\n",
      "\tGUESS: model - LOO_1908_Apel_k_trunu_za_vrazdy_v_Cernove.xml_model_n-1,2.m-LinearSVC.joblib, guessed time period - 1900-1909\n",
      "\tGUESS: model - LOO_1908_Apel_k_trunu_za_vrazdy_v_Cernove.xml_model_n-1,2.m-LinearSVC.joblib, guessed time period - 1890-1899\n",
      "\tGUESS: model - LOO_1908_Apel_k_trunu_za_vrazdy_v_Cernove.xml_model_n-1,2.m-LinearSVC.joblib, guessed time period - 1870-1879\n",
      "\tGUESS: model - LOO_1908_Apel_k_trunu_za_vrazdy_v_Cernove.xml_model_n-1,2.m-LinearSVC.joblib, guessed time period - 1880-1889\n",
      "\tGUESS: model - LOO_1908_Apel_k_trunu_za_vrazdy_v_Cernove.xml_model_n-1,2.m-LinearSVC.joblib, guessed time period - 1910-1919\n",
      "\tGUESS: model - LOO_1908_Apel_k_trunu_za_vrazdy_v_Cernove.xml_model_n-1,2.m-LinearSVC.joblib, guessed time period - 1890-1899\n",
      "\tGUESS: model - LOO_1908_Apel_k_trunu_za_vrazdy_v_Cernove.xml_model_n-1,2.m-LinearSVC.joblib, guessed time period - 1910-1919\n",
      "1908_Apel_k_trunu_za_vrazdy_v_Cernove.xml Score: {'correct': 5, 'incorrect': 23} Evaluation score: 0.17857142857142858\n",
      "Evaluating model on 1908_Sekernik_1_(in_Spisy_Adolfa_Heyduka,_svazek_3).xml\n",
      "\tGUESS: model - LOO_1908_Sekernik_1_(in_Spisy_Adolfa_Heyduka,_svazek_3).xml_model_n-1,2.m-LinearSVC.joblib, guessed time period - 1870-1879\n",
      "\tGUESS: model - LOO_1908_Sekernik_1_(in_Spisy_Adolfa_Heyduka,_svazek_3).xml_model_n-1,2.m-LinearSVC.joblib, guessed time period - 1870-1879\n",
      "\tGUESS: model - LOO_1908_Sekernik_1_(in_Spisy_Adolfa_Heyduka,_svazek_3).xml_model_n-1,2.m-LinearSVC.joblib, guessed time period - 1880-1889\n",
      "\tGUESS: model - LOO_1908_Sekernik_1_(in_Spisy_Adolfa_Heyduka,_svazek_3).xml_model_n-1,2.m-LinearSVC.joblib, guessed time period - 1880-1889\n",
      "\tGUESS: model - LOO_1908_Sekernik_1_(in_Spisy_Adolfa_Heyduka,_svazek_3).xml_model_n-1,2.m-LinearSVC.joblib, guessed time period - 1880-1889\n",
      "\tGUESS: model - LOO_1908_Sekernik_1_(in_Spisy_Adolfa_Heyduka,_svazek_3).xml_model_n-1,2.m-LinearSVC.joblib, guessed time period - 1880-1889\n",
      "\tGUESS: model - LOO_1908_Sekernik_1_(in_Spisy_Adolfa_Heyduka,_svazek_3).xml_model_n-1,2.m-LinearSVC.joblib, guessed time period - 1880-1889\n",
      "\tGUESS: model - LOO_1908_Sekernik_1_(in_Spisy_Adolfa_Heyduka,_svazek_3).xml_model_n-1,2.m-LinearSVC.joblib, guessed time period - 1880-1889\n",
      "\tGUESS: model - LOO_1908_Sekernik_1_(in_Spisy_Adolfa_Heyduka,_svazek_3).xml_model_n-1,2.m-LinearSVC.joblib, guessed time period - 1900-1909\n",
      "\tGUESS: model - LOO_1908_Sekernik_1_(in_Spisy_Adolfa_Heyduka,_svazek_3).xml_model_n-1,2.m-LinearSVC.joblib, guessed time period - 1900-1909\n",
      "\tGUESS: model - LOO_1908_Sekernik_1_(in_Spisy_Adolfa_Heyduka,_svazek_3).xml_model_n-1,2.m-LinearSVC.joblib, guessed time period - 1900-1909\n",
      "\tGUESS: model - LOO_1908_Sekernik_1_(in_Spisy_Adolfa_Heyduka,_svazek_3).xml_model_n-1,2.m-LinearSVC.joblib, guessed time period - 1890-1899\n",
      "\tGUESS: model - LOO_1908_Sekernik_1_(in_Spisy_Adolfa_Heyduka,_svazek_3).xml_model_n-1,2.m-LinearSVC.joblib, guessed time period - 1880-1889\n",
      "\tGUESS: model - LOO_1908_Sekernik_1_(in_Spisy_Adolfa_Heyduka,_svazek_3).xml_model_n-1,2.m-LinearSVC.joblib, guessed time period - 1880-1889\n",
      "\tGUESS: model - LOO_1908_Sekernik_1_(in_Spisy_Adolfa_Heyduka,_svazek_3).xml_model_n-1,2.m-LinearSVC.joblib, guessed time period - 1870-1879\n",
      "\tGUESS: model - LOO_1908_Sekernik_1_(in_Spisy_Adolfa_Heyduka,_svazek_3).xml_model_n-1,2.m-LinearSVC.joblib, guessed time period - 1900-1909\n",
      "\tGUESS: model - LOO_1908_Sekernik_1_(in_Spisy_Adolfa_Heyduka,_svazek_3).xml_model_n-1,2.m-LinearSVC.joblib, guessed time period - 1900-1909\n",
      "\tGUESS: model - LOO_1908_Sekernik_1_(in_Spisy_Adolfa_Heyduka,_svazek_3).xml_model_n-1,2.m-LinearSVC.joblib, guessed time period - 1900-1909\n",
      "\tGUESS: model - LOO_1908_Sekernik_1_(in_Spisy_Adolfa_Heyduka,_svazek_3).xml_model_n-1,2.m-LinearSVC.joblib, guessed time period - 1900-1909\n",
      "\tGUESS: model - LOO_1908_Sekernik_1_(in_Spisy_Adolfa_Heyduka,_svazek_3).xml_model_n-1,2.m-LinearSVC.joblib, guessed time period - 1890-1899\n",
      "\tGUESS: model - LOO_1908_Sekernik_1_(in_Spisy_Adolfa_Heyduka,_svazek_3).xml_model_n-1,2.m-LinearSVC.joblib, guessed time period - 1900-1909\n",
      "\tGUESS: model - LOO_1908_Sekernik_1_(in_Spisy_Adolfa_Heyduka,_svazek_3).xml_model_n-1,2.m-LinearSVC.joblib, guessed time period - 1900-1909\n",
      "\tGUESS: model - LOO_1908_Sekernik_1_(in_Spisy_Adolfa_Heyduka,_svazek_3).xml_model_n-1,2.m-LinearSVC.joblib, guessed time period - 1920-1929\n",
      "\tGUESS: model - LOO_1908_Sekernik_1_(in_Spisy_Adolfa_Heyduka,_svazek_3).xml_model_n-1,2.m-LinearSVC.joblib, guessed time period - 1920-1929\n",
      "\tGUESS: model - LOO_1908_Sekernik_1_(in_Spisy_Adolfa_Heyduka,_svazek_3).xml_model_n-1,2.m-LinearSVC.joblib, guessed time period - 1920-1929\n",
      "\tGUESS: model - LOO_1908_Sekernik_1_(in_Spisy_Adolfa_Heyduka,_svazek_3).xml_model_n-1,2.m-LinearSVC.joblib, guessed time period - 1900-1909\n",
      "\tGUESS: model - LOO_1908_Sekernik_1_(in_Spisy_Adolfa_Heyduka,_svazek_3).xml_model_n-1,2.m-LinearSVC.joblib, guessed time period - 1870-1879\n",
      "\tGUESS: model - LOO_1908_Sekernik_1_(in_Spisy_Adolfa_Heyduka,_svazek_3).xml_model_n-1,2.m-LinearSVC.joblib, guessed time period - 1900-1909\n",
      "\tGUESS: model - LOO_1908_Sekernik_1_(in_Spisy_Adolfa_Heyduka,_svazek_3).xml_model_n-1,2.m-LinearSVC.joblib, guessed time period - 1900-1909\n",
      "\tGUESS: model - LOO_1908_Sekernik_1_(in_Spisy_Adolfa_Heyduka,_svazek_3).xml_model_n-1,2.m-LinearSVC.joblib, guessed time period - 1900-1909\n",
      "\tGUESS: model - LOO_1908_Sekernik_1_(in_Spisy_Adolfa_Heyduka,_svazek_3).xml_model_n-1,2.m-LinearSVC.joblib, guessed time period - 1920-1929\n",
      "\tGUESS: model - LOO_1908_Sekernik_1_(in_Spisy_Adolfa_Heyduka,_svazek_3).xml_model_n-1,2.m-LinearSVC.joblib, guessed time period - 1920-1929\n",
      "\tGUESS: model - LOO_1908_Sekernik_1_(in_Spisy_Adolfa_Heyduka,_svazek_3).xml_model_n-1,2.m-LinearSVC.joblib, guessed time period - 1900-1909\n",
      "\tGUESS: model - LOO_1908_Sekernik_1_(in_Spisy_Adolfa_Heyduka,_svazek_3).xml_model_n-1,2.m-LinearSVC.joblib, guessed time period - 1900-1909\n",
      "\tGUESS: model - LOO_1908_Sekernik_1_(in_Spisy_Adolfa_Heyduka,_svazek_3).xml_model_n-1,2.m-LinearSVC.joblib, guessed time period - 1920-1929\n",
      "\tGUESS: model - LOO_1908_Sekernik_1_(in_Spisy_Adolfa_Heyduka,_svazek_3).xml_model_n-1,2.m-LinearSVC.joblib, guessed time period - 1870-1879\n",
      "\tGUESS: model - LOO_1908_Sekernik_1_(in_Spisy_Adolfa_Heyduka,_svazek_3).xml_model_n-1,2.m-LinearSVC.joblib, guessed time period - 1900-1909\n",
      "\tGUESS: model - LOO_1908_Sekernik_1_(in_Spisy_Adolfa_Heyduka,_svazek_3).xml_model_n-1,2.m-LinearSVC.joblib, guessed time period - 1900-1909\n",
      "\tGUESS: model - LOO_1908_Sekernik_1_(in_Spisy_Adolfa_Heyduka,_svazek_3).xml_model_n-1,2.m-LinearSVC.joblib, guessed time period - 1890-1899\n",
      "\tGUESS: model - LOO_1908_Sekernik_1_(in_Spisy_Adolfa_Heyduka,_svazek_3).xml_model_n-1,2.m-LinearSVC.joblib, guessed time period - 1880-1889\n",
      "\tGUESS: model - LOO_1908_Sekernik_1_(in_Spisy_Adolfa_Heyduka,_svazek_3).xml_model_n-1,2.m-LinearSVC.joblib, guessed time period - 1870-1879\n",
      "\tGUESS: model - LOO_1908_Sekernik_1_(in_Spisy_Adolfa_Heyduka,_svazek_3).xml_model_n-1,2.m-LinearSVC.joblib, guessed time period - 1870-1879\n",
      "\tGUESS: model - LOO_1908_Sekernik_1_(in_Spisy_Adolfa_Heyduka,_svazek_3).xml_model_n-1,2.m-LinearSVC.joblib, guessed time period - 1900-1909\n",
      "\tGUESS: model - LOO_1908_Sekernik_1_(in_Spisy_Adolfa_Heyduka,_svazek_3).xml_model_n-1,2.m-LinearSVC.joblib, guessed time period - 1900-1909\n",
      "\tGUESS: model - LOO_1908_Sekernik_1_(in_Spisy_Adolfa_Heyduka,_svazek_3).xml_model_n-1,2.m-LinearSVC.joblib, guessed time period - 1910-1919\n",
      "\tGUESS: model - LOO_1908_Sekernik_1_(in_Spisy_Adolfa_Heyduka,_svazek_3).xml_model_n-1,2.m-LinearSVC.joblib, guessed time period - 1920-1929\n",
      "\tGUESS: model - LOO_1908_Sekernik_1_(in_Spisy_Adolfa_Heyduka,_svazek_3).xml_model_n-1,2.m-LinearSVC.joblib, guessed time period - 1920-1929\n",
      "\tGUESS: model - LOO_1908_Sekernik_1_(in_Spisy_Adolfa_Heyduka,_svazek_3).xml_model_n-1,2.m-LinearSVC.joblib, guessed time period - 1900-1909\n",
      "\tGUESS: model - LOO_1908_Sekernik_1_(in_Spisy_Adolfa_Heyduka,_svazek_3).xml_model_n-1,2.m-LinearSVC.joblib, guessed time period - 1920-1929\n",
      "\tGUESS: model - LOO_1908_Sekernik_1_(in_Spisy_Adolfa_Heyduka,_svazek_3).xml_model_n-1,2.m-LinearSVC.joblib, guessed time period - 1920-1929\n",
      "\tGUESS: model - LOO_1908_Sekernik_1_(in_Spisy_Adolfa_Heyduka,_svazek_3).xml_model_n-1,2.m-LinearSVC.joblib, guessed time period - 1900-1909\n",
      "\tGUESS: model - LOO_1908_Sekernik_1_(in_Spisy_Adolfa_Heyduka,_svazek_3).xml_model_n-1,2.m-LinearSVC.joblib, guessed time period - 1900-1909\n",
      "\tGUESS: model - LOO_1908_Sekernik_1_(in_Spisy_Adolfa_Heyduka,_svazek_3).xml_model_n-1,2.m-LinearSVC.joblib, guessed time period - 1880-1889\n",
      "\tGUESS: model - LOO_1908_Sekernik_1_(in_Spisy_Adolfa_Heyduka,_svazek_3).xml_model_n-1,2.m-LinearSVC.joblib, guessed time period - 1880-1889\n",
      "\tGUESS: model - LOO_1908_Sekernik_1_(in_Spisy_Adolfa_Heyduka,_svazek_3).xml_model_n-1,2.m-LinearSVC.joblib, guessed time period - 1880-1889\n",
      "\tGUESS: model - LOO_1908_Sekernik_1_(in_Spisy_Adolfa_Heyduka,_svazek_3).xml_model_n-1,2.m-LinearSVC.joblib, guessed time period - 1880-1889\n",
      "\tGUESS: model - LOO_1908_Sekernik_1_(in_Spisy_Adolfa_Heyduka,_svazek_3).xml_model_n-1,2.m-LinearSVC.joblib, guessed time period - 1900-1909\n",
      "\tGUESS: model - LOO_1908_Sekernik_1_(in_Spisy_Adolfa_Heyduka,_svazek_3).xml_model_n-1,2.m-LinearSVC.joblib, guessed time period - 1910-1919\n",
      "\tGUESS: model - LOO_1908_Sekernik_1_(in_Spisy_Adolfa_Heyduka,_svazek_3).xml_model_n-1,2.m-LinearSVC.joblib, guessed time period - 1920-1929\n",
      "\tGUESS: model - LOO_1908_Sekernik_1_(in_Spisy_Adolfa_Heyduka,_svazek_3).xml_model_n-1,2.m-LinearSVC.joblib, guessed time period - 1890-1899\n",
      "\tGUESS: model - LOO_1908_Sekernik_1_(in_Spisy_Adolfa_Heyduka,_svazek_3).xml_model_n-1,2.m-LinearSVC.joblib, guessed time period - 1900-1909\n",
      "\tGUESS: model - LOO_1908_Sekernik_1_(in_Spisy_Adolfa_Heyduka,_svazek_3).xml_model_n-1,2.m-LinearSVC.joblib, guessed time period - 1900-1909\n",
      "\tGUESS: model - LOO_1908_Sekernik_1_(in_Spisy_Adolfa_Heyduka,_svazek_3).xml_model_n-1,2.m-LinearSVC.joblib, guessed time period - 1900-1909\n",
      "\tGUESS: model - LOO_1908_Sekernik_1_(in_Spisy_Adolfa_Heyduka,_svazek_3).xml_model_n-1,2.m-LinearSVC.joblib, guessed time period - 1900-1909\n",
      "\tGUESS: model - LOO_1908_Sekernik_1_(in_Spisy_Adolfa_Heyduka,_svazek_3).xml_model_n-1,2.m-LinearSVC.joblib, guessed time period - 1910-1919\n",
      "\tGUESS: model - LOO_1908_Sekernik_1_(in_Spisy_Adolfa_Heyduka,_svazek_3).xml_model_n-1,2.m-LinearSVC.joblib, guessed time period - 1910-1919\n",
      "\tGUESS: model - LOO_1908_Sekernik_1_(in_Spisy_Adolfa_Heyduka,_svazek_3).xml_model_n-1,2.m-LinearSVC.joblib, guessed time period - 1920-1929\n",
      "\tGUESS: model - LOO_1908_Sekernik_1_(in_Spisy_Adolfa_Heyduka,_svazek_3).xml_model_n-1,2.m-LinearSVC.joblib, guessed time period - 1900-1909\n",
      "\tGUESS: model - LOO_1908_Sekernik_1_(in_Spisy_Adolfa_Heyduka,_svazek_3).xml_model_n-1,2.m-LinearSVC.joblib, guessed time period - 1900-1909\n",
      "\tGUESS: model - LOO_1908_Sekernik_1_(in_Spisy_Adolfa_Heyduka,_svazek_3).xml_model_n-1,2.m-LinearSVC.joblib, guessed time period - 1880-1889\n",
      "\tGUESS: model - LOO_1908_Sekernik_1_(in_Spisy_Adolfa_Heyduka,_svazek_3).xml_model_n-1,2.m-LinearSVC.joblib, guessed time period - 1920-1929\n",
      "\tGUESS: model - LOO_1908_Sekernik_1_(in_Spisy_Adolfa_Heyduka,_svazek_3).xml_model_n-1,2.m-LinearSVC.joblib, guessed time period - 1900-1909\n",
      "\tGUESS: model - LOO_1908_Sekernik_1_(in_Spisy_Adolfa_Heyduka,_svazek_3).xml_model_n-1,2.m-LinearSVC.joblib, guessed time period - 1900-1909\n",
      "\tGUESS: model - LOO_1908_Sekernik_1_(in_Spisy_Adolfa_Heyduka,_svazek_3).xml_model_n-1,2.m-LinearSVC.joblib, guessed time period - 1880-1889\n",
      "\tGUESS: model - LOO_1908_Sekernik_1_(in_Spisy_Adolfa_Heyduka,_svazek_3).xml_model_n-1,2.m-LinearSVC.joblib, guessed time period - 1920-1929\n",
      "1908_Sekernik_1_(in_Spisy_Adolfa_Heyduka,_svazek_3).xml Score: {'correct': 31, 'incorrect': 44} Evaluation score: 0.41333333333333333\n",
      "Evaluating model on 1908_Sekernik_2_(in_Spisy_Adolfa_Heyduka,_svazek_3).xml\n",
      "\tGUESS: model - LOO_1908_Sekernik_2_(in_Spisy_Adolfa_Heyduka,_svazek_3).xml_model_n-1,2.m-LinearSVC.joblib, guessed time period - 1890-1899\n",
      "\tGUESS: model - LOO_1908_Sekernik_2_(in_Spisy_Adolfa_Heyduka,_svazek_3).xml_model_n-1,2.m-LinearSVC.joblib, guessed time period - 1920-1929\n",
      "\tGUESS: model - LOO_1908_Sekernik_2_(in_Spisy_Adolfa_Heyduka,_svazek_3).xml_model_n-1,2.m-LinearSVC.joblib, guessed time period - 1900-1909\n",
      "\tGUESS: model - LOO_1908_Sekernik_2_(in_Spisy_Adolfa_Heyduka,_svazek_3).xml_model_n-1,2.m-LinearSVC.joblib, guessed time period - 1900-1909\n",
      "\tGUESS: model - LOO_1908_Sekernik_2_(in_Spisy_Adolfa_Heyduka,_svazek_3).xml_model_n-1,2.m-LinearSVC.joblib, guessed time period - 1920-1929\n",
      "\tGUESS: model - LOO_1908_Sekernik_2_(in_Spisy_Adolfa_Heyduka,_svazek_3).xml_model_n-1,2.m-LinearSVC.joblib, guessed time period - 1920-1929\n",
      "\tGUESS: model - LOO_1908_Sekernik_2_(in_Spisy_Adolfa_Heyduka,_svazek_3).xml_model_n-1,2.m-LinearSVC.joblib, guessed time period - 1910-1919\n",
      "\tGUESS: model - LOO_1908_Sekernik_2_(in_Spisy_Adolfa_Heyduka,_svazek_3).xml_model_n-1,2.m-LinearSVC.joblib, guessed time period - 1920-1929\n",
      "\tGUESS: model - LOO_1908_Sekernik_2_(in_Spisy_Adolfa_Heyduka,_svazek_3).xml_model_n-1,2.m-LinearSVC.joblib, guessed time period - 1880-1889\n",
      "\tGUESS: model - LOO_1908_Sekernik_2_(in_Spisy_Adolfa_Heyduka,_svazek_3).xml_model_n-1,2.m-LinearSVC.joblib, guessed time period - 1900-1909\n",
      "\tGUESS: model - LOO_1908_Sekernik_2_(in_Spisy_Adolfa_Heyduka,_svazek_3).xml_model_n-1,2.m-LinearSVC.joblib, guessed time period - 1910-1919\n",
      "\tGUESS: model - LOO_1908_Sekernik_2_(in_Spisy_Adolfa_Heyduka,_svazek_3).xml_model_n-1,2.m-LinearSVC.joblib, guessed time period - 1910-1919\n",
      "\tGUESS: model - LOO_1908_Sekernik_2_(in_Spisy_Adolfa_Heyduka,_svazek_3).xml_model_n-1,2.m-LinearSVC.joblib, guessed time period - 1880-1889\n",
      "\tGUESS: model - LOO_1908_Sekernik_2_(in_Spisy_Adolfa_Heyduka,_svazek_3).xml_model_n-1,2.m-LinearSVC.joblib, guessed time period - 1880-1889\n",
      "\tGUESS: model - LOO_1908_Sekernik_2_(in_Spisy_Adolfa_Heyduka,_svazek_3).xml_model_n-1,2.m-LinearSVC.joblib, guessed time period - 1920-1929\n",
      "\tGUESS: model - LOO_1908_Sekernik_2_(in_Spisy_Adolfa_Heyduka,_svazek_3).xml_model_n-1,2.m-LinearSVC.joblib, guessed time period - 1870-1879\n",
      "\tGUESS: model - LOO_1908_Sekernik_2_(in_Spisy_Adolfa_Heyduka,_svazek_3).xml_model_n-1,2.m-LinearSVC.joblib, guessed time period - 1870-1879\n",
      "\tGUESS: model - LOO_1908_Sekernik_2_(in_Spisy_Adolfa_Heyduka,_svazek_3).xml_model_n-1,2.m-LinearSVC.joblib, guessed time period - 1870-1879\n",
      "\tGUESS: model - LOO_1908_Sekernik_2_(in_Spisy_Adolfa_Heyduka,_svazek_3).xml_model_n-1,2.m-LinearSVC.joblib, guessed time period - 1870-1879\n",
      "\tGUESS: model - LOO_1908_Sekernik_2_(in_Spisy_Adolfa_Heyduka,_svazek_3).xml_model_n-1,2.m-LinearSVC.joblib, guessed time period - 1870-1879\n",
      "\tGUESS: model - LOO_1908_Sekernik_2_(in_Spisy_Adolfa_Heyduka,_svazek_3).xml_model_n-1,2.m-LinearSVC.joblib, guessed time period - 1910-1919\n",
      "\tGUESS: model - LOO_1908_Sekernik_2_(in_Spisy_Adolfa_Heyduka,_svazek_3).xml_model_n-1,2.m-LinearSVC.joblib, guessed time period - 1890-1899\n",
      "\tGUESS: model - LOO_1908_Sekernik_2_(in_Spisy_Adolfa_Heyduka,_svazek_3).xml_model_n-1,2.m-LinearSVC.joblib, guessed time period - 1890-1899\n",
      "\tGUESS: model - LOO_1908_Sekernik_2_(in_Spisy_Adolfa_Heyduka,_svazek_3).xml_model_n-1,2.m-LinearSVC.joblib, guessed time period - 1900-1909\n",
      "\tGUESS: model - LOO_1908_Sekernik_2_(in_Spisy_Adolfa_Heyduka,_svazek_3).xml_model_n-1,2.m-LinearSVC.joblib, guessed time period - 1890-1899\n",
      "\tGUESS: model - LOO_1908_Sekernik_2_(in_Spisy_Adolfa_Heyduka,_svazek_3).xml_model_n-1,2.m-LinearSVC.joblib, guessed time period - 1890-1899\n",
      "\tGUESS: model - LOO_1908_Sekernik_2_(in_Spisy_Adolfa_Heyduka,_svazek_3).xml_model_n-1,2.m-LinearSVC.joblib, guessed time period - 1880-1889\n",
      "\tGUESS: model - LOO_1908_Sekernik_2_(in_Spisy_Adolfa_Heyduka,_svazek_3).xml_model_n-1,2.m-LinearSVC.joblib, guessed time period - 1880-1889\n",
      "\tGUESS: model - LOO_1908_Sekernik_2_(in_Spisy_Adolfa_Heyduka,_svazek_3).xml_model_n-1,2.m-LinearSVC.joblib, guessed time period - 1920-1929\n",
      "\tGUESS: model - LOO_1908_Sekernik_2_(in_Spisy_Adolfa_Heyduka,_svazek_3).xml_model_n-1,2.m-LinearSVC.joblib, guessed time period - 1870-1879\n",
      "\tGUESS: model - LOO_1908_Sekernik_2_(in_Spisy_Adolfa_Heyduka,_svazek_3).xml_model_n-1,2.m-LinearSVC.joblib, guessed time period - 1870-1879\n",
      "\tGUESS: model - LOO_1908_Sekernik_2_(in_Spisy_Adolfa_Heyduka,_svazek_3).xml_model_n-1,2.m-LinearSVC.joblib, guessed time period - 1870-1879\n",
      "\tGUESS: model - LOO_1908_Sekernik_2_(in_Spisy_Adolfa_Heyduka,_svazek_3).xml_model_n-1,2.m-LinearSVC.joblib, guessed time period - 1910-1919\n",
      "\tGUESS: model - LOO_1908_Sekernik_2_(in_Spisy_Adolfa_Heyduka,_svazek_3).xml_model_n-1,2.m-LinearSVC.joblib, guessed time period - 1920-1929\n",
      "\tGUESS: model - LOO_1908_Sekernik_2_(in_Spisy_Adolfa_Heyduka,_svazek_3).xml_model_n-1,2.m-LinearSVC.joblib, guessed time period - 1900-1909\n",
      "\tGUESS: model - LOO_1908_Sekernik_2_(in_Spisy_Adolfa_Heyduka,_svazek_3).xml_model_n-1,2.m-LinearSVC.joblib, guessed time period - 1900-1909\n",
      "\tGUESS: model - LOO_1908_Sekernik_2_(in_Spisy_Adolfa_Heyduka,_svazek_3).xml_model_n-1,2.m-LinearSVC.joblib, guessed time period - 1900-1909\n",
      "\tGUESS: model - LOO_1908_Sekernik_2_(in_Spisy_Adolfa_Heyduka,_svazek_3).xml_model_n-1,2.m-LinearSVC.joblib, guessed time period - 1890-1899\n",
      "\tGUESS: model - LOO_1908_Sekernik_2_(in_Spisy_Adolfa_Heyduka,_svazek_3).xml_model_n-1,2.m-LinearSVC.joblib, guessed time period - 1900-1909\n",
      "\tGUESS: model - LOO_1908_Sekernik_2_(in_Spisy_Adolfa_Heyduka,_svazek_3).xml_model_n-1,2.m-LinearSVC.joblib, guessed time period - 1890-1899\n",
      "\tGUESS: model - LOO_1908_Sekernik_2_(in_Spisy_Adolfa_Heyduka,_svazek_3).xml_model_n-1,2.m-LinearSVC.joblib, guessed time period - 1920-1929\n",
      "\tGUESS: model - LOO_1908_Sekernik_2_(in_Spisy_Adolfa_Heyduka,_svazek_3).xml_model_n-1,2.m-LinearSVC.joblib, guessed time period - 1920-1929\n",
      "1908_Sekernik_2_(in_Spisy_Adolfa_Heyduka,_svazek_3).xml Score: {'correct': 8, 'incorrect': 34} Evaluation score: 0.19047619047619047\n",
      "Evaluating model on 1908_Skudci_a_dobrodruzi_(Spisy_Adolfa_Heyduka,_svazek_46).xml\n",
      "\tGUESS: model - LOO_1908_Skudci_a_dobrodruzi_(Spisy_Adolfa_Heyduka,_svazek_46).xml_model_n-1,2.m-LinearSVC.joblib, guessed time period - 1870-1879\n",
      "\tGUESS: model - LOO_1908_Skudci_a_dobrodruzi_(Spisy_Adolfa_Heyduka,_svazek_46).xml_model_n-1,2.m-LinearSVC.joblib, guessed time period - 1870-1879\n",
      "\tGUESS: model - LOO_1908_Skudci_a_dobrodruzi_(Spisy_Adolfa_Heyduka,_svazek_46).xml_model_n-1,2.m-LinearSVC.joblib, guessed time period - 1870-1879\n",
      "\tGUESS: model - LOO_1908_Skudci_a_dobrodruzi_(Spisy_Adolfa_Heyduka,_svazek_46).xml_model_n-1,2.m-LinearSVC.joblib, guessed time period - 1870-1879\n",
      "\tGUESS: model - LOO_1908_Skudci_a_dobrodruzi_(Spisy_Adolfa_Heyduka,_svazek_46).xml_model_n-1,2.m-LinearSVC.joblib, guessed time period - 1870-1879\n",
      "\tGUESS: model - LOO_1908_Skudci_a_dobrodruzi_(Spisy_Adolfa_Heyduka,_svazek_46).xml_model_n-1,2.m-LinearSVC.joblib, guessed time period - 1870-1879\n",
      "\tGUESS: model - LOO_1908_Skudci_a_dobrodruzi_(Spisy_Adolfa_Heyduka,_svazek_46).xml_model_n-1,2.m-LinearSVC.joblib, guessed time period - 1870-1879\n",
      "\tGUESS: model - LOO_1908_Skudci_a_dobrodruzi_(Spisy_Adolfa_Heyduka,_svazek_46).xml_model_n-1,2.m-LinearSVC.joblib, guessed time period - 1870-1879\n",
      "\tGUESS: model - LOO_1908_Skudci_a_dobrodruzi_(Spisy_Adolfa_Heyduka,_svazek_46).xml_model_n-1,2.m-LinearSVC.joblib, guessed time period - 1870-1879\n",
      "1908_Skudci_a_dobrodruzi_(Spisy_Adolfa_Heyduka,_svazek_46).xml Score: {'correct': 0, 'incorrect': 9} Evaluation score: 0.0\n",
      "Evaluating model on 1909_Almanach_akademickeho_spolku_Orlican.xml\n",
      "\tGUESS: model - LOO_1909_Almanach_akademickeho_spolku_Orlican.xml_model_n-1,2.m-LinearSVC.joblib, guessed time period - 1890-1899\n",
      "\tGUESS: model - LOO_1909_Almanach_akademickeho_spolku_Orlican.xml_model_n-1,2.m-LinearSVC.joblib, guessed time period - 1890-1899\n",
      "\tGUESS: model - LOO_1909_Almanach_akademickeho_spolku_Orlican.xml_model_n-1,2.m-LinearSVC.joblib, guessed time period - 1900-1909\n",
      "\tGUESS: model - LOO_1909_Almanach_akademickeho_spolku_Orlican.xml_model_n-1,2.m-LinearSVC.joblib, guessed time period - 1900-1909\n",
      "\tGUESS: model - LOO_1909_Almanach_akademickeho_spolku_Orlican.xml_model_n-1,2.m-LinearSVC.joblib, guessed time period - 1900-1909\n",
      "\tGUESS: model - LOO_1909_Almanach_akademickeho_spolku_Orlican.xml_model_n-1,2.m-LinearSVC.joblib, guessed time period - 1900-1909\n",
      "\tGUESS: model - LOO_1909_Almanach_akademickeho_spolku_Orlican.xml_model_n-1,2.m-LinearSVC.joblib, guessed time period - 1900-1909\n",
      "1909_Almanach_akademickeho_spolku_Orlican.xml Score: {'correct': 5, 'incorrect': 2} Evaluation score: 0.7142857142857143\n",
      "Evaluating model on 1910_Co_hlavou_tahlo_(in_Spisy_Adolfa_Heyduka,_svazek_50).xml\n",
      "\tGUESS: model - LOO_1910_Co_hlavou_tahlo_(in_Spisy_Adolfa_Heyduka,_svazek_50).xml_model_n-1,2.m-LinearSVC.joblib, guessed time period - 1900-1909\n",
      "1910_Co_hlavou_tahlo_(in_Spisy_Adolfa_Heyduka,_svazek_50).xml Score: {'correct': 0, 'incorrect': 1} Evaluation score: 0.0\n",
      "Evaluating model on 1910_Oddech_v_lese.xml\n",
      "\tGUESS: model - LOO_1910_Oddech_v_lese.xml_model_n-1,2.m-LinearSVC.joblib, guessed time period - 1900-1909\n",
      "\tGUESS: model - LOO_1910_Oddech_v_lese.xml_model_n-1,2.m-LinearSVC.joblib, guessed time period - 1900-1909\n",
      "\tGUESS: model - LOO_1910_Oddech_v_lese.xml_model_n-1,2.m-LinearSVC.joblib, guessed time period - 1900-1909\n",
      "\tGUESS: model - LOO_1910_Oddech_v_lese.xml_model_n-1,2.m-LinearSVC.joblib, guessed time period - 1880-1889\n",
      "\tGUESS: model - LOO_1910_Oddech_v_lese.xml_model_n-1,2.m-LinearSVC.joblib, guessed time period - 1880-1889\n",
      "\tGUESS: model - LOO_1910_Oddech_v_lese.xml_model_n-1,2.m-LinearSVC.joblib, guessed time period - 1900-1909\n",
      "\tGUESS: model - LOO_1910_Oddech_v_lese.xml_model_n-1,2.m-LinearSVC.joblib, guessed time period - 1900-1909\n",
      "1910_Oddech_v_lese.xml Score: {'correct': 0, 'incorrect': 7} Evaluation score: 0.0\n",
      "Evaluating model on 1910_Od_Tater_a_Dunaje_(in_Spisy_Adolfa_Heyduka,_svazek_49).xml\n",
      "\tGUESS: model - LOO_1910_Od_Tater_a_Dunaje_(in_Spisy_Adolfa_Heyduka,_svazek_49).xml_model_n-1,2.m-LinearSVC.joblib, guessed time period - 1880-1889\n",
      "1910_Od_Tater_a_Dunaje_(in_Spisy_Adolfa_Heyduka,_svazek_49).xml Score: {'correct': 0, 'incorrect': 1} Evaluation score: 0.0\n",
      "Evaluating model on 1913_Nekolik_povesti_z_Posumavi_(in_Spisy_Adolfa_Heyduka,_svazek_54).xml\n",
      "\tGUESS: model - LOO_1913_Nekolik_povesti_z_Posumavi_(in_Spisy_Adolfa_Heyduka,_svazek_54).xml_model_n-1,2.m-LinearSVC.joblib, guessed time period - 1870-1879\n",
      "\tGUESS: model - LOO_1913_Nekolik_povesti_z_Posumavi_(in_Spisy_Adolfa_Heyduka,_svazek_54).xml_model_n-1,2.m-LinearSVC.joblib, guessed time period - 1900-1909\n",
      "\tGUESS: model - LOO_1913_Nekolik_povesti_z_Posumavi_(in_Spisy_Adolfa_Heyduka,_svazek_54).xml_model_n-1,2.m-LinearSVC.joblib, guessed time period - 1880-1889\n",
      "\tGUESS: model - LOO_1913_Nekolik_povesti_z_Posumavi_(in_Spisy_Adolfa_Heyduka,_svazek_54).xml_model_n-1,2.m-LinearSVC.joblib, guessed time period - 1890-1899\n",
      "\tGUESS: model - LOO_1913_Nekolik_povesti_z_Posumavi_(in_Spisy_Adolfa_Heyduka,_svazek_54).xml_model_n-1,2.m-LinearSVC.joblib, guessed time period - 1920-1929\n",
      "\tGUESS: model - LOO_1913_Nekolik_povesti_z_Posumavi_(in_Spisy_Adolfa_Heyduka,_svazek_54).xml_model_n-1,2.m-LinearSVC.joblib, guessed time period - 1870-1879\n",
      "\tGUESS: model - LOO_1913_Nekolik_povesti_z_Posumavi_(in_Spisy_Adolfa_Heyduka,_svazek_54).xml_model_n-1,2.m-LinearSVC.joblib, guessed time period - 1880-1889\n",
      "\tGUESS: model - LOO_1913_Nekolik_povesti_z_Posumavi_(in_Spisy_Adolfa_Heyduka,_svazek_54).xml_model_n-1,2.m-LinearSVC.joblib, guessed time period - 1900-1909\n",
      "1913_Nekolik_povesti_z_Posumavi_(in_Spisy_Adolfa_Heyduka,_svazek_54).xml Score: {'correct': 0, 'incorrect': 8} Evaluation score: 0.0\n",
      "Evaluating model on 1913_Rozmanite_zvesti_a_drobne_deje_(in_Spisy_Adolfa_Heyduka,_svazek_53).xml\n",
      "\tGUESS: model - LOO_1913_Rozmanite_zvesti_a_drobne_deje_(in_Spisy_Adolfa_Heyduka,_svazek_53).xml_model_n-1,2.m-LinearSVC.joblib, guessed time period - 1890-1899\n",
      "\tGUESS: model - LOO_1913_Rozmanite_zvesti_a_drobne_deje_(in_Spisy_Adolfa_Heyduka,_svazek_53).xml_model_n-1,2.m-LinearSVC.joblib, guessed time period - 1920-1929\n",
      "\tGUESS: model - LOO_1913_Rozmanite_zvesti_a_drobne_deje_(in_Spisy_Adolfa_Heyduka,_svazek_53).xml_model_n-1,2.m-LinearSVC.joblib, guessed time period - 1920-1929\n",
      "\tGUESS: model - LOO_1913_Rozmanite_zvesti_a_drobne_deje_(in_Spisy_Adolfa_Heyduka,_svazek_53).xml_model_n-1,2.m-LinearSVC.joblib, guessed time period - 1920-1929\n",
      "\tGUESS: model - LOO_1913_Rozmanite_zvesti_a_drobne_deje_(in_Spisy_Adolfa_Heyduka,_svazek_53).xml_model_n-1,2.m-LinearSVC.joblib, guessed time period - 1890-1899\n",
      "\tGUESS: model - LOO_1913_Rozmanite_zvesti_a_drobne_deje_(in_Spisy_Adolfa_Heyduka,_svazek_53).xml_model_n-1,2.m-LinearSVC.joblib, guessed time period - 1920-1929\n",
      "\tGUESS: model - LOO_1913_Rozmanite_zvesti_a_drobne_deje_(in_Spisy_Adolfa_Heyduka,_svazek_53).xml_model_n-1,2.m-LinearSVC.joblib, guessed time period - 1920-1929\n",
      "\tGUESS: model - LOO_1913_Rozmanite_zvesti_a_drobne_deje_(in_Spisy_Adolfa_Heyduka,_svazek_53).xml_model_n-1,2.m-LinearSVC.joblib, guessed time period - 1900-1909\n",
      "\tGUESS: model - LOO_1913_Rozmanite_zvesti_a_drobne_deje_(in_Spisy_Adolfa_Heyduka,_svazek_53).xml_model_n-1,2.m-LinearSVC.joblib, guessed time period - 1900-1909\n",
      "\tGUESS: model - LOO_1913_Rozmanite_zvesti_a_drobne_deje_(in_Spisy_Adolfa_Heyduka,_svazek_53).xml_model_n-1,2.m-LinearSVC.joblib, guessed time period - 1900-1909\n",
      "\tGUESS: model - LOO_1913_Rozmanite_zvesti_a_drobne_deje_(in_Spisy_Adolfa_Heyduka,_svazek_53).xml_model_n-1,2.m-LinearSVC.joblib, guessed time period - 1900-1909\n",
      "\tGUESS: model - LOO_1913_Rozmanite_zvesti_a_drobne_deje_(in_Spisy_Adolfa_Heyduka,_svazek_53).xml_model_n-1,2.m-LinearSVC.joblib, guessed time period - 1900-1909\n",
      "\tGUESS: model - LOO_1913_Rozmanite_zvesti_a_drobne_deje_(in_Spisy_Adolfa_Heyduka,_svazek_53).xml_model_n-1,2.m-LinearSVC.joblib, guessed time period - 1890-1899\n",
      "\tGUESS: model - LOO_1913_Rozmanite_zvesti_a_drobne_deje_(in_Spisy_Adolfa_Heyduka,_svazek_53).xml_model_n-1,2.m-LinearSVC.joblib, guessed time period - 1900-1909\n",
      "\tGUESS: model - LOO_1913_Rozmanite_zvesti_a_drobne_deje_(in_Spisy_Adolfa_Heyduka,_svazek_53).xml_model_n-1,2.m-LinearSVC.joblib, guessed time period - 1900-1909\n",
      "\tGUESS: model - LOO_1913_Rozmanite_zvesti_a_drobne_deje_(in_Spisy_Adolfa_Heyduka,_svazek_53).xml_model_n-1,2.m-LinearSVC.joblib, guessed time period - 1900-1909\n",
      "\tGUESS: model - LOO_1913_Rozmanite_zvesti_a_drobne_deje_(in_Spisy_Adolfa_Heyduka,_svazek_53).xml_model_n-1,2.m-LinearSVC.joblib, guessed time period - 1900-1909\n",
      "\tGUESS: model - LOO_1913_Rozmanite_zvesti_a_drobne_deje_(in_Spisy_Adolfa_Heyduka,_svazek_53).xml_model_n-1,2.m-LinearSVC.joblib, guessed time period - 1870-1879\n",
      "\tGUESS: model - LOO_1913_Rozmanite_zvesti_a_drobne_deje_(in_Spisy_Adolfa_Heyduka,_svazek_53).xml_model_n-1,2.m-LinearSVC.joblib, guessed time period - 1890-1899\n",
      "\tGUESS: model - LOO_1913_Rozmanite_zvesti_a_drobne_deje_(in_Spisy_Adolfa_Heyduka,_svazek_53).xml_model_n-1,2.m-LinearSVC.joblib, guessed time period - 1890-1899\n",
      "\tGUESS: model - LOO_1913_Rozmanite_zvesti_a_drobne_deje_(in_Spisy_Adolfa_Heyduka,_svazek_53).xml_model_n-1,2.m-LinearSVC.joblib, guessed time period - 1870-1879\n",
      "\tGUESS: model - LOO_1913_Rozmanite_zvesti_a_drobne_deje_(in_Spisy_Adolfa_Heyduka,_svazek_53).xml_model_n-1,2.m-LinearSVC.joblib, guessed time period - 1900-1909\n",
      "\tGUESS: model - LOO_1913_Rozmanite_zvesti_a_drobne_deje_(in_Spisy_Adolfa_Heyduka,_svazek_53).xml_model_n-1,2.m-LinearSVC.joblib, guessed time period - 1900-1909\n",
      "\tGUESS: model - LOO_1913_Rozmanite_zvesti_a_drobne_deje_(in_Spisy_Adolfa_Heyduka,_svazek_53).xml_model_n-1,2.m-LinearSVC.joblib, guessed time period - 1890-1899\n",
      "\tGUESS: model - LOO_1913_Rozmanite_zvesti_a_drobne_deje_(in_Spisy_Adolfa_Heyduka,_svazek_53).xml_model_n-1,2.m-LinearSVC.joblib, guessed time period - 1890-1899\n",
      "\tGUESS: model - LOO_1913_Rozmanite_zvesti_a_drobne_deje_(in_Spisy_Adolfa_Heyduka,_svazek_53).xml_model_n-1,2.m-LinearSVC.joblib, guessed time period - 1890-1899\n",
      "\tGUESS: model - LOO_1913_Rozmanite_zvesti_a_drobne_deje_(in_Spisy_Adolfa_Heyduka,_svazek_53).xml_model_n-1,2.m-LinearSVC.joblib, guessed time period - 1900-1909\n",
      "\tGUESS: model - LOO_1913_Rozmanite_zvesti_a_drobne_deje_(in_Spisy_Adolfa_Heyduka,_svazek_53).xml_model_n-1,2.m-LinearSVC.joblib, guessed time period - 1910-1919\n",
      "\tGUESS: model - LOO_1913_Rozmanite_zvesti_a_drobne_deje_(in_Spisy_Adolfa_Heyduka,_svazek_53).xml_model_n-1,2.m-LinearSVC.joblib, guessed time period - 1890-1899\n",
      "\tGUESS: model - LOO_1913_Rozmanite_zvesti_a_drobne_deje_(in_Spisy_Adolfa_Heyduka,_svazek_53).xml_model_n-1,2.m-LinearSVC.joblib, guessed time period - 1920-1929\n",
      "\tGUESS: model - LOO_1913_Rozmanite_zvesti_a_drobne_deje_(in_Spisy_Adolfa_Heyduka,_svazek_53).xml_model_n-1,2.m-LinearSVC.joblib, guessed time period - 1920-1929\n",
      "\tGUESS: model - LOO_1913_Rozmanite_zvesti_a_drobne_deje_(in_Spisy_Adolfa_Heyduka,_svazek_53).xml_model_n-1,2.m-LinearSVC.joblib, guessed time period - 1890-1899\n",
      "\tGUESS: model - LOO_1913_Rozmanite_zvesti_a_drobne_deje_(in_Spisy_Adolfa_Heyduka,_svazek_53).xml_model_n-1,2.m-LinearSVC.joblib, guessed time period - 1890-1899\n",
      "\tGUESS: model - LOO_1913_Rozmanite_zvesti_a_drobne_deje_(in_Spisy_Adolfa_Heyduka,_svazek_53).xml_model_n-1,2.m-LinearSVC.joblib, guessed time period - 1880-1889\n",
      "1913_Rozmanite_zvesti_a_drobne_deje_(in_Spisy_Adolfa_Heyduka,_svazek_53).xml Score: {'correct': 1, 'incorrect': 33} Evaluation score: 0.029411764705882353\n",
      "Evaluating model on 1919_Slovensku_(in_Spisy_Adolfa_Heyduka,_svazek_55).xml\n",
      "\tGUESS: model - LOO_1919_Slovensku_(in_Spisy_Adolfa_Heyduka,_svazek_55).xml_model_n-1,2.m-LinearSVC.joblib, guessed time period - 1900-1909\n",
      "\tGUESS: model - LOO_1919_Slovensku_(in_Spisy_Adolfa_Heyduka,_svazek_55).xml_model_n-1,2.m-LinearSVC.joblib, guessed time period - 1900-1909\n",
      "\tGUESS: model - LOO_1919_Slovensku_(in_Spisy_Adolfa_Heyduka,_svazek_55).xml_model_n-1,2.m-LinearSVC.joblib, guessed time period - 1900-1909\n",
      "\tGUESS: model - LOO_1919_Slovensku_(in_Spisy_Adolfa_Heyduka,_svazek_55).xml_model_n-1,2.m-LinearSVC.joblib, guessed time period - 1900-1909\n",
      "\tGUESS: model - LOO_1919_Slovensku_(in_Spisy_Adolfa_Heyduka,_svazek_55).xml_model_n-1,2.m-LinearSVC.joblib, guessed time period - 1900-1909\n",
      "\tGUESS: model - LOO_1919_Slovensku_(in_Spisy_Adolfa_Heyduka,_svazek_55).xml_model_n-1,2.m-LinearSVC.joblib, guessed time period - 1900-1909\n",
      "\tGUESS: model - LOO_1919_Slovensku_(in_Spisy_Adolfa_Heyduka,_svazek_55).xml_model_n-1,2.m-LinearSVC.joblib, guessed time period - 1900-1909\n",
      "\tGUESS: model - LOO_1919_Slovensku_(in_Spisy_Adolfa_Heyduka,_svazek_55).xml_model_n-1,2.m-LinearSVC.joblib, guessed time period - 1890-1899\n",
      "\tGUESS: model - LOO_1919_Slovensku_(in_Spisy_Adolfa_Heyduka,_svazek_55).xml_model_n-1,2.m-LinearSVC.joblib, guessed time period - 1890-1899\n",
      "\tGUESS: model - LOO_1919_Slovensku_(in_Spisy_Adolfa_Heyduka,_svazek_55).xml_model_n-1,2.m-LinearSVC.joblib, guessed time period - 1900-1909\n",
      "\tGUESS: model - LOO_1919_Slovensku_(in_Spisy_Adolfa_Heyduka,_svazek_55).xml_model_n-1,2.m-LinearSVC.joblib, guessed time period - 1900-1909\n",
      "\tGUESS: model - LOO_1919_Slovensku_(in_Spisy_Adolfa_Heyduka,_svazek_55).xml_model_n-1,2.m-LinearSVC.joblib, guessed time period - 1900-1909\n",
      "\tGUESS: model - LOO_1919_Slovensku_(in_Spisy_Adolfa_Heyduka,_svazek_55).xml_model_n-1,2.m-LinearSVC.joblib, guessed time period - 1880-1889\n",
      "\tGUESS: model - LOO_1919_Slovensku_(in_Spisy_Adolfa_Heyduka,_svazek_55).xml_model_n-1,2.m-LinearSVC.joblib, guessed time period - 1920-1929\n",
      "\tGUESS: model - LOO_1919_Slovensku_(in_Spisy_Adolfa_Heyduka,_svazek_55).xml_model_n-1,2.m-LinearSVC.joblib, guessed time period - 1920-1929\n",
      "\tGUESS: model - LOO_1919_Slovensku_(in_Spisy_Adolfa_Heyduka,_svazek_55).xml_model_n-1,2.m-LinearSVC.joblib, guessed time period - 1890-1899\n",
      "\tGUESS: model - LOO_1919_Slovensku_(in_Spisy_Adolfa_Heyduka,_svazek_55).xml_model_n-1,2.m-LinearSVC.joblib, guessed time period - 1890-1899\n",
      "\tGUESS: model - LOO_1919_Slovensku_(in_Spisy_Adolfa_Heyduka,_svazek_55).xml_model_n-1,2.m-LinearSVC.joblib, guessed time period - 1890-1899\n",
      "\tGUESS: model - LOO_1919_Slovensku_(in_Spisy_Adolfa_Heyduka,_svazek_55).xml_model_n-1,2.m-LinearSVC.joblib, guessed time period - 1890-1899\n",
      "1919_Slovensku_(in_Spisy_Adolfa_Heyduka,_svazek_55).xml Score: {'correct': 0, 'incorrect': 19} Evaluation score: 0.0\n",
      "Evaluating model on 1920_Obeti_presvedceni_(in_Spisy_Adolfa_Heyduka,_svazek_56).xml\n",
      "\tGUESS: model - LOO_1920_Obeti_presvedceni_(in_Spisy_Adolfa_Heyduka,_svazek_56).xml_model_n-1,2.m-LinearSVC.joblib, guessed time period - 1910-1919\n",
      "\tGUESS: model - LOO_1920_Obeti_presvedceni_(in_Spisy_Adolfa_Heyduka,_svazek_56).xml_model_n-1,2.m-LinearSVC.joblib, guessed time period - 1900-1909\n",
      "\tGUESS: model - LOO_1920_Obeti_presvedceni_(in_Spisy_Adolfa_Heyduka,_svazek_56).xml_model_n-1,2.m-LinearSVC.joblib, guessed time period - 1900-1909\n",
      "\tGUESS: model - LOO_1920_Obeti_presvedceni_(in_Spisy_Adolfa_Heyduka,_svazek_56).xml_model_n-1,2.m-LinearSVC.joblib, guessed time period - 1900-1909\n",
      "\tGUESS: model - LOO_1920_Obeti_presvedceni_(in_Spisy_Adolfa_Heyduka,_svazek_56).xml_model_n-1,2.m-LinearSVC.joblib, guessed time period - 1910-1919\n",
      "\tGUESS: model - LOO_1920_Obeti_presvedceni_(in_Spisy_Adolfa_Heyduka,_svazek_56).xml_model_n-1,2.m-LinearSVC.joblib, guessed time period - 1910-1919\n",
      "\tGUESS: model - LOO_1920_Obeti_presvedceni_(in_Spisy_Adolfa_Heyduka,_svazek_56).xml_model_n-1,2.m-LinearSVC.joblib, guessed time period - 1900-1909\n",
      "1920_Obeti_presvedceni_(in_Spisy_Adolfa_Heyduka,_svazek_56).xml Score: {'correct': 0, 'incorrect': 7} Evaluation score: 0.0\n",
      "Evaluating model on 1920_Sny_kralovske_1_(in_Spisy_Adolfa_Heyduka,_svazek_57).xml\n",
      "\tGUESS: model - LOO_1920_Sny_kralovske_1_(in_Spisy_Adolfa_Heyduka,_svazek_57).xml_model_n-1,2.m-LinearSVC.joblib, guessed time period - 1880-1889\n",
      "\tGUESS: model - LOO_1920_Sny_kralovske_1_(in_Spisy_Adolfa_Heyduka,_svazek_57).xml_model_n-1,2.m-LinearSVC.joblib, guessed time period - 1870-1879\n",
      "\tGUESS: model - LOO_1920_Sny_kralovske_1_(in_Spisy_Adolfa_Heyduka,_svazek_57).xml_model_n-1,2.m-LinearSVC.joblib, guessed time period - 1880-1889\n",
      "\tGUESS: model - LOO_1920_Sny_kralovske_1_(in_Spisy_Adolfa_Heyduka,_svazek_57).xml_model_n-1,2.m-LinearSVC.joblib, guessed time period - 1880-1889\n",
      "\tGUESS: model - LOO_1920_Sny_kralovske_1_(in_Spisy_Adolfa_Heyduka,_svazek_57).xml_model_n-1,2.m-LinearSVC.joblib, guessed time period - 1890-1899\n",
      "\tGUESS: model - LOO_1920_Sny_kralovske_1_(in_Spisy_Adolfa_Heyduka,_svazek_57).xml_model_n-1,2.m-LinearSVC.joblib, guessed time period - 1880-1889\n",
      "\tGUESS: model - LOO_1920_Sny_kralovske_1_(in_Spisy_Adolfa_Heyduka,_svazek_57).xml_model_n-1,2.m-LinearSVC.joblib, guessed time period - 1880-1889\n",
      "\tGUESS: model - LOO_1920_Sny_kralovske_1_(in_Spisy_Adolfa_Heyduka,_svazek_57).xml_model_n-1,2.m-LinearSVC.joblib, guessed time period - 1890-1899\n",
      "\tGUESS: model - LOO_1920_Sny_kralovske_1_(in_Spisy_Adolfa_Heyduka,_svazek_57).xml_model_n-1,2.m-LinearSVC.joblib, guessed time period - 1900-1909\n",
      "\tGUESS: model - LOO_1920_Sny_kralovske_1_(in_Spisy_Adolfa_Heyduka,_svazek_57).xml_model_n-1,2.m-LinearSVC.joblib, guessed time period - 1880-1889\n",
      "\tGUESS: model - LOO_1920_Sny_kralovske_1_(in_Spisy_Adolfa_Heyduka,_svazek_57).xml_model_n-1,2.m-LinearSVC.joblib, guessed time period - 1880-1889\n",
      "\tGUESS: model - LOO_1920_Sny_kralovske_1_(in_Spisy_Adolfa_Heyduka,_svazek_57).xml_model_n-1,2.m-LinearSVC.joblib, guessed time period - 1880-1889\n",
      "\tGUESS: model - LOO_1920_Sny_kralovske_1_(in_Spisy_Adolfa_Heyduka,_svazek_57).xml_model_n-1,2.m-LinearSVC.joblib, guessed time period - 1870-1879\n",
      "\tGUESS: model - LOO_1920_Sny_kralovske_1_(in_Spisy_Adolfa_Heyduka,_svazek_57).xml_model_n-1,2.m-LinearSVC.joblib, guessed time period - 1900-1909\n",
      "\tGUESS: model - LOO_1920_Sny_kralovske_1_(in_Spisy_Adolfa_Heyduka,_svazek_57).xml_model_n-1,2.m-LinearSVC.joblib, guessed time period - 1920-1929\n",
      "\tGUESS: model - LOO_1920_Sny_kralovske_1_(in_Spisy_Adolfa_Heyduka,_svazek_57).xml_model_n-1,2.m-LinearSVC.joblib, guessed time period - 1920-1929\n",
      "\tGUESS: model - LOO_1920_Sny_kralovske_1_(in_Spisy_Adolfa_Heyduka,_svazek_57).xml_model_n-1,2.m-LinearSVC.joblib, guessed time period - 1920-1929\n",
      "\tGUESS: model - LOO_1920_Sny_kralovske_1_(in_Spisy_Adolfa_Heyduka,_svazek_57).xml_model_n-1,2.m-LinearSVC.joblib, guessed time period - 1900-1909\n",
      "\tGUESS: model - LOO_1920_Sny_kralovske_1_(in_Spisy_Adolfa_Heyduka,_svazek_57).xml_model_n-1,2.m-LinearSVC.joblib, guessed time period - 1900-1909\n",
      "\tGUESS: model - LOO_1920_Sny_kralovske_1_(in_Spisy_Adolfa_Heyduka,_svazek_57).xml_model_n-1,2.m-LinearSVC.joblib, guessed time period - 1920-1929\n",
      "\tGUESS: model - LOO_1920_Sny_kralovske_1_(in_Spisy_Adolfa_Heyduka,_svazek_57).xml_model_n-1,2.m-LinearSVC.joblib, guessed time period - 1910-1919\n",
      "\tGUESS: model - LOO_1920_Sny_kralovske_1_(in_Spisy_Adolfa_Heyduka,_svazek_57).xml_model_n-1,2.m-LinearSVC.joblib, guessed time period - 1870-1879\n",
      "\tGUESS: model - LOO_1920_Sny_kralovske_1_(in_Spisy_Adolfa_Heyduka,_svazek_57).xml_model_n-1,2.m-LinearSVC.joblib, guessed time period - 1890-1899\n",
      "1920_Sny_kralovske_1_(in_Spisy_Adolfa_Heyduka,_svazek_57).xml Score: {'correct': 4, 'incorrect': 19} Evaluation score: 0.17391304347826086\n",
      "Evaluating model on 1920_Sny_kralovske_2_(in_Spisy_Adolfa_Heyduka,_svazek_58).xml\n",
      "\tGUESS: model - LOO_1920_Sny_kralovske_2_(in_Spisy_Adolfa_Heyduka,_svazek_58).xml_model_n-1,2.m-LinearSVC.joblib, guessed time period - 1870-1879\n",
      "\tGUESS: model - LOO_1920_Sny_kralovske_2_(in_Spisy_Adolfa_Heyduka,_svazek_58).xml_model_n-1,2.m-LinearSVC.joblib, guessed time period - 1900-1909\n",
      "\tGUESS: model - LOO_1920_Sny_kralovske_2_(in_Spisy_Adolfa_Heyduka,_svazek_58).xml_model_n-1,2.m-LinearSVC.joblib, guessed time period - 1900-1909\n",
      "\tGUESS: model - LOO_1920_Sny_kralovske_2_(in_Spisy_Adolfa_Heyduka,_svazek_58).xml_model_n-1,2.m-LinearSVC.joblib, guessed time period - 1900-1909\n",
      "\tGUESS: model - LOO_1920_Sny_kralovske_2_(in_Spisy_Adolfa_Heyduka,_svazek_58).xml_model_n-1,2.m-LinearSVC.joblib, guessed time period - 1870-1879\n",
      "\tGUESS: model - LOO_1920_Sny_kralovske_2_(in_Spisy_Adolfa_Heyduka,_svazek_58).xml_model_n-1,2.m-LinearSVC.joblib, guessed time period - 1870-1879\n",
      "\tGUESS: model - LOO_1920_Sny_kralovske_2_(in_Spisy_Adolfa_Heyduka,_svazek_58).xml_model_n-1,2.m-LinearSVC.joblib, guessed time period - 1870-1879\n",
      "\tGUESS: model - LOO_1920_Sny_kralovske_2_(in_Spisy_Adolfa_Heyduka,_svazek_58).xml_model_n-1,2.m-LinearSVC.joblib, guessed time period - 1890-1899\n",
      "\tGUESS: model - LOO_1920_Sny_kralovske_2_(in_Spisy_Adolfa_Heyduka,_svazek_58).xml_model_n-1,2.m-LinearSVC.joblib, guessed time period - 1920-1929\n",
      "\tGUESS: model - LOO_1920_Sny_kralovske_2_(in_Spisy_Adolfa_Heyduka,_svazek_58).xml_model_n-1,2.m-LinearSVC.joblib, guessed time period - 1910-1919\n",
      "\tGUESS: model - LOO_1920_Sny_kralovske_2_(in_Spisy_Adolfa_Heyduka,_svazek_58).xml_model_n-1,2.m-LinearSVC.joblib, guessed time period - 1910-1919\n",
      "\tGUESS: model - LOO_1920_Sny_kralovske_2_(in_Spisy_Adolfa_Heyduka,_svazek_58).xml_model_n-1,2.m-LinearSVC.joblib, guessed time period - 1910-1919\n",
      "\tGUESS: model - LOO_1920_Sny_kralovske_2_(in_Spisy_Adolfa_Heyduka,_svazek_58).xml_model_n-1,2.m-LinearSVC.joblib, guessed time period - 1900-1909\n",
      "\tGUESS: model - LOO_1920_Sny_kralovske_2_(in_Spisy_Adolfa_Heyduka,_svazek_58).xml_model_n-1,2.m-LinearSVC.joblib, guessed time period - 1880-1889\n",
      "\tGUESS: model - LOO_1920_Sny_kralovske_2_(in_Spisy_Adolfa_Heyduka,_svazek_58).xml_model_n-1,2.m-LinearSVC.joblib, guessed time period - 1890-1899\n",
      "\tGUESS: model - LOO_1920_Sny_kralovske_2_(in_Spisy_Adolfa_Heyduka,_svazek_58).xml_model_n-1,2.m-LinearSVC.joblib, guessed time period - 1890-1899\n",
      "\tGUESS: model - LOO_1920_Sny_kralovske_2_(in_Spisy_Adolfa_Heyduka,_svazek_58).xml_model_n-1,2.m-LinearSVC.joblib, guessed time period - 1880-1889\n",
      "\tGUESS: model - LOO_1920_Sny_kralovske_2_(in_Spisy_Adolfa_Heyduka,_svazek_58).xml_model_n-1,2.m-LinearSVC.joblib, guessed time period - 1890-1899\n",
      "\tGUESS: model - LOO_1920_Sny_kralovske_2_(in_Spisy_Adolfa_Heyduka,_svazek_58).xml_model_n-1,2.m-LinearSVC.joblib, guessed time period - 1880-1889\n",
      "\tGUESS: model - LOO_1920_Sny_kralovske_2_(in_Spisy_Adolfa_Heyduka,_svazek_58).xml_model_n-1,2.m-LinearSVC.joblib, guessed time period - 1880-1889\n",
      "\tGUESS: model - LOO_1920_Sny_kralovske_2_(in_Spisy_Adolfa_Heyduka,_svazek_58).xml_model_n-1,2.m-LinearSVC.joblib, guessed time period - 1870-1879\n",
      "\tGUESS: model - LOO_1920_Sny_kralovske_2_(in_Spisy_Adolfa_Heyduka,_svazek_58).xml_model_n-1,2.m-LinearSVC.joblib, guessed time period - 1900-1909\n",
      "\tGUESS: model - LOO_1920_Sny_kralovske_2_(in_Spisy_Adolfa_Heyduka,_svazek_58).xml_model_n-1,2.m-LinearSVC.joblib, guessed time period - 1900-1909\n",
      "\tGUESS: model - LOO_1920_Sny_kralovske_2_(in_Spisy_Adolfa_Heyduka,_svazek_58).xml_model_n-1,2.m-LinearSVC.joblib, guessed time period - 1900-1909\n",
      "\tGUESS: model - LOO_1920_Sny_kralovske_2_(in_Spisy_Adolfa_Heyduka,_svazek_58).xml_model_n-1,2.m-LinearSVC.joblib, guessed time period - 1900-1909\n",
      "\tGUESS: model - LOO_1920_Sny_kralovske_2_(in_Spisy_Adolfa_Heyduka,_svazek_58).xml_model_n-1,2.m-LinearSVC.joblib, guessed time period - 1900-1909\n",
      "\tGUESS: model - LOO_1920_Sny_kralovske_2_(in_Spisy_Adolfa_Heyduka,_svazek_58).xml_model_n-1,2.m-LinearSVC.joblib, guessed time period - 1900-1909\n",
      "\tGUESS: model - LOO_1920_Sny_kralovske_2_(in_Spisy_Adolfa_Heyduka,_svazek_58).xml_model_n-1,2.m-LinearSVC.joblib, guessed time period - 1870-1879\n",
      "\tGUESS: model - LOO_1920_Sny_kralovske_2_(in_Spisy_Adolfa_Heyduka,_svazek_58).xml_model_n-1,2.m-LinearSVC.joblib, guessed time period - 1890-1899\n",
      "\tGUESS: model - LOO_1920_Sny_kralovske_2_(in_Spisy_Adolfa_Heyduka,_svazek_58).xml_model_n-1,2.m-LinearSVC.joblib, guessed time period - 1890-1899\n",
      "\tGUESS: model - LOO_1920_Sny_kralovske_2_(in_Spisy_Adolfa_Heyduka,_svazek_58).xml_model_n-1,2.m-LinearSVC.joblib, guessed time period - 1900-1909\n",
      "\tGUESS: model - LOO_1920_Sny_kralovske_2_(in_Spisy_Adolfa_Heyduka,_svazek_58).xml_model_n-1,2.m-LinearSVC.joblib, guessed time period - 1900-1909\n",
      "\tGUESS: model - LOO_1920_Sny_kralovske_2_(in_Spisy_Adolfa_Heyduka,_svazek_58).xml_model_n-1,2.m-LinearSVC.joblib, guessed time period - 1900-1909\n",
      "\tGUESS: model - LOO_1920_Sny_kralovske_2_(in_Spisy_Adolfa_Heyduka,_svazek_58).xml_model_n-1,2.m-LinearSVC.joblib, guessed time period - 1870-1879\n",
      "\tGUESS: model - LOO_1920_Sny_kralovske_2_(in_Spisy_Adolfa_Heyduka,_svazek_58).xml_model_n-1,2.m-LinearSVC.joblib, guessed time period - 1900-1909\n",
      "\tGUESS: model - LOO_1920_Sny_kralovske_2_(in_Spisy_Adolfa_Heyduka,_svazek_58).xml_model_n-1,2.m-LinearSVC.joblib, guessed time period - 1890-1899\n",
      "\tGUESS: model - LOO_1920_Sny_kralovske_2_(in_Spisy_Adolfa_Heyduka,_svazek_58).xml_model_n-1,2.m-LinearSVC.joblib, guessed time period - 1890-1899\n",
      "\tGUESS: model - LOO_1920_Sny_kralovske_2_(in_Spisy_Adolfa_Heyduka,_svazek_58).xml_model_n-1,2.m-LinearSVC.joblib, guessed time period - 1890-1899\n",
      "\tGUESS: model - LOO_1920_Sny_kralovske_2_(in_Spisy_Adolfa_Heyduka,_svazek_58).xml_model_n-1,2.m-LinearSVC.joblib, guessed time period - 1900-1909\n",
      "\tGUESS: model - LOO_1920_Sny_kralovske_2_(in_Spisy_Adolfa_Heyduka,_svazek_58).xml_model_n-1,2.m-LinearSVC.joblib, guessed time period - 1900-1909\n",
      "\tGUESS: model - LOO_1920_Sny_kralovske_2_(in_Spisy_Adolfa_Heyduka,_svazek_58).xml_model_n-1,2.m-LinearSVC.joblib, guessed time period - 1880-1889\n",
      "\tGUESS: model - LOO_1920_Sny_kralovske_2_(in_Spisy_Adolfa_Heyduka,_svazek_58).xml_model_n-1,2.m-LinearSVC.joblib, guessed time period - 1900-1909\n",
      "\tGUESS: model - LOO_1920_Sny_kralovske_2_(in_Spisy_Adolfa_Heyduka,_svazek_58).xml_model_n-1,2.m-LinearSVC.joblib, guessed time period - 1900-1909\n",
      "\tGUESS: model - LOO_1920_Sny_kralovske_2_(in_Spisy_Adolfa_Heyduka,_svazek_58).xml_model_n-1,2.m-LinearSVC.joblib, guessed time period - 1920-1929\n",
      "\tGUESS: model - LOO_1920_Sny_kralovske_2_(in_Spisy_Adolfa_Heyduka,_svazek_58).xml_model_n-1,2.m-LinearSVC.joblib, guessed time period - 1910-1919\n",
      "\tGUESS: model - LOO_1920_Sny_kralovske_2_(in_Spisy_Adolfa_Heyduka,_svazek_58).xml_model_n-1,2.m-LinearSVC.joblib, guessed time period - 1910-1919\n",
      "\tGUESS: model - LOO_1920_Sny_kralovske_2_(in_Spisy_Adolfa_Heyduka,_svazek_58).xml_model_n-1,2.m-LinearSVC.joblib, guessed time period - 1880-1889\n",
      "\tGUESS: model - LOO_1920_Sny_kralovske_2_(in_Spisy_Adolfa_Heyduka,_svazek_58).xml_model_n-1,2.m-LinearSVC.joblib, guessed time period - 1900-1909\n",
      "\tGUESS: model - LOO_1920_Sny_kralovske_2_(in_Spisy_Adolfa_Heyduka,_svazek_58).xml_model_n-1,2.m-LinearSVC.joblib, guessed time period - 1920-1929\n",
      "\tGUESS: model - LOO_1920_Sny_kralovske_2_(in_Spisy_Adolfa_Heyduka,_svazek_58).xml_model_n-1,2.m-LinearSVC.joblib, guessed time period - 1890-1899\n",
      "\tGUESS: model - LOO_1920_Sny_kralovske_2_(in_Spisy_Adolfa_Heyduka,_svazek_58).xml_model_n-1,2.m-LinearSVC.joblib, guessed time period - 1890-1899\n",
      "\tGUESS: model - LOO_1920_Sny_kralovske_2_(in_Spisy_Adolfa_Heyduka,_svazek_58).xml_model_n-1,2.m-LinearSVC.joblib, guessed time period - 1910-1919\n",
      "\tGUESS: model - LOO_1920_Sny_kralovske_2_(in_Spisy_Adolfa_Heyduka,_svazek_58).xml_model_n-1,2.m-LinearSVC.joblib, guessed time period - 1880-1889\n",
      "\tGUESS: model - LOO_1920_Sny_kralovske_2_(in_Spisy_Adolfa_Heyduka,_svazek_58).xml_model_n-1,2.m-LinearSVC.joblib, guessed time period - 1900-1909\n",
      "1920_Sny_kralovske_2_(in_Spisy_Adolfa_Heyduka,_svazek_58).xml Score: {'correct': 3, 'incorrect': 51} Evaluation score: 0.05555555555555555\n",
      "Evaluating model on 1921_Epigramy.xml\n",
      "\tGUESS: model - LOO_1921_Epigramy.xml_model_n-1,2.m-LinearSVC.joblib, guessed time period - 1920-1929\n",
      "1921_Epigramy.xml Score: {'correct': 1, 'incorrect': 0} Evaluation score: 1.0\n",
      "Evaluating model on 1921_Sny_kralovske_3_(in_Spisy_Adolfa_Heyduka,_svazek_59).xml\n",
      "\tGUESS: model - LOO_1921_Sny_kralovske_3_(in_Spisy_Adolfa_Heyduka,_svazek_59).xml_model_n-1,2.m-LinearSVC.joblib, guessed time period - 1900-1909\n",
      "\tGUESS: model - LOO_1921_Sny_kralovske_3_(in_Spisy_Adolfa_Heyduka,_svazek_59).xml_model_n-1,2.m-LinearSVC.joblib, guessed time period - 1900-1909\n",
      "\tGUESS: model - LOO_1921_Sny_kralovske_3_(in_Spisy_Adolfa_Heyduka,_svazek_59).xml_model_n-1,2.m-LinearSVC.joblib, guessed time period - 1870-1879\n",
      "\tGUESS: model - LOO_1921_Sny_kralovske_3_(in_Spisy_Adolfa_Heyduka,_svazek_59).xml_model_n-1,2.m-LinearSVC.joblib, guessed time period - 1870-1879\n",
      "\tGUESS: model - LOO_1921_Sny_kralovske_3_(in_Spisy_Adolfa_Heyduka,_svazek_59).xml_model_n-1,2.m-LinearSVC.joblib, guessed time period - 1920-1929\n",
      "\tGUESS: model - LOO_1921_Sny_kralovske_3_(in_Spisy_Adolfa_Heyduka,_svazek_59).xml_model_n-1,2.m-LinearSVC.joblib, guessed time period - 1870-1879\n",
      "\tGUESS: model - LOO_1921_Sny_kralovske_3_(in_Spisy_Adolfa_Heyduka,_svazek_59).xml_model_n-1,2.m-LinearSVC.joblib, guessed time period - 1880-1889\n",
      "\tGUESS: model - LOO_1921_Sny_kralovske_3_(in_Spisy_Adolfa_Heyduka,_svazek_59).xml_model_n-1,2.m-LinearSVC.joblib, guessed time period - 1880-1889\n",
      "\tGUESS: model - LOO_1921_Sny_kralovske_3_(in_Spisy_Adolfa_Heyduka,_svazek_59).xml_model_n-1,2.m-LinearSVC.joblib, guessed time period - 1880-1889\n",
      "\tGUESS: model - LOO_1921_Sny_kralovske_3_(in_Spisy_Adolfa_Heyduka,_svazek_59).xml_model_n-1,2.m-LinearSVC.joblib, guessed time period - 1910-1919\n",
      "\tGUESS: model - LOO_1921_Sny_kralovske_3_(in_Spisy_Adolfa_Heyduka,_svazek_59).xml_model_n-1,2.m-LinearSVC.joblib, guessed time period - 1910-1919\n",
      "\tGUESS: model - LOO_1921_Sny_kralovske_3_(in_Spisy_Adolfa_Heyduka,_svazek_59).xml_model_n-1,2.m-LinearSVC.joblib, guessed time period - 1880-1889\n",
      "\tGUESS: model - LOO_1921_Sny_kralovske_3_(in_Spisy_Adolfa_Heyduka,_svazek_59).xml_model_n-1,2.m-LinearSVC.joblib, guessed time period - 1900-1909\n",
      "\tGUESS: model - LOO_1921_Sny_kralovske_3_(in_Spisy_Adolfa_Heyduka,_svazek_59).xml_model_n-1,2.m-LinearSVC.joblib, guessed time period - 1900-1909\n",
      "\tGUESS: model - LOO_1921_Sny_kralovske_3_(in_Spisy_Adolfa_Heyduka,_svazek_59).xml_model_n-1,2.m-LinearSVC.joblib, guessed time period - 1890-1899\n",
      "\tGUESS: model - LOO_1921_Sny_kralovske_3_(in_Spisy_Adolfa_Heyduka,_svazek_59).xml_model_n-1,2.m-LinearSVC.joblib, guessed time period - 1890-1899\n",
      "\tGUESS: model - LOO_1921_Sny_kralovske_3_(in_Spisy_Adolfa_Heyduka,_svazek_59).xml_model_n-1,2.m-LinearSVC.joblib, guessed time period - 1890-1899\n",
      "\tGUESS: model - LOO_1921_Sny_kralovske_3_(in_Spisy_Adolfa_Heyduka,_svazek_59).xml_model_n-1,2.m-LinearSVC.joblib, guessed time period - 1890-1899\n",
      "\tGUESS: model - LOO_1921_Sny_kralovske_3_(in_Spisy_Adolfa_Heyduka,_svazek_59).xml_model_n-1,2.m-LinearSVC.joblib, guessed time period - 1890-1899\n",
      "\tGUESS: model - LOO_1921_Sny_kralovske_3_(in_Spisy_Adolfa_Heyduka,_svazek_59).xml_model_n-1,2.m-LinearSVC.joblib, guessed time period - 1870-1879\n",
      "\tGUESS: model - LOO_1921_Sny_kralovske_3_(in_Spisy_Adolfa_Heyduka,_svazek_59).xml_model_n-1,2.m-LinearSVC.joblib, guessed time period - 1880-1889\n",
      "\tGUESS: model - LOO_1921_Sny_kralovske_3_(in_Spisy_Adolfa_Heyduka,_svazek_59).xml_model_n-1,2.m-LinearSVC.joblib, guessed time period - 1880-1889\n",
      "\tGUESS: model - LOO_1921_Sny_kralovske_3_(in_Spisy_Adolfa_Heyduka,_svazek_59).xml_model_n-1,2.m-LinearSVC.joblib, guessed time period - 1880-1889\n",
      "\tGUESS: model - LOO_1921_Sny_kralovske_3_(in_Spisy_Adolfa_Heyduka,_svazek_59).xml_model_n-1,2.m-LinearSVC.joblib, guessed time period - 1880-1889\n",
      "\tGUESS: model - LOO_1921_Sny_kralovske_3_(in_Spisy_Adolfa_Heyduka,_svazek_59).xml_model_n-1,2.m-LinearSVC.joblib, guessed time period - 1890-1899\n",
      "\tGUESS: model - LOO_1921_Sny_kralovske_3_(in_Spisy_Adolfa_Heyduka,_svazek_59).xml_model_n-1,2.m-LinearSVC.joblib, guessed time period - 1910-1919\n",
      "\tGUESS: model - LOO_1921_Sny_kralovske_3_(in_Spisy_Adolfa_Heyduka,_svazek_59).xml_model_n-1,2.m-LinearSVC.joblib, guessed time period - 1890-1899\n",
      "\tGUESS: model - LOO_1921_Sny_kralovske_3_(in_Spisy_Adolfa_Heyduka,_svazek_59).xml_model_n-1,2.m-LinearSVC.joblib, guessed time period - 1900-1909\n",
      "\tGUESS: model - LOO_1921_Sny_kralovske_3_(in_Spisy_Adolfa_Heyduka,_svazek_59).xml_model_n-1,2.m-LinearSVC.joblib, guessed time period - 1900-1909\n",
      "\tGUESS: model - LOO_1921_Sny_kralovske_3_(in_Spisy_Adolfa_Heyduka,_svazek_59).xml_model_n-1,2.m-LinearSVC.joblib, guessed time period - 1890-1899\n",
      "\tGUESS: model - LOO_1921_Sny_kralovske_3_(in_Spisy_Adolfa_Heyduka,_svazek_59).xml_model_n-1,2.m-LinearSVC.joblib, guessed time period - 1890-1899\n",
      "\tGUESS: model - LOO_1921_Sny_kralovske_3_(in_Spisy_Adolfa_Heyduka,_svazek_59).xml_model_n-1,2.m-LinearSVC.joblib, guessed time period - 1890-1899\n",
      "\tGUESS: model - LOO_1921_Sny_kralovske_3_(in_Spisy_Adolfa_Heyduka,_svazek_59).xml_model_n-1,2.m-LinearSVC.joblib, guessed time period - 1890-1899\n",
      "\tGUESS: model - LOO_1921_Sny_kralovske_3_(in_Spisy_Adolfa_Heyduka,_svazek_59).xml_model_n-1,2.m-LinearSVC.joblib, guessed time period - 1920-1929\n",
      "\tGUESS: model - LOO_1921_Sny_kralovske_3_(in_Spisy_Adolfa_Heyduka,_svazek_59).xml_model_n-1,2.m-LinearSVC.joblib, guessed time period - 1890-1899\n",
      "\tGUESS: model - LOO_1921_Sny_kralovske_3_(in_Spisy_Adolfa_Heyduka,_svazek_59).xml_model_n-1,2.m-LinearSVC.joblib, guessed time period - 1920-1929\n",
      "1921_Sny_kralovske_3_(in_Spisy_Adolfa_Heyduka,_svazek_59).xml Score: {'correct': 3, 'incorrect': 33} Evaluation score: 0.08333333333333333\n",
      "Evaluating model on 1921_Stesky_na_stezkach_stareho_zpevaka_(in_Spisy_Adolfa_Heyduka,_svazek_60).xml\n",
      "\tGUESS: model - LOO_1921_Stesky_na_stezkach_stareho_zpevaka_(in_Spisy_Adolfa_Heyduka,_svazek_60).xml_model_n-1,2.m-LinearSVC.joblib, guessed time period - 1870-1879\n",
      "1921_Stesky_na_stezkach_stareho_zpevaka_(in_Spisy_Adolfa_Heyduka,_svazek_60).xml Score: {'correct': 0, 'incorrect': 1} Evaluation score: 0.0\n",
      "Evaluating model on 1923_Ciganska_melodie_(in_Spisy_Adolfa_Heyduka,_svazek_61).xml\n",
      "\tGUESS: model - LOO_1923_Ciganska_melodie_(in_Spisy_Adolfa_Heyduka,_svazek_61).xml_model_n-1,2.m-LinearSVC.joblib, guessed time period - 1870-1879\n",
      "1923_Ciganska_melodie_(in_Spisy_Adolfa_Heyduka,_svazek_61).xml Score: {'correct': 0, 'incorrect': 1} Evaluation score: 0.0\n"
     ]
    }
   ],
   "source": [
    "models_files = os.listdir(MODELS_PATH)\n",
    "\n",
    "results = {}\n",
    "details_for_heatmap = defaultdict(int)\n",
    "\n",
    "for possible_model in models_files:\n",
    "    if '_model_n-' in possible_model:\n",
    "        score, eval_score, detail = evaluate_model_on_loo_compostition(possible_model, models_path=MODELS_PATH)\n",
    "\n",
    "        results[possible_model] = {'score': score, 'eval_score': eval_score}\n",
    "\n",
    "        for key in detail:\n",
    "            details_for_heatmap[key] += detail[key]\n",
    "\n"
   ]
  },
  {
   "cell_type": "code",
   "execution_count": 198,
   "metadata": {},
   "outputs": [
    {
     "name": "stdout",
     "output_type": "stream",
     "text": [
      "LOO_1858_Maj.xml_model_n-1,2.m-LinearSVC.joblib {'score': {'correct': 0, 'incorrect': 1}, 'eval_score': 0.0}\n",
      "LOO_1859_Basne.xml_model_n-1,2.m-LinearSVC.joblib {'score': {'correct': 0, 'incorrect': 1}, 'eval_score': 0.0}\n",
      "LOO_1864_Basne_2,_1.xml_model_n-1,2.m-LinearSVC.joblib {'score': {'correct': 0, 'incorrect': 2}, 'eval_score': 0.0}\n",
      "LOO_1865_Basne_2,_2.xml_model_n-1,2.m-LinearSVC.joblib {'score': {'correct': 0, 'incorrect': 2}, 'eval_score': 0.0}\n",
      "LOO_1873_Lesni_kviti.xml_model_n-1,2.m-LinearSVC.joblib {'score': {'correct': 0, 'incorrect': 1}, 'eval_score': 0.0}\n",
      "LOO_1873_Ruch_3.xml_model_n-1,2.m-LinearSVC.joblib {'score': {'correct': 4, 'incorrect': 4}, 'eval_score': 0.5}\n",
      "LOO_1874_Almanach_na_oslavu_25leteho_trvani_Akademicko-ctenarskeho_spolku_prazskeho.xml_model_n-1,2.m-LinearSVC.joblib {'score': {'correct': 2, 'incorrect': 6}, 'eval_score': 0.25}\n",
      "LOO_1876_Cimbal_a_husle.xml_model_n-1,2.m-LinearSVC.joblib {'score': {'correct': 0, 'incorrect': 3}, 'eval_score': 0.0}\n",
      "LOO_1878_Mohamed_II..xml_model_n-1,2.m-LinearSVC.joblib {'score': {'correct': 31, 'incorrect': 219}, 'eval_score': 0.124}\n",
      "LOO_1879_Deduv_odkaz.xml_model_n-1,2.m-LinearSVC.joblib {'score': {'correct': 10, 'incorrect': 57}, 'eval_score': 0.14925373134328357}\n",
      "LOO_1881_Dudak.xml_model_n-1,2.m-LinearSVC.joblib {'score': {'correct': 13, 'incorrect': 34}, 'eval_score': 0.2765957446808511}\n",
      "LOO_1882_Drevorubec.xml_model_n-1,2.m-LinearSVC.joblib {'score': {'correct': 8, 'incorrect': 47}, 'eval_score': 0.14545454545454545}\n",
      "LOO_1883_Oldrich_a_Bozena.xml_model_n-1,2.m-LinearSVC.joblib {'score': {'correct': 2, 'incorrect': 1}, 'eval_score': 0.6666666666666666}\n",
      "LOO_1883_V_zatisi.xml_model_n-1,2.m-LinearSVC.joblib {'score': {'correct': 3, 'incorrect': 0}, 'eval_score': 1.0}\n",
      "LOO_1883_Za_volnost_a_viru.xml_model_n-1,2.m-LinearSVC.joblib {'score': {'correct': 3, 'incorrect': 26}, 'eval_score': 0.10344827586206896}\n",
      "LOO_1884_Horec_a_srdecnik.xml_model_n-1,2.m-LinearSVC.joblib {'score': {'correct': 0, 'incorrect': 2}, 'eval_score': 0.0}\n",
      "LOO_1884_Na_prastkach.xml_model_n-1,2.m-LinearSVC.joblib {'score': {'correct': 5, 'incorrect': 5}, 'eval_score': 0.5}\n",
      "LOO_1885_Pisne.xml_model_n-1,2.m-LinearSVC.joblib {'score': {'correct': 1, 'incorrect': 3}, 'eval_score': 0.25}\n",
      "LOO_1885_Pod_Vitkovym_kamenem.xml_model_n-1,2.m-LinearSVC.joblib {'score': {'correct': 5, 'incorrect': 20}, 'eval_score': 0.2}\n",
      "LOO_1886_Bela.xml_model_n-1,2.m-LinearSVC.joblib {'score': {'correct': 21, 'incorrect': 47}, 'eval_score': 0.3088235294117647}\n",
      "LOO_1886_Zavate_listy.xml_model_n-1,2.m-LinearSVC.joblib {'score': {'correct': 0, 'incorrect': 1}, 'eval_score': 0.0}\n",
      "LOO_1888_Obrazky.xml_model_n-1,2.m-LinearSVC.joblib {'score': {'correct': 3, 'incorrect': 3}, 'eval_score': 0.5}\n",
      "LOO_1888_Pisen_o_bitve_u_Kressenbrunnu.xml_model_n-1,2.m-LinearSVC.joblib {'score': {'correct': 0, 'incorrect': 1}, 'eval_score': 0.0}\n",
      "LOO_1888_Sipy_a_paprsky.xml_model_n-1,2.m-LinearSVC.joblib {'score': {'correct': 0, 'incorrect': 7}, 'eval_score': 0.0}\n",
      "LOO_1890_Na_vlnach.xml_model_n-1,2.m-LinearSVC.joblib {'score': {'correct': 0, 'incorrect': 8}, 'eval_score': 0.0}\n",
      "LOO_1894_Bohatyri.xml_model_n-1,2.m-LinearSVC.joblib {'score': {'correct': 2, 'incorrect': 4}, 'eval_score': 0.3333333333333333}\n",
      "LOO_1894_Na_potulkach.xml_model_n-1,2.m-LinearSVC.joblib {'score': {'correct': 0, 'incorrect': 5}, 'eval_score': 0.0}\n",
      "LOO_1897_Nove_Ciganske_melodie_(in_Spisy_Adolfa_Heyduka,_svazek_1).xml_model_n-1,2.m-LinearSVC.joblib {'score': {'correct': 0, 'incorrect': 2}, 'eval_score': 0.0}\n",
      "LOO_1897_Ptaci_motivy_1,_2_(in_Spisy_Adolfa_Heyduka,_svazek_2).xml_model_n-1,2.m-LinearSVC.joblib {'score': {'correct': 0, 'incorrect': 1}, 'eval_score': 0.0}\n",
      "LOO_1897_Ptaci_motivy_3,_4_(in_Spisy_Adolfa_Heyduka,_svazek_2).xml_model_n-1,2.m-LinearSVC.joblib {'score': {'correct': 2, 'incorrect': 6}, 'eval_score': 0.25}\n",
      "LOO_1898_Cesti_spisovatele_ceskym_delnikum_narodnim_k_1._maji_1898.xml_model_n-1,2.m-LinearSVC.joblib {'score': {'correct': 0, 'incorrect': 1}, 'eval_score': 0.0}\n",
      "LOO_1898_Milota_(in_Spisy_Adolfa_Heyduka,_svazek_7).xml_model_n-1,2.m-LinearSVC.joblib {'score': {'correct': 8, 'incorrect': 97}, 'eval_score': 0.0761904761904762}\n",
      "LOO_1898_Tri_zkazky_(in_Spisy_Adolfa_Heyduka,_svazek_5).xml_model_n-1,2.m-LinearSVC.joblib {'score': {'correct': 0, 'incorrect': 5}, 'eval_score': 0.0}\n",
      "LOO_1899_Dumy_a_dojmy_(in_Spisy_Adolfa_Heyduka,_svazek_13).xml_model_n-1,2.m-LinearSVC.joblib {'score': {'correct': 1, 'incorrect': 0}, 'eval_score': 1.0}\n",
      "LOO_1899_Rosa_a_jini_(in_Spisy_Adolfa_Heyduka,_svazek_15).xml_model_n-1,2.m-LinearSVC.joblib {'score': {'correct': 0, 'incorrect': 1}, 'eval_score': 0.0}\n",
      "LOO_1899_Za_dlouhych_veceru_(in_Spisy_Adolfa_Heyduka,_svazek_14).xml_model_n-1,2.m-LinearSVC.joblib {'score': {'correct': 5, 'incorrect': 2}, 'eval_score': 0.7142857142857143}\n",
      "LOO_1899_Zpevy_posumavskeho_dudaka_1_(in_Spisy_Adolfa_Heyduka,_svazek_10).xml_model_n-1,2.m-LinearSVC.joblib {'score': {'correct': 0, 'incorrect': 8}, 'eval_score': 0.0}\n",
      "LOO_1899_Zpevy_posumavskeho_dudaka_2_(in_Spisy_Adolfa_Heyduka_11).xml_model_n-1,2.m-LinearSVC.joblib {'score': {'correct': 1, 'incorrect': 2}, 'eval_score': 0.3333333333333333}\n",
      "LOO_1899_Zpevy_posumavskeho_dudaka_3_(in_Spisy_Adolfa_Heyduka,_svazek_12).xml_model_n-1,2.m-LinearSVC.joblib {'score': {'correct': 4, 'incorrect': 12}, 'eval_score': 0.25}\n",
      "LOO_1900_Cerne_ruze_(in_Spisy_Adolfa_Heyduka,_svazek_21).xml_model_n-1,2.m-LinearSVC.joblib {'score': {'correct': 0, 'incorrect': 2}, 'eval_score': 0.0}\n",
      "LOO_1900_Na_cerne_hodince_(in_Spisy_Adolfa_Heyduka,_svazek_16).xml_model_n-1,2.m-LinearSVC.joblib {'score': {'correct': 0, 'incorrect': 2}, 'eval_score': 0.0}\n",
      "LOO_1900_Parnasie_(in_Spisy_Adolfa_Heyduka,_svazek_17).xml_model_n-1,2.m-LinearSVC.joblib {'score': {'correct': 1, 'incorrect': 5}, 'eval_score': 0.16666666666666666}\n",
      "LOO_1900_V_polich_(in_Spisy_Adolfa_Heyduka,_svazek_19).xml_model_n-1,2.m-LinearSVC.joblib {'score': {'correct': 0, 'incorrect': 2}, 'eval_score': 0.0}\n",
      "LOO_1900_V_zaseru_minulosti_(in_Spisy_Adolfa_Heyduka,_svazek_18).xml_model_n-1,2.m-LinearSVC.joblib {'score': {'correct': 0, 'incorrect': 6}, 'eval_score': 0.0}\n",
      "LOO_1901_Lotysske_motivy_(in_Spisy_Adolfa_Heyduka,_svazek_23).xml_model_n-1,2.m-LinearSVC.joblib {'score': {'correct': 1, 'incorrect': 0}, 'eval_score': 1.0}\n",
      "LOO_1901_Pohadky_duse_(in_Spisy_Adolfa_Heyduka,_svazek_25).xml_model_n-1,2.m-LinearSVC.joblib {'score': {'correct': 1, 'incorrect': 1}, 'eval_score': 0.5}\n",
      "LOO_1901_V_samotach_(in_Spisy_Adolfa_Heyduka,_svazek_26).xml_model_n-1,2.m-LinearSVC.joblib {'score': {'correct': 1, 'incorrect': 2}, 'eval_score': 0.3333333333333333}\n",
      "LOO_1901_Z_rodnych_hor_(in_Spisy_Adolfa_Heyduka,_svazek_24).xml_model_n-1,2.m-LinearSVC.joblib {'score': {'correct': 0, 'incorrect': 2}, 'eval_score': 0.0}\n",
      "LOO_1902_Biblicke_zvesti_(in_Spisy_Adolfa_Heyduka,_svazek_31).xml_model_n-1,2.m-LinearSVC.joblib {'score': {'correct': 9, 'incorrect': 16}, 'eval_score': 0.36}\n",
      "LOO_1902_Ritornely_(in_Spisy_Adolfa_Heyduka,_svazek_29).xml_model_n-1,2.m-LinearSVC.joblib {'score': {'correct': 0, 'incorrect': 1}, 'eval_score': 0.0}\n",
      "LOO_1902_Z_pouti_na_Kavkaz_(in_Spisy_Adolfa_Heyduka,_svazek_30).xml_model_n-1,2.m-LinearSVC.joblib {'score': {'correct': 1, 'incorrect': 4}, 'eval_score': 0.2}\n",
      "LOO_1903_Cestou_(in_Spisy_Adolfa_Heyduka,_svazek_34).xml_model_n-1,2.m-LinearSVC.joblib {'score': {'correct': 0, 'incorrect': 2}, 'eval_score': 0.0}\n",
      "LOO_1904_Z_deniku_toulaveho_zpevaka_(in_Spisy_Adolfa_Heyduka,_svazek_36).xml_model_n-1,2.m-LinearSVC.joblib {'score': {'correct': 0, 'incorrect': 3}, 'eval_score': 0.0}\n",
      "LOO_1905_Znelky_(in_Spisy_Adolfa_Heyduka,_svazek_40).xml_model_n-1,2.m-LinearSVC.joblib {'score': {'correct': 1, 'incorrect': 0}, 'eval_score': 1.0}\n",
      "LOO_1906_Vychod_a_Zapad_(in_Spisy_Adolfa_Heyduka,_svazek_41).xml_model_n-1,2.m-LinearSVC.joblib {'score': {'correct': 13, 'incorrect': 11}, 'eval_score': 0.5416666666666666}\n",
      "LOO_1908_Apel_k_trunu_za_vrazdy_v_Cernove.xml_model_n-1,2.m-LinearSVC.joblib {'score': {'correct': 5, 'incorrect': 23}, 'eval_score': 0.17857142857142858}\n",
      "LOO_1908_Sekernik_1_(in_Spisy_Adolfa_Heyduka,_svazek_3).xml_model_n-1,2.m-LinearSVC.joblib {'score': {'correct': 31, 'incorrect': 44}, 'eval_score': 0.41333333333333333}\n",
      "LOO_1908_Sekernik_2_(in_Spisy_Adolfa_Heyduka,_svazek_3).xml_model_n-1,2.m-LinearSVC.joblib {'score': {'correct': 8, 'incorrect': 34}, 'eval_score': 0.19047619047619047}\n",
      "LOO_1908_Skudci_a_dobrodruzi_(Spisy_Adolfa_Heyduka,_svazek_46).xml_model_n-1,2.m-LinearSVC.joblib {'score': {'correct': 0, 'incorrect': 9}, 'eval_score': 0.0}\n",
      "LOO_1909_Almanach_akademickeho_spolku_Orlican.xml_model_n-1,2.m-LinearSVC.joblib {'score': {'correct': 5, 'incorrect': 2}, 'eval_score': 0.7142857142857143}\n",
      "LOO_1910_Co_hlavou_tahlo_(in_Spisy_Adolfa_Heyduka,_svazek_50).xml_model_n-1,2.m-LinearSVC.joblib {'score': {'correct': 0, 'incorrect': 1}, 'eval_score': 0.0}\n",
      "LOO_1910_Oddech_v_lese.xml_model_n-1,2.m-LinearSVC.joblib {'score': {'correct': 0, 'incorrect': 7}, 'eval_score': 0.0}\n",
      "LOO_1910_Od_Tater_a_Dunaje_(in_Spisy_Adolfa_Heyduka,_svazek_49).xml_model_n-1,2.m-LinearSVC.joblib {'score': {'correct': 0, 'incorrect': 1}, 'eval_score': 0.0}\n",
      "LOO_1913_Nekolik_povesti_z_Posumavi_(in_Spisy_Adolfa_Heyduka,_svazek_54).xml_model_n-1,2.m-LinearSVC.joblib {'score': {'correct': 0, 'incorrect': 8}, 'eval_score': 0.0}\n",
      "LOO_1913_Rozmanite_zvesti_a_drobne_deje_(in_Spisy_Adolfa_Heyduka,_svazek_53).xml_model_n-1,2.m-LinearSVC.joblib {'score': {'correct': 1, 'incorrect': 33}, 'eval_score': 0.029411764705882353}\n",
      "LOO_1919_Slovensku_(in_Spisy_Adolfa_Heyduka,_svazek_55).xml_model_n-1,2.m-LinearSVC.joblib {'score': {'correct': 0, 'incorrect': 19}, 'eval_score': 0.0}\n",
      "LOO_1920_Obeti_presvedceni_(in_Spisy_Adolfa_Heyduka,_svazek_56).xml_model_n-1,2.m-LinearSVC.joblib {'score': {'correct': 0, 'incorrect': 7}, 'eval_score': 0.0}\n",
      "LOO_1920_Sny_kralovske_1_(in_Spisy_Adolfa_Heyduka,_svazek_57).xml_model_n-1,2.m-LinearSVC.joblib {'score': {'correct': 4, 'incorrect': 19}, 'eval_score': 0.17391304347826086}\n",
      "LOO_1920_Sny_kralovske_2_(in_Spisy_Adolfa_Heyduka,_svazek_58).xml_model_n-1,2.m-LinearSVC.joblib {'score': {'correct': 3, 'incorrect': 51}, 'eval_score': 0.05555555555555555}\n",
      "LOO_1921_Epigramy.xml_model_n-1,2.m-LinearSVC.joblib {'score': {'correct': 1, 'incorrect': 0}, 'eval_score': 1.0}\n",
      "LOO_1921_Sny_kralovske_3_(in_Spisy_Adolfa_Heyduka,_svazek_59).xml_model_n-1,2.m-LinearSVC.joblib {'score': {'correct': 3, 'incorrect': 33}, 'eval_score': 0.08333333333333333}\n",
      "LOO_1921_Stesky_na_stezkach_stareho_zpevaka_(in_Spisy_Adolfa_Heyduka,_svazek_60).xml_model_n-1,2.m-LinearSVC.joblib {'score': {'correct': 0, 'incorrect': 1}, 'eval_score': 0.0}\n",
      "LOO_1923_Ciganska_melodie_(in_Spisy_Adolfa_Heyduka,_svazek_61).xml_model_n-1,2.m-LinearSVC.joblib {'score': {'correct': 0, 'incorrect': 1}, 'eval_score': 0.0}\n"
     ]
    }
   ],
   "source": [
    "for key in results:\n",
    "    print(key, results[key])"
   ]
  },
  {
   "cell_type": "code",
   "execution_count": 199,
   "metadata": {},
   "outputs": [],
   "source": [
    "\"\"\" Counting the segments for each period. \"\"\"\n",
    "\n",
    "segments_in_period = defaultdict(int)\n",
    "\n",
    "for file_name in os.listdir(DATA_PATH_HEYDUK):\n",
    "    if file_name.endswith('.xml'):\n",
    "        data, targets = segment_file_to_data_et_targets(os.path.join(DATA_PATH_HEYDUK, file_name), year_window_size=10, segment_window=10, shift_size=5, feature_type='lemma', autosem_delexicalise=True, ignore_interpunkt=True)\n",
    "\n",
    "        segments_in_period[targets[0]] += len(data)"
   ]
  },
  {
   "cell_type": "code",
   "execution_count": 200,
   "metadata": {},
   "outputs": [],
   "source": [
    "data_for_heatmap = {'true_period': [], 'guessed_period': [], 'percentage': []}\n",
    "for key in details_for_heatmap:\n",
    "    data_for_heatmap['true_period'].append(key[0])\n",
    "    data_for_heatmap['guessed_period'].append(key[1])\n",
    "    data_for_heatmap['percentage'].append(details_for_heatmap[key]/segments_in_period[key[0]])\n",
    "\n",
    "# NOTE: adding empty values for the heatmap\n",
    "for key in segments_in_period:\n",
    "    for key_ in segments_in_period:\n",
    "        if (key, key_) not in details_for_heatmap:\n",
    "            data_for_heatmap['true_period'].append(key)\n",
    "            data_for_heatmap['guessed_period'].append(key_)\n",
    "            data_for_heatmap['percentage'].append(0)\n",
    "\n",
    "df = pd.DataFrame(data_for_heatmap, columns=['true_period', 'guessed_period', 'percentage'])\n",
    "df.to_csv(os.path.join(GUESSES_PATH, 'guesses_details_.m-LinearSVC_.r-08_.n-1,2.s-10.o-5.csv'), header=True)"
   ]
  }
 ],
 "metadata": {
  "kernelspec": {
   "display_name": "Python 3",
   "language": "python",
   "name": "python3"
  },
  "language_info": {
   "codemirror_mode": {
    "name": "ipython",
    "version": 3
   },
   "file_extension": ".py",
   "mimetype": "text/x-python",
   "name": "python",
   "nbconvert_exporter": "python",
   "pygments_lexer": "ipython3",
   "version": "3.13.0"
  }
 },
 "nbformat": 4,
 "nbformat_minor": 2
}
